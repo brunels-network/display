{
 "cells": [
  {
   "cell_type": "code",
   "execution_count": null,
   "metadata": {},
   "outputs": [],
   "source": [
    "import Brunel\n",
    "import datetime\n",
    "import random"
   ]
  },
  {
   "cell_type": "code",
   "execution_count": null,
   "metadata": {},
   "outputs": [],
   "source": [
    "import pandas as pd"
   ]
  },
  {
   "cell_type": "code",
   "execution_count": null,
   "metadata": {},
   "outputs": [],
   "source": [
    "nodes = pd.read_csv(\"input/nodes.csv\")"
   ]
  },
  {
   "cell_type": "code",
   "execution_count": null,
   "metadata": {},
   "outputs": [],
   "source": [
    "edges = pd.read_csv(\"input/edges.csv\")"
   ]
  },
  {
   "cell_type": "code",
   "execution_count": null,
   "metadata": {},
   "outputs": [],
   "source": [
    "nodes"
   ]
  },
  {
   "cell_type": "code",
   "execution_count": null,
   "metadata": {},
   "outputs": [],
   "source": [
    "edges"
   ]
  },
  {
   "cell_type": "markdown",
   "metadata": {},
   "source": [
    "Adding some random dates so that I can test the temporal controls"
   ]
  },
  {
   "cell_type": "code",
   "execution_count": null,
   "metadata": {},
   "outputs": [],
   "source": [
    "days = datetime.timedelta(days=1)\n",
    "weeks = datetime.timedelta(weeks=1)\n",
    "months = 30*days\n",
    "years = datetime.timedelta(days=365)"
   ]
  },
  {
   "cell_type": "code",
   "execution_count": null,
   "metadata": {},
   "outputs": [],
   "source": [
    "def random_date(start=datetime.date(year=1800, month=1, day=1), end=datetime.date(year=1890, month=12, day=31),\n",
    "                within=None):\n",
    "    if within:\n",
    "        start = within[0]\n",
    "        end = within[1]\n",
    "\n",
    "    start = datetime.datetime.combine(start, datetime.time()).timestamp()\n",
    "    end = datetime.datetime.combine(end, datetime.time()).timestamp()\n",
    "    result = start + random.random() * (end - start)\n",
    "    return datetime.datetime.fromtimestamp(result).date()"
   ]
  },
  {
   "cell_type": "code",
   "execution_count": null,
   "metadata": {},
   "outputs": [],
   "source": [
    "def random_duration(start=datetime.date(year=1800, month=1, day=1), \n",
    "                    end=datetime.date(year=1890, month=12, day=31),\n",
    "                    within=None,\n",
    "                    minimum=20*years, maximum=80*years,\n",
    "                    breach_maximum=False):\n",
    "    if within:\n",
    "        start = within[0]\n",
    "        end = within[1]\n",
    "    mindur = minimum.total_seconds()\n",
    "    maxdur = maximum.total_seconds()\n",
    "    start = random_date(start=start, end=end)\n",
    "\n",
    "    if not breach_maximum:\n",
    "        lifedur = (end - start).total_seconds()\n",
    "        if maxdur > lifedur:\n",
    "            maxdur = lifedur\n",
    "        if mindur > maxdur:\n",
    "            mindur = 0.5*maxdur\n",
    "\n",
    "    dur = mindur + random.random() * (maxdur-mindur)\n",
    "\n",
    "    return (start, start + datetime.timedelta(seconds=dur))"
   ]
  },
  {
   "cell_type": "code",
   "execution_count": null,
   "metadata": {},
   "outputs": [],
   "source": [
    "def random_lifetime(start=datetime.date(year=1800, month=1, day=1),\n",
    "                    end=datetime.date(year=1890, month=12, day=31),\n",
    "                    maximum_age=80*years, all_adults=True):\n",
    "    if all_adults:\n",
    "        minimum = 18*years\n",
    "    else:\n",
    "        minimum = 1*day\n",
    "        \n",
    "    return random_duration(start=start, end=end, minimum=minimum, maximum=maximum_age, breach_maximum=True)"
   ]
  },
  {
   "cell_type": "code",
   "execution_count": null,
   "metadata": {},
   "outputs": [],
   "source": [
    "def adult(lifetime):\n",
    "    start = lifetime[0]\n",
    "    end = lifetime[1]\n",
    "    start = start + 18*years\n",
    "    if start > end:\n",
    "        raise ValueError(\"Not an adult %s => %s\" % (start.isoformat(), end.isoformat()))\n",
    "    return (start, end)"
   ]
  },
  {
   "cell_type": "code",
   "execution_count": null,
   "metadata": {},
   "outputs": [],
   "source": [
    "lifetime = random_lifetime()\n",
    "print(lifetime)\n",
    "print(adult(lifetime))\n",
    "print(random_duration(within=adult(lifetime), minimum=6*months, maximum=5*years))\n",
    "print(f\"Lived {(lifetime[1]-lifetime[0]).total_seconds() / (3600*24*365)} years\")"
   ]
  },
  {
   "cell_type": "code",
   "execution_count": null,
   "metadata": {},
   "outputs": [],
   "source": [
    "position = random_duration(within=lifetime, minimum=6*months, maximum=5*years)\n",
    "position"
   ]
  },
  {
   "cell_type": "code",
   "execution_count": null,
   "metadata": {},
   "outputs": [],
   "source": []
  },
  {
   "cell_type": "code",
   "execution_count": null,
   "metadata": {},
   "outputs": [],
   "source": []
  },
  {
   "cell_type": "code",
   "execution_count": null,
   "metadata": {},
   "outputs": [],
   "source": [
    "def add_random_dates_to_node(node):\n",
    "    print(item.__dict__)\n",
    "    return item"
   ]
  },
  {
   "cell_type": "code",
   "execution_count": null,
   "metadata": {},
   "outputs": [],
   "source": [
    "def add_random_dates_to_message(message):\n",
    "    print(message)"
   ]
  },
  {
   "cell_type": "code",
   "execution_count": null,
   "metadata": {},
   "outputs": [],
   "source": [
    "social = Brunel.Social.load_from_csv(\"input/nodes.csv\", \"input/edges.csv\",\n",
    "                                     modifiers={\"person\": add_random_date,\n",
    "                                                \"business\": add_random_dates_to_node,\n",
    "                                                \"message\": add_random_dates_to_message})"
   ]
  },
  {
   "cell_type": "code",
   "execution_count": null,
   "metadata": {},
   "outputs": [],
   "source": [
    "p = social.state[\"messages\"]"
   ]
  },
  {
   "cell_type": "code",
   "execution_count": null,
   "metadata": {},
   "outputs": [],
   "source": []
  },
  {
   "cell_type": "code",
   "execution_count": null,
   "metadata": {},
   "outputs": [],
   "source": []
  }
 ],
 "metadata": {
  "kernelspec": {
   "display_name": "Python 3",
   "language": "python",
   "name": "python3"
  },
  "language_info": {
   "codemirror_mode": {
    "name": "ipython",
    "version": 3
   },
   "file_extension": ".py",
   "mimetype": "text/x-python",
   "name": "python",
   "nbconvert_exporter": "python",
   "pygments_lexer": "ipython3",
   "version": "3.7.4"
  }
 },
 "nbformat": 4,
 "nbformat_minor": 2
}
