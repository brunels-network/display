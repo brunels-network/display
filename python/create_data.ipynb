{
 "cells": [
  {
   "cell_type": "code",
   "execution_count": null,
   "metadata": {},
   "outputs": [],
   "source": [
    "import Brunel"
   ]
  },
  {
   "cell_type": "code",
   "execution_count": null,
   "metadata": {},
   "outputs": [],
   "source": [
    "import pandas as pd"
   ]
  },
  {
   "cell_type": "code",
   "execution_count": null,
   "metadata": {},
   "outputs": [],
   "source": [
    "nodes = pd.read_csv(\"input/nodes.csv\")"
   ]
  },
  {
   "cell_type": "code",
   "execution_count": null,
   "metadata": {},
   "outputs": [],
   "source": [
    "edges = pd.read_csv(\"input/edges.csv\")"
   ]
  },
  {
   "cell_type": "code",
   "execution_count": null,
   "metadata": {},
   "outputs": [],
   "source": [
    "for index, row in nodes.iterrows():\n",
    "    print(row.ID)"
   ]
  },
  {
   "cell_type": "code",
   "execution_count": null,
   "metadata": {},
   "outputs": [],
   "source": [
    "edges"
   ]
  },
  {
   "cell_type": "code",
   "execution_count": null,
   "metadata": {
    "scrolled": true
   },
   "outputs": [],
   "source": [
    "ids = nodes[\"ID\"]\n",
    "labels = nodes[\"Label\"]\n",
    "weights = nodes[\"WEIGHT\"]\n",
    "positions = nodes[\"Position\"]"
   ]
  },
  {
   "cell_type": "code",
   "execution_count": null,
   "metadata": {},
   "outputs": [],
   "source": [
    "possible_groups = [\"director\", \"investor\", \"auditor\", \"engine\", \"trustee\", \n",
    "                   \"banker\", \"naval\", \"build\", \"solicitor\", \"relation\"]\n",
    "groups = []\n",
    "for position in positions:\n",
    "    position = str(position).lower()\n",
    "    found = False\n",
    "    for group in possible_groups:\n",
    "        if position.find(group) != -1:\n",
    "            groups.append(group)\n",
    "            found = True\n",
    "            break\n",
    "    if not found:\n",
    "        groups.append(\"unknown\")\n",
    "     "
   ]
  },
  {
   "cell_type": "code",
   "execution_count": null,
   "metadata": {},
   "outputs": [],
   "source": [
    "for i in range(0,len(ids)):\n",
    "    label = str(labels[i])\n",
    "    \n",
    "    mass = 0.1*int(weights[i])\n",
    "    if mass < 0.1:\n",
    "        mass = 0.1\n",
    "    elif mass > 5.0:\n",
    "        mass = 5.0\n",
    "    \n",
    "    if label.lower().find(\"brunel\") != -1:\n",
    "        net.add_node(n_id=int(ids[i]), label=label, value=int(weights[i]), mass=20,\n",
    "                     group=\"brunel\", borderWidth=5, shape=\"star\", physics=False,\n",
    "                     title=\"Isambard Kingdom Brunel\")\n",
    "    else:\n",
    "        net.add_node(n_id=int(ids[i]), label=str(labels[i]), title=f\"{labels[i]} : {groups[i]} : {positions[i]}\", \n",
    "                     value=int(weights[i]), mass=mass,\n",
    "                     group=groups[i])"
   ]
  },
  {
   "cell_type": "code",
   "execution_count": null,
   "metadata": {},
   "outputs": [],
   "source": [
    "sources = edges[\"Source\"]\n",
    "targets = edges[\"Target\"]\n",
    "typ = edges[\"Type\"]\n",
    "labels = edges[\"Link\"]"
   ]
  },
  {
   "cell_type": "code",
   "execution_count": null,
   "metadata": {},
   "outputs": [],
   "source": [
    "strengths = []\n",
    "colors = []\n",
    "possible = {\"direct\": 2, \"dirct\": 2, \"cirect\": 2, \"strong\": 10, \"indirect\": 1, \"weak\": 1}\n",
    "possible_colors = {10:\"black\", 1:\"lightgray\", 2:\"gray\"}\n",
    "\n",
    "for t in typ:\n",
    "    value = 1\n",
    "    try:\n",
    "        value = possible[t.lower()]\n",
    "    except:\n",
    "        print(t)\n",
    "\n",
    "    colors.append(possible_colors[value])\n",
    "    strengths.append(value)"
   ]
  },
  {
   "cell_type": "code",
   "execution_count": null,
   "metadata": {},
   "outputs": [],
   "source": [
    "for i in range(0,len(sources)):\n",
    "    net.add_edge(int(sources[i]), int(targets[i]), value=strengths[i], title=str(labels[i]), color=colors[i])"
   ]
  },
  {
   "cell_type": "code",
   "execution_count": null,
   "metadata": {},
   "outputs": [],
   "source": [
    "net.set_edge_smooth(\"continuous\")\n",
    "net.inherit_edge_colors(False)\n",
    "net.show_buttons()\n",
    "net.show(\"test.html\")"
   ]
  },
  {
   "cell_type": "code",
   "execution_count": null,
   "metadata": {},
   "outputs": [],
   "source": [
    "import json"
   ]
  },
  {
   "cell_type": "code",
   "execution_count": null,
   "metadata": {
    "scrolled": false
   },
   "outputs": [],
   "source": [
    "data = {\"nodes\": net.nodes, \"edges\": net.edges}\n",
    "json.dumps(data)"
   ]
  },
  {
   "cell_type": "code",
   "execution_count": null,
   "metadata": {},
   "outputs": [],
   "source": [
    "with open(\"data.json\", \"w\") as FILE:\n",
    "    json.dump(data, FILE)"
   ]
  },
  {
   "cell_type": "code",
   "execution_count": null,
   "metadata": {},
   "outputs": [],
   "source": [
    "import pandas as pd\n",
    "\n",
    "nodes = pd.read_csv(\"input/nodes.csv\")\n",
    "\n",
    "edges = pd.read_csv(\"input/edges.csv\")\n",
    "\n",
    "nodes\n",
    "\n",
    "edges\n",
    "\n",
    "from pyvis.network import Network\n",
    "\n",
    "net = Network(\"800px\", \"800px\", notebook=True)\n",
    "\n",
    "ids = nodes[\"ID\"]\n",
    "labels = nodes[\"Label\"]\n",
    "weights = nodes[\"WEIGHT\"]\n",
    "positions = nodes[\"Position\"]\n",
    "\n",
    "possible_groups = [\"director\", \"investor\", \"auditor\", \"engine\", \"trustee\", \n",
    "                   \"banker\", \"naval\", \"build\", \"solicitor\", \"relation\"]\n",
    "groups = []\n",
    "for position in positions:\n",
    "    position = str(position).lower()\n",
    "    found = False\n",
    "    for group in possible_groups:\n",
    "        if position.find(group) != -1:\n",
    "            groups.append(group)\n",
    "            found = True\n",
    "            break\n",
    "    if not found:\n",
    "        groups.append(\"unknown\")\n",
    "     \n",
    "\n",
    "for i in range(0,len(ids)):\n",
    "    label = str(labels[i])\n",
    "    \n",
    "    mass = 0.1*int(weights[i])\n",
    "    if mass < 0.1:\n",
    "        mass = 0.1\n",
    "    elif mass > 5.0:\n",
    "        mass = 5.0\n",
    "    \n",
    "    if label.lower().find(\"brunel\") != -1:\n",
    "        net.add_node(n_id=int(ids[i]), label=label, value=int(weights[i]), mass=20,\n",
    "                     group=\"brunel\", borderWidth=5, shape=\"star\", physics=False,\n",
    "                     title=\"Isambard Kingdom Brunel\")\n",
    "    else:\n",
    "        net.add_node(n_id=int(ids[i]), label=str(labels[i]), title=f\"{labels[i]} : {groups[i]} : {positions[i]}\", \n",
    "                     value=int(weights[i]), mass=mass,\n",
    "                     group=groups[i])\n",
    "\n",
    "sources = edges[\"Source\"]\n",
    "targets = edges[\"Target\"]\n",
    "typ = edges[\"Type\"]\n",
    "labels = edges[\"Link\"]\n",
    "\n",
    "strengths = []\n",
    "colors = []\n",
    "possible = {\"direct\": 2, \"dirct\": 2, \"cirect\": 2, \"strong\": 10, \"indirect\": 1, \"weak\": 1}\n",
    "possible_colors = {10:\"black\", 1:\"lightgray\", 2:\"gray\"}\n",
    "\n",
    "for t in typ:\n",
    "    value = 1\n",
    "    try:\n",
    "        value = possible[t.lower()]\n",
    "    except:\n",
    "        print(t)\n",
    "\n",
    "    colors.append(possible_colors[value])\n",
    "    strengths.append(value)\n",
    "\n",
    "for i in range(0,len(sources)):\n",
    "    net.add_edge(int(sources[i]), int(targets[i]), value=strengths[i], title=str(labels[i]), color=colors[i])\n",
    "\n",
    "net.set_edge_smooth(\"continuous\")\n",
    "net.inherit_edge_colors(False)\n",
    "net.show_buttons()\n",
    "net.show(\"test.html\")\n",
    "\n",
    "import json\n",
    "\n",
    "data = {\"nodes\": net.nodes, \"edges\": net.edges}\n",
    "json.dumps(data)\n",
    "\n",
    "with open(\"data.json\", \"w\") as FILE:\n",
    "    json.dump(data, FILE)"
   ]
  }
 ],
 "metadata": {
  "kernelspec": {
   "display_name": "Python 3",
   "language": "python",
   "name": "python3"
  },
  "language_info": {
   "codemirror_mode": {
    "name": "ipython",
    "version": 3
   },
   "file_extension": ".py",
   "mimetype": "text/x-python",
   "name": "python",
   "nbconvert_exporter": "python",
   "pygments_lexer": "ipython3",
   "version": "3.7.4"
  }
 },
 "nbformat": 4,
 "nbformat_minor": 2
}
