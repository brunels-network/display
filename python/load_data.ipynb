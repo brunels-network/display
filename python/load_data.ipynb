{
 "cells": [
  {
   "cell_type": "code",
   "execution_count": 1,
   "metadata": {},
   "outputs": [],
   "source": [
    "import json\n",
    "\n",
    "from Brunel import Social, stringify, export_object, export_to_json\n",
    "\n",
    "%load_ext autoreload\n",
    "%autoreload 2"
   ]
  },
  {
   "cell_type": "markdown",
   "metadata": {},
   "source": [
    "## Read in spreadsheets and store the data"
   ]
  },
  {
   "cell_type": "code",
   "execution_count": 2,
   "metadata": {},
   "outputs": [],
   "source": [
    "social = Social()"
   ]
  },
  {
   "cell_type": "code",
   "execution_count": 3,
   "metadata": {},
   "outputs": [],
   "source": [
    "social.load_projects(\"input/projects.tsv\")"
   ]
  },
  {
   "cell_type": "code",
   "execution_count": 4,
   "metadata": {},
   "outputs": [],
   "source": [
    "social.load_sources(\"input/sources.tsv\")"
   ]
  },
  {
   "cell_type": "code",
   "execution_count": 5,
   "metadata": {},
   "outputs": [],
   "source": [
    "social.load_graph(project=\"Great Western\", nodes_filepath=\"input/gw_nodes.csv\", edges_filepath=\"input/gw_edges.csv\")"
   ]
  },
  {
   "cell_type": "code",
   "execution_count": 6,
   "metadata": {},
   "outputs": [
    {
     "name": "stdout",
     "output_type": "stream",
     "text": [
      "Is W. E. Acraman the same person as William Edward Acraman? (y/n) y\n",
      "Is Mr. Levy the same person as Levy? (y/n) y\n",
      "Is Mr. Warr the same person as Warr? (y/n) y\n"
     ]
    }
   ],
   "source": [
    "social.load_graph(project=\"Great Britain\", nodes_filepath=\"../raw_data/gb_nodes_updated.csv\", edges_filepath=\"../raw_data/gb_edges.csv\")"
   ]
  },
  {
   "cell_type": "code",
   "execution_count": 7,
   "metadata": {},
   "outputs": [],
   "source": [
    "social.load_biographies(\"input/bios.tsv\")"
   ]
  },
  {
   "cell_type": "code",
   "execution_count": 8,
   "metadata": {},
   "outputs": [
    {
     "data": {
      "text/plain": [
       "235"
      ]
     },
     "execution_count": 8,
     "metadata": {},
     "output_type": "execute_result"
    }
   ],
   "source": [
    "len(social.connections().toDry()[\"registry\"])"
   ]
  },
  {
   "cell_type": "code",
   "execution_count": 10,
   "metadata": {},
   "outputs": [],
   "source": [
    "b = social.businesses()"
   ]
  },
  {
   "cell_type": "code",
   "execution_count": 11,
   "metadata": {},
   "outputs": [
    {
     "data": {
      "text/plain": [
       "{'B83b1e1a': 'Hoare & Barnetts',\n",
       " 'B2bf7131': 'Miles & Harford',\n",
       " 'B1310473': 'Osborne, Ward & Sons',\n",
       " 'B20d95a1': 'Seaward & Co.',\n",
       " 'Ba68fb13': 'Swain, Stevens & Co.'}"
      ]
     },
     "execution_count": 11,
     "metadata": {},
     "output_type": "execute_result"
    }
   ],
   "source": [
    "b.getAll()"
   ]
  },
  {
   "cell_type": "code",
   "execution_count": 13,
   "metadata": {},
   "outputs": [
    {
     "data": {
      "text/plain": [
       "{'J0f71acc': [Position(commercial representative)],\n",
       " 'J6c3319b': [Position(commercial representative)]}"
      ]
     },
     "execution_count": 13,
     "metadata": {},
     "output_type": "execute_result"
    }
   ],
   "source": [
    "b.get(\"B2bf7131\").getPositions()"
   ]
  },
  {
   "cell_type": "markdown",
   "metadata": {},
   "source": [
    "### Write the data used for the graph to JSON file"
   ]
  },
  {
   "cell_type": "code",
   "execution_count": 14,
   "metadata": {},
   "outputs": [
    {
     "name": "stdout",
     "output_type": "stream",
     "text": [
      "Creating backup of previous version at  dataWeights-20200615-142010.json\n"
     ]
    }
   ],
   "source": [
    "export_object(social, \"dataWeights.json\")"
   ]
  },
  {
   "cell_type": "markdown",
   "metadata": {},
   "source": [
    "## Output source IDs and names for matching with image filenames"
   ]
  },
  {
   "cell_type": "markdown",
   "metadata": {},
   "source": [
    "### Get source names"
   ]
  },
  {
   "cell_type": "code",
   "execution_count": 15,
   "metadata": {},
   "outputs": [],
   "source": [
    "sources = social.sources()"
   ]
  },
  {
   "cell_type": "code",
   "execution_count": 16,
   "metadata": {},
   "outputs": [],
   "source": [
    "source_names = sources.getRegistryForImages()"
   ]
  },
  {
   "cell_type": "markdown",
   "metadata": {},
   "source": [
    "Get the number of sources"
   ]
  },
  {
   "cell_type": "code",
   "execution_count": 17,
   "metadata": {},
   "outputs": [
    {
     "name": "stdout",
     "output_type": "stream",
     "text": [
      "We have 110 sources\n"
     ]
    }
   ],
   "source": [
    "print(f\"We have {len(source_names)} sources\")"
   ]
  },
  {
   "cell_type": "markdown",
   "metadata": {},
   "source": [
    "Output the list of sources to JSON file to allow easier matching with image filenames"
   ]
  },
  {
   "cell_type": "code",
   "execution_count": 18,
   "metadata": {},
   "outputs": [
    {
     "name": "stdout",
     "output_type": "stream",
     "text": [
      "Creating backup of previous version at  sourceImageFilenames-20200615-142015.json\n"
     ]
    }
   ],
   "source": [
    "export_to_json(source_names, \"sourceImageFilenames.json\")    "
   ]
  },
  {
   "cell_type": "markdown",
   "metadata": {},
   "source": [
    "### Output the source IDs for matching with images"
   ]
  },
  {
   "cell_type": "markdown",
   "metadata": {},
   "source": [
    "### Output a JSON file for images of people or companies"
   ]
  },
  {
   "cell_type": "code",
   "execution_count": 20,
   "metadata": {},
   "outputs": [
    {
     "name": "stdout",
     "output_type": "stream",
     "text": [
      "Creating backup of previous version at  entityImageFilenames-20200615-142030.json\n"
     ]
    }
   ],
   "source": [
    "people = social.people()\n",
    "n = people.getAllForImages()\n",
    "\n",
    "businesses = social.businesses()\n",
    "b = businesses.getAllForImages()\n",
    "\n",
    "n.update(b)\n",
    "\n",
    "export_to_json(n, \"entityImageFilenames.json\")"
   ]
  },
  {
   "cell_type": "code",
   "execution_count": 21,
   "metadata": {},
   "outputs": [
    {
     "data": {
      "text/plain": [
       "{'Pe5ca9e5': {'name': 'Captain RN Walcott', 'filename': 'file.jpg'},\n",
       " 'P1b3fdaa': {'name': 'Captain Superintendent RN Jackson',\n",
       "  'filename': 'file.jpg'},\n",
       " 'Pdd8e6bd': {'name': 'Robert Young', 'filename': 'file.jpg'},\n",
       " 'Pafd3f2b': {'name': 'Oliver Lang', 'filename': 'file.jpg'},\n",
       " 'P99305fd': {'name': 'William Edward Acraman', 'filename': 'file.jpg'},\n",
       " 'Pbc5a551': {'name': 'William Bruce Adair', 'filename': 'file.jpg'},\n",
       " 'P51cea03': {'name': 'John Barnes', 'filename': 'file.jpg'},\n",
       " 'Pda349e7': {'name': 'John Barrow', 'filename': 'file.jpg'},\n",
       " 'P5b165bb': {'name': 'J. P. Bartrun', 'filename': 'file.jpg'},\n",
       " 'P9251872': {'name': 'J. Bates', 'filename': 'file.jpg'},\n",
       " 'P9d37c8f': {'name': 'Thomas Kington Bayly', 'filename': 'file.jpg'},\n",
       " 'P0cc453b': {'name': 'Thomas Baynton', 'filename': 'file.jpg'},\n",
       " 'Pb2609bf': {'name': 'Robert Bright', 'filename': 'file.jpg'},\n",
       " 'P2fea7ed': {'name': 'Isambard Kingdom Brunel', 'filename': 'file.jpg'},\n",
       " 'P837b9d5': {'name': 'Henry Bush', 'filename': 'file.jpg'},\n",
       " 'P6c42966': {'name': 'W. H. Castle', 'filename': 'file.jpg'},\n",
       " 'Pa4e4887': {'name': 'Captain Ed R. N. Chappel', 'filename': 'file.jpg'},\n",
       " 'Pb6617d0': {'name': 'J. B. Clarke', 'filename': 'file.jpg'},\n",
       " 'P8dd1e37': {'name': 'Christopher Claxton', 'filename': 'file.jpg'},\n",
       " 'P8de4b45': {'name': 'William Claxton', 'filename': 'file.jpg'},\n",
       " 'P2b6ab58': {'name': 'Coalbrookdale Foundry', 'filename': 'file.jpg'},\n",
       " 'Pb1f418e': {'name': 'Joseph Cookson', 'filename': 'file.jpg'},\n",
       " 'P153abd9': {'name': 'Captain Crozier', 'filename': 'file.jpg'},\n",
       " 'P07cbaba': {'name': 'Thomas Cruttwell', 'filename': 'file.jpg'},\n",
       " 'Pf2b1c79': {'name': 'James Cunningham', 'filename': 'file.jpg'},\n",
       " 'P33dcfe7': {'name': 'Bryan Donkin', 'filename': 'file.jpg'},\n",
       " 'P9360428': {'name': 'Mr. Dowell', 'filename': 'file.jpg'},\n",
       " 'P9772222': {'name': 'John Edye', 'filename': 'file.jpg'},\n",
       " 'P6ad93cf': {'name': 'William Fairbairn', 'filename': 'file.jpg'},\n",
       " 'P2cf5e09': {'name': 'F. H. Falkner', 'filename': 'file.jpg'},\n",
       " 'P693400b': {'name': 'Joshua Field', 'filename': 'file.jpg'},\n",
       " 'P75f61ba': {'name': 'Dr. Charles Fox', 'filename': 'file.jpg'},\n",
       " 'P2f3f715': {'name': 'Charles Fripp', 'filename': 'file.jpg'},\n",
       " 'P35bb5b8': {'name': 'George H. Gibbs', 'filename': 'file.jpg'},\n",
       " 'P3808b9f': {'name': 'Henry G. Godwin', 'filename': 'file.jpg'},\n",
       " 'P5bbac6d': {'name': 'John Grantham', 'filename': 'file.jpg'},\n",
       " 'P410e3f4': {'name': 'Thomas Guppy', 'filename': 'file.jpg'},\n",
       " 'Pbef0f60': {'name': 'Samuel Hall', 'filename': 'file.jpg'},\n",
       " 'P6ea106a': {'name': 'W. Hamilton', 'filename': 'file.jpg'},\n",
       " 'Pb0a5709': {'name': 'John Hare', 'filename': 'file.jpg'},\n",
       " 'Pb06a8aa': {'name': 'John Harford', 'filename': 'file.jpg'},\n",
       " 'Pc10335d': {'name': 'Francis Humphrys', 'filename': 'file.jpg'},\n",
       " 'P8cd2fac': {'name': 'Richard Irvin', 'filename': 'file.jpg'},\n",
       " 'P51415c0': {'name': 'A. P. Johnson', 'filename': 'file.jpg'},\n",
       " 'P1318cbf': {'name': 'Thomas Kingsbury', 'filename': 'file.jpg'},\n",
       " 'P15989aa': {'name': 'Thomas Kington', 'filename': 'file.jpg'},\n",
       " 'P5a4b3cf': {'name': 'John Laird', 'filename': 'file.jpg'},\n",
       " 'Pa3e6739': {'name': 'Mr. Levy', 'filename': 'file.jpg'},\n",
       " 'P6bdef85': {'name': 'Miss. Lucas', 'filename': 'file.jpg'},\n",
       " 'Pe8b0e83': {'name': 'Samuel Lucas', 'filename': 'file.jpg'},\n",
       " 'P7d89072': {'name': 'George Lunnell', 'filename': 'file.jpg'},\n",
       " 'P45d9058': {'name': 'Peter Maze (the elder)', 'filename': 'file.jpg'},\n",
       " 'P4713150': {'name': 'John William Miles', 'filename': 'file.jpg'},\n",
       " 'Pb9206af': {'name': 'Missing', 'filename': 'file.jpg'},\n",
       " 'P59a11e4': {'name': 'W. Morgan', 'filename': 'file.jpg'},\n",
       " 'Pce3e062': {'name': 'John Moxham', 'filename': 'file.jpg'},\n",
       " 'Pde99f77': {'name': 'Mr. Harding', 'filename': 'file.jpg'},\n",
       " 'P45a25a2': {'name': 'G. Norman', 'filename': 'file.jpg'},\n",
       " 'Peffd969': {'name': 'William Edward Parry', 'filename': 'file.jpg'},\n",
       " 'Pf357709': {'name': 'William Patterson', 'filename': 'file.jpg'},\n",
       " 'Pfccd3de': {'name': 'Thomas Pycroft', 'filename': 'file.jpg'},\n",
       " 'P4c06537': {'name': 'George Rennie', 'filename': 'file.jpg'},\n",
       " 'P543a3e6': {'name': 'Richard Robinson', 'filename': 'file.jpg'},\n",
       " 'Pdf182f5': {'name': 'Robert Scott', 'filename': 'file.jpg'},\n",
       " 'Pafe8689': {'name': 'Francis Petit Smith', 'filename': 'file.jpg'},\n",
       " 'P4ff1b36': {'name': 'Mr. Smith', 'filename': 'file.jpg'},\n",
       " 'P4c40ef5': {'name': 'John Stafford', 'filename': 'file.jpg'},\n",
       " 'P780d7b6': {'name': 'Mr. Stedder', 'filename': 'file.jpg'},\n",
       " 'Pfe0ae5c': {'name': 'Robert Stephenson', 'filename': 'file.jpg'},\n",
       " 'P83d988e': {'name': 'William Symonds', 'filename': 'file.jpg'},\n",
       " 'Pc3bde15': {'name': 'John Taylor', 'filename': 'file.jpg'},\n",
       " 'P38f40f0': {'name': 'Rev. Taylor', 'filename': 'file.jpg'},\n",
       " 'Pfbf2373': {'name': 'John Vining', 'filename': 'file.jpg'},\n",
       " 'P672fb90': {'name': 'Mr. Warr', 'filename': 'file.jpg'},\n",
       " 'P987dcda': {'name': 'Thomas Boneville Were', 'filename': 'file.jpg'},\n",
       " 'Pd3c21d3': {'name': 'John Winwood', 'filename': 'file.jpg'},\n",
       " 'B83b1e1a': {'name': 'Hoare & Barnetts', 'filename': 'file.jpg'},\n",
       " 'B2bf7131': {'name': 'Miles & Harford', 'filename': 'file.jpg'},\n",
       " 'B1310473': {'name': 'Osborne, Ward & Sons', 'filename': 'file.jpg'},\n",
       " 'B20d95a1': {'name': 'Seaward & Co.', 'filename': 'file.jpg'},\n",
       " 'Ba68fb13': {'name': 'Swain, Stevens & Co.', 'filename': 'file.jpg'}}"
      ]
     },
     "execution_count": 21,
     "metadata": {},
     "output_type": "execute_result"
    }
   ],
   "source": [
    "n"
   ]
  },
  {
   "cell_type": "code",
   "execution_count": null,
   "metadata": {},
   "outputs": [],
   "source": []
  }
 ],
 "metadata": {
  "kernelspec": {
   "display_name": "Python 3",
   "language": "python",
   "name": "python3"
  },
  "language_info": {
   "codemirror_mode": {
    "name": "ipython",
    "version": 3
   },
   "file_extension": ".py",
   "mimetype": "text/x-python",
   "name": "python",
   "nbconvert_exporter": "python",
   "pygments_lexer": "ipython3",
   "version": "3.8.3"
  }
 },
 "nbformat": 4,
 "nbformat_minor": 2
}
