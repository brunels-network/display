{
 "cells": [
  {
   "cell_type": "code",
   "execution_count": null,
   "metadata": {},
   "outputs": [],
   "source": [
    "from Brunel import Social, export_all, copy_all"
   ]
  },
  {
   "cell_type": "markdown",
   "metadata": {},
   "source": [
    "## Read in data and create the network"
   ]
  },
  {
   "cell_type": "code",
   "execution_count": null,
   "metadata": {},
   "outputs": [],
   "source": [
    "social = Social()"
   ]
  },
  {
   "cell_type": "markdown",
   "metadata": {},
   "source": [
    "Read in a list of projects from a tab separated file"
   ]
  },
  {
   "cell_type": "code",
   "execution_count": null,
   "metadata": {},
   "outputs": [],
   "source": [
    "social.load_projects(\"input/datakey.xlsx\", sheet_name=\"Projects\")"
   ]
  },
  {
   "cell_type": "markdown",
   "metadata": {},
   "source": [
    "Read in a list of sources"
   ]
  },
  {
   "cell_type": "code",
   "execution_count": null,
   "metadata": {},
   "outputs": [],
   "source": [
    "social.load_sources(\"input/datakey.xlsx\", sheet_name=\"Sources\")"
   ]
  },
  {
   "cell_type": "markdown",
   "metadata": {},
   "source": [
    "Now we need to load in the node and edge data for each ship, note that the project name here must match a name given when loading in the projects above."
   ]
  },
  {
   "cell_type": "code",
   "execution_count": null,
   "metadata": {
    "scrolled": false
   },
   "outputs": [],
   "source": [
    "social.load_graph(project=\"Great Western\", \n",
    "                  nodes_filepath=\"input/gw_nodes.xlsx\", \n",
    "                  edges_filepath=\"input/gw_edges.xlsx\")"
   ]
  },
  {
   "cell_type": "code",
   "execution_count": null,
   "metadata": {},
   "outputs": [],
   "source": [
    "social.load_graph(project=\"Great Britain\", \n",
    "                  nodes_filepath=\"input/gb_nodes.xlsx\", \n",
    "                  edges_filepath=\"input/gb_edges.xlsx\")"
   ]
  },
  {
   "cell_type": "code",
   "execution_count": null,
   "metadata": {},
   "outputs": [],
   "source": [
    "social.load_graph(project=\"Great Eastern\", \n",
    "                  nodes_filepath=\"input/ge_nodes.xlsx\", \n",
    "                  edges_filepath=\"input/ge_edges.xlsx\")"
   ]
  },
  {
   "cell_type": "markdown",
   "metadata": {},
   "source": [
    "Read in the biographies for entities in the network"
   ]
  },
  {
   "cell_type": "code",
   "execution_count": null,
   "metadata": {},
   "outputs": [],
   "source": [
    "social.load_biographies(\"input/datakey.xlsx\", sheet_name=\"Node Bio's\")"
   ]
  },
  {
   "cell_type": "markdown",
   "metadata": {},
   "source": [
    "### Export to JSON"
   ]
  },
  {
   "cell_type": "markdown",
   "metadata": {},
   "source": [
    "We're now ready to export the data to file. The `export_all` function writes three files\n",
    "\n",
    "1. The social network itself - `socialNetwork.json`\n",
    "2. Source names for matching to image files of scanned documents - `entityImageFilenames.json`\n",
    "3. A list of entities for matching to image files of portraits - `sourceImageFilenames.json`\n",
    "\n",
    "This function will create timestamped backups of previous files if any are found."
   ]
  },
  {
   "cell_type": "code",
   "execution_count": null,
   "metadata": {},
   "outputs": [],
   "source": [
    "export_all(social)"
   ]
  },
  {
   "cell_type": "markdown",
   "metadata": {},
   "source": [
    "### Copy your new social network"
   ]
  },
  {
   "cell_type": "markdown",
   "metadata": {},
   "source": [
    "To copy the files into the correct directory within the Javascript `src` folder the `copy_all` function is used. This will ask for confirmation of overwrite."
   ]
  },
  {
   "cell_type": "code",
   "execution_count": null,
   "metadata": {},
   "outputs": [],
   "source": [
    "copy_all()"
   ]
  },
  {
   "cell_type": "markdown",
   "metadata": {},
   "source": [
    "Your newly created social network should now be visible as a force graph. If you have any problems or find any errors in any of the functions used here or anywhere in the software, please [open an issue](https://github.com/brunels-network/network/issues/new/choose)."
   ]
  },
  {
   "cell_type": "code",
   "execution_count": null,
   "metadata": {},
   "outputs": [],
   "source": [
    "images = {}"
   ]
  },
  {
   "cell_type": "code",
   "execution_count": null,
   "metadata": {},
   "outputs": [],
   "source": [
    "images[social.projects().find(\"Great Western\").getID()] = \"images/ships/Great_Western.jpg\""
   ]
  },
  {
   "cell_type": "code",
   "execution_count": null,
   "metadata": {},
   "outputs": [],
   "source": [
    "images[social.projects().find(\"Great Eastern\").getID()] = \"images/ships/Great_Eastern.jpg\""
   ]
  },
  {
   "cell_type": "code",
   "execution_count": null,
   "metadata": {},
   "outputs": [],
   "source": [
    "images[social.projects().find(\"Great Britain\").getID()] = \"images/ships/Great_Britain.jpg\""
   ]
  },
  {
   "cell_type": "code",
   "execution_count": null,
   "metadata": {},
   "outputs": [],
   "source": [
    "images[social.people().find(\"Christopher Claxton\").getID()] = \"images/people/Christopher_Claxton.jpg\""
   ]
  },
  {
   "cell_type": "code",
   "execution_count": null,
   "metadata": {},
   "outputs": [],
   "source": [
    "images[social.people().find(\"John Grantham\").getID()] = \"images/people/John_Grantham.jpg\""
   ]
  },
  {
   "cell_type": "code",
   "execution_count": null,
   "metadata": {},
   "outputs": [],
   "source": [
    "images[social.people().find(\"Robert Bright\").getID()] = \"images/people/Robert_Bright.jpg\""
   ]
  },
  {
   "cell_type": "code",
   "execution_count": null,
   "metadata": {},
   "outputs": [],
   "source": [
    "images[social.people().find(\"Samuel Hall\").getID()] = \"images/people/Samuel_Hall.jpg\""
   ]
  },
  {
   "cell_type": "code",
   "execution_count": null,
   "metadata": {},
   "outputs": [],
   "source": [
    "images[social.people().find(\"William Fairbairn\").getID()] = \"images/people/William_Fairbairn.jpg\""
   ]
  },
  {
   "cell_type": "code",
   "execution_count": null,
   "metadata": {},
   "outputs": [],
   "source": [
    "images[social.people().find(\"William Symonds\").getID()] = \"images/people/William_Symbonds.jpg\""
   ]
  },
  {
   "cell_type": "code",
   "execution_count": null,
   "metadata": {},
   "outputs": [],
   "source": [
    "images[social.people().find(\"Bryan Donkin\").getID()] = \"images/people/Bryan_Donkin.jpg\""
   ]
  },
  {
   "cell_type": "code",
   "execution_count": null,
   "metadata": {},
   "outputs": [],
   "source": [
    "images[social.people().find(\"Edward Chappel\").getID()] = \"images/people/Edward_Chappell.jpg\""
   ]
  },
  {
   "cell_type": "code",
   "execution_count": null,
   "metadata": {},
   "outputs": [],
   "source": [
    "images"
   ]
  },
  {
   "cell_type": "code",
   "execution_count": null,
   "metadata": {},
   "outputs": [],
   "source": [
    "import json"
   ]
  },
  {
   "cell_type": "code",
   "execution_count": null,
   "metadata": {},
   "outputs": [],
   "source": [
    "with open(\"images.json\", \"w\") as FILE:\n",
    "    FILE.write(json.dumps(images, indent=2))"
   ]
  },
  {
   "cell_type": "code",
   "execution_count": null,
   "metadata": {},
   "outputs": [],
   "source": []
  }
 ],
 "metadata": {
  "kernelspec": {
   "display_name": "Python 3",
   "language": "python",
   "name": "python3"
  },
  "language_info": {
   "codemirror_mode": {
    "name": "ipython",
    "version": 3
   },
   "file_extension": ".py",
   "mimetype": "text/x-python",
   "name": "python",
   "nbconvert_exporter": "python",
   "pygments_lexer": "ipython3",
   "version": "3.7.8"
  }
 },
 "nbformat": 4,
 "nbformat_minor": 2
}
