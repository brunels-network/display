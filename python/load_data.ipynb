{
 "cells": [
  {
   "cell_type": "code",
   "execution_count": 1,
   "metadata": {},
   "outputs": [],
   "source": [
    "from Brunel import Social, export_all, copy_all"
   ]
  },
  {
   "cell_type": "markdown",
   "metadata": {},
   "source": [
    "## Read in data and create the network"
   ]
  },
  {
   "cell_type": "code",
   "execution_count": 2,
   "metadata": {},
   "outputs": [],
   "source": [
    "social = Social()"
   ]
  },
  {
   "cell_type": "markdown",
   "metadata": {},
   "source": [
    "Read in a list of projects from a tab separated file"
   ]
  },
  {
   "cell_type": "code",
   "execution_count": 3,
   "metadata": {},
   "outputs": [],
   "source": [
    "social.load_projects(\"input/projects.tsv\")"
   ]
  },
  {
   "cell_type": "markdown",
   "metadata": {},
   "source": [
    "Read in a list of sources"
   ]
  },
  {
   "cell_type": "code",
   "execution_count": 4,
   "metadata": {},
   "outputs": [],
   "source": [
    "social.load_sources(\"input/sources_datakey5.csv\")"
   ]
  },
  {
   "cell_type": "markdown",
   "metadata": {},
   "source": [
    "Now we need to load in the node and edge data for each ship, note that the project name here must match a name given when loading in the projects above."
   ]
  },
  {
   "cell_type": "code",
   "execution_count": 5,
   "metadata": {
    "scrolled": false
   },
   "outputs": [],
   "source": [
    "social.load_graph(project=\"Great Western\", nodes_filepath=\"input/gw_nodes.csv\", edges_filepath=\"input/gw_edges.csv\")"
   ]
  },
  {
   "cell_type": "code",
   "execution_count": 6,
   "metadata": {},
   "outputs": [
    {
     "name": "stdout",
     "output_type": "stream",
     "text": [
      "Is W. E. Acraman the same person as William Edward Acraman? (y/n) y\n",
      "Is Mr. Levy the same person as Levy? (y/n) y\n",
      "Is Mr. Warr the same person as Warr? (y/n) y\n"
     ]
    }
   ],
   "source": [
    "social.load_graph(project=\"Great Britain\", nodes_filepath=\"input/gb_nodes.csv\", edges_filepath=\"input/gb_edges.csv\")"
   ]
  },
  {
   "cell_type": "code",
   "execution_count": 7,
   "metadata": {},
   "outputs": [
    {
     "name": "stdout",
     "output_type": "stream",
     "text": [
      "Is William Barber the same person as W. Barber? (y/n) n\n",
      "Is R. I. R. Campbell the same person as R. J. R. Campbell? (y/n) y\n",
      "Is Mr. Lucas the same person as Miss. Lucas? (y/n) n\n",
      "Is Alexander S. Ross the same person as Alexander M. Ross? (y/n) n\n"
     ]
    }
   ],
   "source": [
    "social.load_graph(project=\"Great Eastern\", nodes_filepath=\"input/ge_nodes_v5.csv\", edges_filepath=\"input/ge_edges.csv\")"
   ]
  },
  {
   "cell_type": "markdown",
   "metadata": {},
   "source": [
    "Read in the biographies for entities in the network"
   ]
  },
  {
   "cell_type": "code",
   "execution_count": 8,
   "metadata": {},
   "outputs": [
    {
     "name": "stdout",
     "output_type": "stream",
     "text": [
      "Nearest matches are [Person(Edward Brown Whitstone), Person(Frederick Brown), Person(Robert Brown), Person(J. Weir D Brown)]\n",
      "There is nothing called Brown, Lenox & Co. for which to give a biography!\n",
      "Nearest matches are [Person(Dr. Charles Fox), Person(R. W. Fox)]\n",
      "There is nothing called Fox, Henderson & Co. for which to give a biography!\n",
      "There is already a biography for Person(George Gibbs)\n",
      "There is nothing called J. Abbotts & Co. for which to give a biography!\n",
      "There is already a biography for Person(Reverend Septimus Jones)\n"
     ]
    }
   ],
   "source": [
    "social.load_biographies(\"input/bios_datakey5.csv\")"
   ]
  },
  {
   "cell_type": "markdown",
   "metadata": {},
   "source": [
    "### Export to JSON"
   ]
  },
  {
   "cell_type": "markdown",
   "metadata": {},
   "source": [
    "We're now ready to export the data to file. The `export_all` function writes three files\n",
    "\n",
    "1. The social network itself - `socialNetwork.json`\n",
    "2. Source names for matching to image files of scanned documents - `entityImageFilenames.json`\n",
    "3. A list of entities for matching to image files of portraits - `sourceImageFilenames.json`\n",
    "\n",
    "This function will create timestamped backups of previous files if any are found."
   ]
  },
  {
   "cell_type": "code",
   "execution_count": 9,
   "metadata": {},
   "outputs": [
    {
     "name": "stdout",
     "output_type": "stream",
     "text": [
      "socialNetwork.json written\n",
      "sourceImageFilenames.json written\n",
      "entityImageFilenames.json written\n"
     ]
    }
   ],
   "source": [
    "export_all(social)"
   ]
  },
  {
   "cell_type": "markdown",
   "metadata": {},
   "source": [
    "### Copy your new social network"
   ]
  },
  {
   "cell_type": "markdown",
   "metadata": {},
   "source": [
    "To copy the files into the correct directory within the Javascript `src` folder the `copy_all` function is used. This will ask for confirmation of overwrite."
   ]
  },
  {
   "cell_type": "code",
   "execution_count": 10,
   "metadata": {},
   "outputs": [
    {
     "name": "stdout",
     "output_type": "stream",
     "text": [
      "Are you sure you want to overwrite ../src/socialNetwork.json?\n",
      "yes\n",
      "Are you sure you want to overwrite ../src/data/sourceImageFilenames.json?\n",
      "yes\n",
      "Are you sure you want to overwrite ../src/data/entityImageFilenames.json?\n",
      "yes\n"
     ]
    }
   ],
   "source": [
    "copy_all()"
   ]
  },
  {
   "cell_type": "markdown",
   "metadata": {},
   "source": [
    "Your newly created social network should now be visible as a force graph. If you have any problems or find any errors in any of the functions used here or anywhere in the software, please [open an issue](https://github.com/brunels-network/network/issues/new/choose)."
   ]
  }
 ],
 "metadata": {
  "kernelspec": {
   "display_name": "Python 3",
   "language": "python",
   "name": "python3"
  },
  "language_info": {
   "codemirror_mode": {
    "name": "ipython",
    "version": 3
   },
   "file_extension": ".py",
   "mimetype": "text/x-python",
   "name": "python",
   "nbconvert_exporter": "python",
   "pygments_lexer": "ipython3",
   "version": "3.7.8"
  }
 },
 "nbformat": 4,
 "nbformat_minor": 2
}
