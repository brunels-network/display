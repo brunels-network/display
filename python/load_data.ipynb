{
 "cells": [
  {
   "cell_type": "code",
   "execution_count": 1,
   "metadata": {},
   "outputs": [],
   "source": [
    "import json\n",
    "\n",
    "from Brunel import Social, stringify\n",
    "\n",
    "%load_ext autoreload\n",
    "%autoreload 2"
   ]
  },
  {
   "cell_type": "markdown",
   "metadata": {},
   "source": [
    "## Read in spreadsheets and store the data"
   ]
  },
  {
   "cell_type": "code",
   "execution_count": 2,
   "metadata": {},
   "outputs": [],
   "source": [
    "social = Social()"
   ]
  },
  {
   "cell_type": "code",
   "execution_count": 3,
   "metadata": {},
   "outputs": [],
   "source": [
    "social.load_projects(\"input/projects.tsv\")"
   ]
  },
  {
   "cell_type": "code",
   "execution_count": 4,
   "metadata": {},
   "outputs": [],
   "source": [
    "social.load_sources(\"input/sources.tsv\")"
   ]
  },
  {
   "cell_type": "code",
   "execution_count": 5,
   "metadata": {},
   "outputs": [],
   "source": [
    "social.load_graph(project=\"Great Western\", nodes_filepath=\"input/gw_nodes.csv\", edges_filepath=\"input/gw_edges.csv\")"
   ]
  },
  {
   "cell_type": "code",
   "execution_count": 6,
   "metadata": {},
   "outputs": [
    {
     "name": "stdout",
     "output_type": "stream",
     "text": [
      "Is W. E. Acraman the same person as William Edward Acraman? (y/n) y\n",
      "Is Mr. Levy the same person as Levy? (y/n) y\n",
      "Is Mr. Warr the same person as Warr? (y/n) y\n"
     ]
    }
   ],
   "source": [
    "social.load_graph(project=\"Great Britain\", nodes_filepath=\"input/gb_nodes.csv\", edges_filepath=\"input/gb_edges.csv\")"
   ]
  },
  {
   "cell_type": "code",
   "execution_count": 7,
   "metadata": {},
   "outputs": [],
   "source": [
    "social.load_biographies(\"input/bios.tsv\")"
   ]
  },
  {
   "cell_type": "markdown",
   "metadata": {},
   "source": [
    "### Write the data used for the graph to JSON file"
   ]
  },
  {
   "cell_type": "code",
   "execution_count": 8,
   "metadata": {},
   "outputs": [],
   "source": [
    "with open(\"dataWeights.json\", \"w\") as FILE:\n",
    "    FILE.write(stringify(social))"
   ]
  },
  {
   "cell_type": "markdown",
   "metadata": {},
   "source": [
    "## Output source IDs and names for matching with image filenames"
   ]
  },
  {
   "cell_type": "markdown",
   "metadata": {},
   "source": [
    "### Get source names"
   ]
  },
  {
   "cell_type": "code",
   "execution_count": 9,
   "metadata": {},
   "outputs": [],
   "source": [
    "sources = social.sources()"
   ]
  },
  {
   "cell_type": "code",
   "execution_count": 10,
   "metadata": {},
   "outputs": [
    {
     "data": {
      "text/plain": [
       "{'Sff09632': {'name': '2019.00003 (2)', 'filename': 'filename'},\n",
       " 'S31cd3e7': {'name': '28048/p/83_17', 'filename': 'filename'},\n",
       " 'S10b13ac': {'name': '38605/A/1', 'filename': 'filename'},\n",
       " 'S09a6bc4': {'name': '38605/A/3', 'filename': 'filename'},\n",
       " 'Sb1b1617': {'name': '38605/M/1', 'filename': 'filename'},\n",
       " 'S558a1b2': {'name': 'ADM 92/4', 'filename': 'filename'},\n",
       " 'S9f8805f': {'name': 'Bristol Mercury', 'filename': 'filename'},\n",
       " 'S8f94207': {'name': 'Bristol Mirror', 'filename': 'filename'},\n",
       " 'S6ee16eb': {'name': 'Cbox I.', 'filename': 'filename'},\n",
       " 'S15abd54': {'name': 'Cbox II.', 'filename': 'filename'},\n",
       " 'S70508a3': {'name': 'Digital Store 8805.e.15. DRT', 'filename': 'filename'},\n",
       " 'S892fa66': {'name': 'DM162/8/2/5', 'filename': 'filename'},\n",
       " 'Se622584': {'name': 'DM162/10/1', 'filename': 'filename'},\n",
       " 'Sacb4215': {'name': 'DM162/10/2', 'filename': 'filename'},\n",
       " 'S5cd2a7d': {'name': 'DM162/10/2a', 'filename': 'filename'},\n",
       " 'S7f9b3a2': {'name': 'DM162/10/2b', 'filename': 'filename'},\n",
       " 'Sa99db92': {'name': 'DM1038/2', 'filename': 'filename'},\n",
       " 'S6cf1c7c': {'name': 'DM1306/75', 'filename': 'filename'},\n",
       " 'S7727380': {'name': 'DM1758/9/2/1', 'filename': 'filename'},\n",
       " 'Sb7a264e': {'name': 'DM1758/9/2/2', 'filename': 'filename'},\n",
       " 'S70b9972': {'name': 'DM1758/9/2/3', 'filename': 'filename'},\n",
       " 'S8c03a7e': {'name': 'DM1758/9/2/4', 'filename': 'filename'},\n",
       " 'S5f9c597': {'name': 'FIELD I', 'filename': 'filename'},\n",
       " 'S111945d': {'name': 'FIELD II', 'filename': 'filename'},\n",
       " 'S0868edf': {'name': 'Liverpool Mercury', 'filename': 'filename'},\n",
       " 'S54b2f9b': {'name': 'Mechanics Magazine', 'filename': 'filename'},\n",
       " 'S4b1d609': {'name': 'MS 1295', 'filename': 'filename'},\n",
       " 'S876a183': {'name': 'PBA/Corp/E/3/19-20', 'filename': 'filename'},\n",
       " 'S13a3509': {'name': 'PBA/Corp/E/3/21_j', 'filename': 'filename'},\n",
       " 'S559223b': {'name': 'RAIL 251/19', 'filename': 'filename'},\n",
       " 'Sd75e9e6': {'name': 'RAIL 251/20', 'filename': 'filename'},\n",
       " 'S1797bab': {'name': 'RAIL 251/21', 'filename': 'filename'},\n",
       " 'S45283db': {'name': 'RAIL 250/64', 'filename': 'filename'},\n",
       " 'Se9c073a': {'name': 'RAIL 1149/3', 'filename': 'filename'},\n",
       " 'S6b71afa': {'name': 'RAIL 1149/60', 'filename': 'filename'},\n",
       " 'S9bbc36a': {'name': \"UCL 'Legacies' Database\", 'filename': 'filename'},\n",
       " 'S2dec7a6': {'name': 'Bristol Mirror 22.5.1840', 'filename': 'filename'},\n",
       " 'Safed727': {'name': 'DM162/10/1-121', 'filename': 'filename'},\n",
       " 'Scb67be8': {'name': 'DM162/10/1-273', 'filename': 'filename'},\n",
       " 'S8c2aa8a': {'name': 'DM162/10/1-211', 'filename': 'filename'},\n",
       " 'Sdb58126': {'name': 'Missing', 'filename': 'filename'},\n",
       " 'S08dc241': {'name': 'DM162/10/1-272', 'filename': 'filename'},\n",
       " 'S71f75a0': {'name': 'Liverpool Mercury 8.7.1836', 'filename': 'filename'},\n",
       " 'S312e52b': {'name': 'NA RAIL 251/19', 'filename': 'filename'},\n",
       " 'S24e84e6': {'name': '38605/A/3; NA RAIL 251/19-20', 'filename': 'filename'},\n",
       " 'Sea63a5b': {'name': 'RAIL 250/19', 'filename': 'filename'},\n",
       " 'S886c364': {'name': 'RAIL 251/19-20', 'filename': 'filename'},\n",
       " 'Sa70d53f': {'name': 'BCA 250/64', 'filename': 'filename'},\n",
       " 'S436678a': {'name': 'NA RAIL 251/19-20', 'filename': 'filename'},\n",
       " 'S88089f6': {'name': 'RAIL 241/19', 'filename': 'filename'},\n",
       " 'S4b8be81': {'name': 'DM162/10/1-121, 270, 273', 'filename': 'filename'},\n",
       " 'S9a4347f': {'name': 'DM162/10/2-83', 'filename': 'filename'},\n",
       " 'Sfe9d258': {'name': 'NA RAIL 250/64', 'filename': 'filename'},\n",
       " 'Sbcec740': {'name': 'DM1306/75-1,2,3,4,5', 'filename': 'filename'},\n",
       " 'Sa384d82': {'name': '0', 'filename': 'filename'},\n",
       " 'Se5db356': {'name': '38605 /A/3', 'filename': 'filename'},\n",
       " 'S8b236e9': {'name': 'FIELD II-44', 'filename': 'filename'},\n",
       " 'Sde1c37d': {'name': 'FIELD I-42', 'filename': 'filename'},\n",
       " 'S8d29360': {'name': 'RAIL/1149/3', 'filename': 'filename'},\n",
       " 'S5f274c6': {'name': 'BCA PBA/Corp/E/3/21_j', 'filename': 'filename'},\n",
       " 'Sd224ee1': {'name': '38065/A/3', 'filename': 'filename'},\n",
       " 'Sbed88f4': {'name': 'BCA 38605/A/3', 'filename': 'filename'},\n",
       " 'S0fc3ef1': {'name': 'RAIl 251/19-20', 'filename': 'filename'},\n",
       " 'Sd163a3d': {'name': 'FIELD I, 42', 'filename': 'filename'},\n",
       " 'S8cf5e84': {'name': 'Bristol Mercury 6.4.39', 'filename': 'filename'},\n",
       " 'S93eb683': {'name': 'DM1758/9/2/1-4', 'filename': 'filename'},\n",
       " 'S0d4bc5e': {'name': 'DM162/10/2/1-292, 342, 350, 365, 390, 397, 439',\n",
       "  'filename': 'filename'},\n",
       " 'S104178d': {'name': 'DM162/10/2b-13, 53, 236, 247,', 'filename': 'filename'},\n",
       " 'Sf5e1ca0': {'name': 'DM1758/9/2', 'filename': 'filename'},\n",
       " 'Sef98553': {'name': 'DM162/10/2b-179, 180, 182, 190-1, 205, 223.',\n",
       "  'filename': 'filename'},\n",
       " 'Sca81104': {'name': 'DM162/10/2b-7', 'filename': 'filename'},\n",
       " 'Sbc804d1': {'name': 'RAIL 1149/60 Prosp.', 'filename': 'filename'},\n",
       " 'S2c035ba': {'name': 'Liverpool Mercury 8.7.1836 BCA PBA/Corp/E/3/21_j; Bristol Dock Co. Records',\n",
       "  'filename': 'filename'},\n",
       " 'Sde2782d': {'name': 'RAIL 1149/2-4', 'filename': 'filename'},\n",
       " 'Se78ad70': {'name': 'DM162/10/2b-175-77, 264-6.', 'filename': 'filename'},\n",
       " 'Sad8167a': {'name': 'DM162/10/2b-135-6', 'filename': 'filename'},\n",
       " 'S76e13b2': {'name': 'DM162/10/2b-96-7', 'filename': 'filename'},\n",
       " 'Sb783e5d': {'name': '96-7', 'filename': 'filename'},\n",
       " 'S36d50a5': {'name': 'Mechanics Magazine 10.9.1842', 'filename': 'filename'},\n",
       " 'Sc377908': {'name': 'DM162/10/1-336, 345', 'filename': 'filename'},\n",
       " 'Sca4e6af': {'name': 'DM162/10/2b-192-6, 199-200, 203, 248, 259',\n",
       "  'filename': 'filename'},\n",
       " 'S115d545': {'name': 'DM162/10/2b-110-111, 117, 269-70.',\n",
       "  'filename': 'filename'},\n",
       " 'S4ca58ae': {'name': 'Cbox II-73', 'filename': 'filename'},\n",
       " 'S58e23ce': {'name': 'DM162/10/2b-82, 94-5, 130, 166-7.',\n",
       "  'filename': 'filename'},\n",
       " 'S44fe052': {'name': 'DM162/10/1-435', 'filename': 'filename'},\n",
       " 'Sc436d69': {'name': 'DM162/10/2b-13', 'filename': 'filename'},\n",
       " 'Sbcd2725': {'name': 'DM162/10/2b-183, 185', 'filename': 'filename'},\n",
       " 'Sfabac7c': {'name': 'DM162/10/2b-183-4', 'filename': 'filename'},\n",
       " 'S56e47a9': {'name': 'CboxII. 73', 'filename': 'filename'},\n",
       " 'S0a5797b': {'name': 'DM162/10/2b-212', 'filename': 'filename'},\n",
       " 'Sb9a3fe2': {'name': 'DM162/10/2b-215, 216', 'filename': 'filename'},\n",
       " 'Sa4de7c6': {'name': 'DM162/10/2b-13, 53, 235, 236, 267',\n",
       "  'filename': 'filename'},\n",
       " 'S0263290': {'name': 'DM162/10/2b-180, 182, 190, 191, 205, 223, 237,',\n",
       "  'filename': 'filename'},\n",
       " 'S5745992': {'name': 'DM1306/75-6,7,8,9,10,11,12', 'filename': 'filename'},\n",
       " 'Sfdb65f1': {'name': 'DM162/10/2b-29, 50, 56, 100,101, 214-5',\n",
       "  'filename': 'filename'},\n",
       " 'Se090532': {'name': 'DM162/10/2b-7, 58', 'filename': 'filename'},\n",
       " 'Sffd37f5': {'name': 'DM162/10/2b-175, 176, 177, 244, 245',\n",
       "  'filename': 'filename'},\n",
       " 'Se64f0e6': {'name': 'DM162/10/2b-96, 97, 269, 270', 'filename': 'filename'},\n",
       " 'S3eddce2': {'name': 'DM162/10/2b-192, 193, 194, 195, 196, 199, 200, 203, 248, 259',\n",
       "  'filename': 'filename'},\n",
       " 'Sc3fe8f0': {'name': 'DM162/10/2b-110, 111, 117, 214, 269, 270',\n",
       "  'filename': 'filename'},\n",
       " 'Se06fd29': {'name': 'DM162/10/2b-82, 94, 95, 130, 166, 167,',\n",
       "  'filename': 'filename'},\n",
       " 'S55e71bb': {'name': 'DM162/10/1-436', 'filename': 'filename'},\n",
       " 'S24bb324': {'name': 'DM162/10/2b-9, 10', 'filename': 'filename'},\n",
       " 'S827c2c7': {'name': 'DM162/10/2b-183, 184,', 'filename': 'filename'},\n",
       " 'Sc262727': {'name': 'DM162/10/2b-212, 240, 241, 269, 270, 271, 272',\n",
       "  'filename': 'filename'},\n",
       " 'S3febf43': {'name': 'DM162/10/2b-215, 216, 238, 258, 260',\n",
       "  'filename': 'filename'},\n",
       " 'S02f35ec': {'name': 'FIELD II-35', 'filename': 'filename'},\n",
       " 'Sb7b9174': {'name': 'DM162/10/2b-117', 'filename': 'filename'},\n",
       " 'S04a1a49': {'name': 'CboxII.73', 'filename': 'filename'}}"
      ]
     },
     "execution_count": 10,
     "metadata": {},
     "output_type": "execute_result"
    }
   ],
   "source": [
    "source_names = sources.getRegistryForImages()\n",
    "source_names"
   ]
  },
  {
   "cell_type": "markdown",
   "metadata": {},
   "source": [
    "Get the number of sources"
   ]
  },
  {
   "cell_type": "code",
   "execution_count": 11,
   "metadata": {},
   "outputs": [
    {
     "name": "stdout",
     "output_type": "stream",
     "text": [
      "We have 109 sources\n"
     ]
    }
   ],
   "source": [
    "print(f\"We have {len(source_names)} sources\")"
   ]
  },
  {
   "cell_type": "markdown",
   "metadata": {},
   "source": [
    "Output the list of sources to JSON file to allow easier matching with image filenames"
   ]
  },
  {
   "cell_type": "code",
   "execution_count": 12,
   "metadata": {},
   "outputs": [],
   "source": [
    "with open(\"sourceImageFilenames.json\", \"w\") as f:\n",
    "    json.dump(source_names, f, indent=4)\n",
    "    "
   ]
  },
  {
   "cell_type": "markdown",
   "metadata": {},
   "source": [
    "### Output the source IDs for matching with images"
   ]
  },
  {
   "cell_type": "code",
   "execution_count": 13,
   "metadata": {},
   "outputs": [
    {
     "data": {
      "text/plain": [
       "{'Sff09632': {'name': '2019.00003 (2)', 'filename': 'filename'},\n",
       " 'S31cd3e7': {'name': '28048/p/83_17', 'filename': 'filename'},\n",
       " 'S10b13ac': {'name': '38605/A/1', 'filename': 'filename'},\n",
       " 'S09a6bc4': {'name': '38605/A/3', 'filename': 'filename'},\n",
       " 'Sb1b1617': {'name': '38605/M/1', 'filename': 'filename'},\n",
       " 'S558a1b2': {'name': 'ADM 92/4', 'filename': 'filename'},\n",
       " 'S9f8805f': {'name': 'Bristol Mercury', 'filename': 'filename'},\n",
       " 'S8f94207': {'name': 'Bristol Mirror', 'filename': 'filename'},\n",
       " 'S6ee16eb': {'name': 'Cbox I.', 'filename': 'filename'},\n",
       " 'S15abd54': {'name': 'Cbox II.', 'filename': 'filename'},\n",
       " 'S70508a3': {'name': 'Digital Store 8805.e.15. DRT', 'filename': 'filename'},\n",
       " 'S892fa66': {'name': 'DM162/8/2/5', 'filename': 'filename'},\n",
       " 'Se622584': {'name': 'DM162/10/1', 'filename': 'filename'},\n",
       " 'Sacb4215': {'name': 'DM162/10/2', 'filename': 'filename'},\n",
       " 'S5cd2a7d': {'name': 'DM162/10/2a', 'filename': 'filename'},\n",
       " 'S7f9b3a2': {'name': 'DM162/10/2b', 'filename': 'filename'},\n",
       " 'Sa99db92': {'name': 'DM1038/2', 'filename': 'filename'},\n",
       " 'S6cf1c7c': {'name': 'DM1306/75', 'filename': 'filename'},\n",
       " 'S7727380': {'name': 'DM1758/9/2/1', 'filename': 'filename'},\n",
       " 'Sb7a264e': {'name': 'DM1758/9/2/2', 'filename': 'filename'},\n",
       " 'S70b9972': {'name': 'DM1758/9/2/3', 'filename': 'filename'},\n",
       " 'S8c03a7e': {'name': 'DM1758/9/2/4', 'filename': 'filename'},\n",
       " 'S5f9c597': {'name': 'FIELD I', 'filename': 'filename'},\n",
       " 'S111945d': {'name': 'FIELD II', 'filename': 'filename'},\n",
       " 'S0868edf': {'name': 'Liverpool Mercury', 'filename': 'filename'},\n",
       " 'S54b2f9b': {'name': 'Mechanics Magazine', 'filename': 'filename'},\n",
       " 'S4b1d609': {'name': 'MS 1295', 'filename': 'filename'},\n",
       " 'S876a183': {'name': 'PBA/Corp/E/3/19-20', 'filename': 'filename'},\n",
       " 'S13a3509': {'name': 'PBA/Corp/E/3/21_j', 'filename': 'filename'},\n",
       " 'S559223b': {'name': 'RAIL 251/19', 'filename': 'filename'},\n",
       " 'Sd75e9e6': {'name': 'RAIL 251/20', 'filename': 'filename'},\n",
       " 'S1797bab': {'name': 'RAIL 251/21', 'filename': 'filename'},\n",
       " 'S45283db': {'name': 'RAIL 250/64', 'filename': 'filename'},\n",
       " 'Se9c073a': {'name': 'RAIL 1149/3', 'filename': 'filename'},\n",
       " 'S6b71afa': {'name': 'RAIL 1149/60', 'filename': 'filename'},\n",
       " 'S9bbc36a': {'name': \"UCL 'Legacies' Database\", 'filename': 'filename'},\n",
       " 'S2dec7a6': {'name': 'Bristol Mirror 22.5.1840', 'filename': 'filename'},\n",
       " 'Safed727': {'name': 'DM162/10/1-121', 'filename': 'filename'},\n",
       " 'Scb67be8': {'name': 'DM162/10/1-273', 'filename': 'filename'},\n",
       " 'S8c2aa8a': {'name': 'DM162/10/1-211', 'filename': 'filename'},\n",
       " 'Sdb58126': {'name': 'Missing', 'filename': 'filename'},\n",
       " 'S08dc241': {'name': 'DM162/10/1-272', 'filename': 'filename'},\n",
       " 'S71f75a0': {'name': 'Liverpool Mercury 8.7.1836', 'filename': 'filename'},\n",
       " 'S312e52b': {'name': 'NA RAIL 251/19', 'filename': 'filename'},\n",
       " 'S24e84e6': {'name': '38605/A/3; NA RAIL 251/19-20', 'filename': 'filename'},\n",
       " 'Sea63a5b': {'name': 'RAIL 250/19', 'filename': 'filename'},\n",
       " 'S886c364': {'name': 'RAIL 251/19-20', 'filename': 'filename'},\n",
       " 'Sa70d53f': {'name': 'BCA 250/64', 'filename': 'filename'},\n",
       " 'S436678a': {'name': 'NA RAIL 251/19-20', 'filename': 'filename'},\n",
       " 'S88089f6': {'name': 'RAIL 241/19', 'filename': 'filename'},\n",
       " 'S4b8be81': {'name': 'DM162/10/1-121, 270, 273', 'filename': 'filename'},\n",
       " 'S9a4347f': {'name': 'DM162/10/2-83', 'filename': 'filename'},\n",
       " 'Sfe9d258': {'name': 'NA RAIL 250/64', 'filename': 'filename'},\n",
       " 'Sbcec740': {'name': 'DM1306/75-1,2,3,4,5', 'filename': 'filename'},\n",
       " 'Sa384d82': {'name': '0', 'filename': 'filename'},\n",
       " 'Se5db356': {'name': '38605 /A/3', 'filename': 'filename'},\n",
       " 'S8b236e9': {'name': 'FIELD II-44', 'filename': 'filename'},\n",
       " 'Sde1c37d': {'name': 'FIELD I-42', 'filename': 'filename'},\n",
       " 'S8d29360': {'name': 'RAIL/1149/3', 'filename': 'filename'},\n",
       " 'S5f274c6': {'name': 'BCA PBA/Corp/E/3/21_j', 'filename': 'filename'},\n",
       " 'Sd224ee1': {'name': '38065/A/3', 'filename': 'filename'},\n",
       " 'Sbed88f4': {'name': 'BCA 38605/A/3', 'filename': 'filename'},\n",
       " 'S0fc3ef1': {'name': 'RAIl 251/19-20', 'filename': 'filename'},\n",
       " 'Sd163a3d': {'name': 'FIELD I, 42', 'filename': 'filename'},\n",
       " 'S8cf5e84': {'name': 'Bristol Mercury 6.4.39', 'filename': 'filename'},\n",
       " 'S93eb683': {'name': 'DM1758/9/2/1-4', 'filename': 'filename'},\n",
       " 'S0d4bc5e': {'name': 'DM162/10/2/1-292, 342, 350, 365, 390, 397, 439',\n",
       "  'filename': 'filename'},\n",
       " 'S104178d': {'name': 'DM162/10/2b-13, 53, 236, 247,', 'filename': 'filename'},\n",
       " 'Sf5e1ca0': {'name': 'DM1758/9/2', 'filename': 'filename'},\n",
       " 'Sef98553': {'name': 'DM162/10/2b-179, 180, 182, 190-1, 205, 223.',\n",
       "  'filename': 'filename'},\n",
       " 'Sca81104': {'name': 'DM162/10/2b-7', 'filename': 'filename'},\n",
       " 'Sbc804d1': {'name': 'RAIL 1149/60 Prosp.', 'filename': 'filename'},\n",
       " 'S2c035ba': {'name': 'Liverpool Mercury 8.7.1836 BCA PBA/Corp/E/3/21_j; Bristol Dock Co. Records',\n",
       "  'filename': 'filename'},\n",
       " 'Sde2782d': {'name': 'RAIL 1149/2-4', 'filename': 'filename'},\n",
       " 'Se78ad70': {'name': 'DM162/10/2b-175-77, 264-6.', 'filename': 'filename'},\n",
       " 'Sad8167a': {'name': 'DM162/10/2b-135-6', 'filename': 'filename'},\n",
       " 'S76e13b2': {'name': 'DM162/10/2b-96-7', 'filename': 'filename'},\n",
       " 'Sb783e5d': {'name': '96-7', 'filename': 'filename'},\n",
       " 'S36d50a5': {'name': 'Mechanics Magazine 10.9.1842', 'filename': 'filename'},\n",
       " 'Sc377908': {'name': 'DM162/10/1-336, 345', 'filename': 'filename'},\n",
       " 'Sca4e6af': {'name': 'DM162/10/2b-192-6, 199-200, 203, 248, 259',\n",
       "  'filename': 'filename'},\n",
       " 'S115d545': {'name': 'DM162/10/2b-110-111, 117, 269-70.',\n",
       "  'filename': 'filename'},\n",
       " 'S4ca58ae': {'name': 'Cbox II-73', 'filename': 'filename'},\n",
       " 'S58e23ce': {'name': 'DM162/10/2b-82, 94-5, 130, 166-7.',\n",
       "  'filename': 'filename'},\n",
       " 'S44fe052': {'name': 'DM162/10/1-435', 'filename': 'filename'},\n",
       " 'Sc436d69': {'name': 'DM162/10/2b-13', 'filename': 'filename'},\n",
       " 'Sbcd2725': {'name': 'DM162/10/2b-183, 185', 'filename': 'filename'},\n",
       " 'Sfabac7c': {'name': 'DM162/10/2b-183-4', 'filename': 'filename'},\n",
       " 'S56e47a9': {'name': 'CboxII. 73', 'filename': 'filename'},\n",
       " 'S0a5797b': {'name': 'DM162/10/2b-212', 'filename': 'filename'},\n",
       " 'Sb9a3fe2': {'name': 'DM162/10/2b-215, 216', 'filename': 'filename'},\n",
       " 'Sa4de7c6': {'name': 'DM162/10/2b-13, 53, 235, 236, 267',\n",
       "  'filename': 'filename'},\n",
       " 'S0263290': {'name': 'DM162/10/2b-180, 182, 190, 191, 205, 223, 237,',\n",
       "  'filename': 'filename'},\n",
       " 'S5745992': {'name': 'DM1306/75-6,7,8,9,10,11,12', 'filename': 'filename'},\n",
       " 'Sfdb65f1': {'name': 'DM162/10/2b-29, 50, 56, 100,101, 214-5',\n",
       "  'filename': 'filename'},\n",
       " 'Se090532': {'name': 'DM162/10/2b-7, 58', 'filename': 'filename'},\n",
       " 'Sffd37f5': {'name': 'DM162/10/2b-175, 176, 177, 244, 245',\n",
       "  'filename': 'filename'},\n",
       " 'Se64f0e6': {'name': 'DM162/10/2b-96, 97, 269, 270', 'filename': 'filename'},\n",
       " 'S3eddce2': {'name': 'DM162/10/2b-192, 193, 194, 195, 196, 199, 200, 203, 248, 259',\n",
       "  'filename': 'filename'},\n",
       " 'Sc3fe8f0': {'name': 'DM162/10/2b-110, 111, 117, 214, 269, 270',\n",
       "  'filename': 'filename'},\n",
       " 'Se06fd29': {'name': 'DM162/10/2b-82, 94, 95, 130, 166, 167,',\n",
       "  'filename': 'filename'},\n",
       " 'S55e71bb': {'name': 'DM162/10/1-436', 'filename': 'filename'},\n",
       " 'S24bb324': {'name': 'DM162/10/2b-9, 10', 'filename': 'filename'},\n",
       " 'S827c2c7': {'name': 'DM162/10/2b-183, 184,', 'filename': 'filename'},\n",
       " 'Sc262727': {'name': 'DM162/10/2b-212, 240, 241, 269, 270, 271, 272',\n",
       "  'filename': 'filename'},\n",
       " 'S3febf43': {'name': 'DM162/10/2b-215, 216, 238, 258, 260',\n",
       "  'filename': 'filename'},\n",
       " 'S02f35ec': {'name': 'FIELD II-35', 'filename': 'filename'},\n",
       " 'Sb7b9174': {'name': 'DM162/10/2b-117', 'filename': 'filename'},\n",
       " 'S04a1a49': {'name': 'CboxII.73', 'filename': 'filename'}}"
      ]
     },
     "execution_count": 13,
     "metadata": {},
     "output_type": "execute_result"
    }
   ],
   "source": [
    "sources = social.sources()\n",
    "sources.getRegistryForImages()"
   ]
  },
  {
   "cell_type": "markdown",
   "metadata": {},
   "source": [
    "### Output a JSON file for images of people or companies"
   ]
  },
  {
   "cell_type": "code",
   "execution_count": 14,
   "metadata": {},
   "outputs": [],
   "source": [
    "people = social.people()\n",
    "n = people.getAllForImages()\n",
    "\n",
    "with open(\"peopleImageFilenames.json\", \"w\") as f:\n",
    "    json.dump(n, f, indent=4)"
   ]
  },
  {
   "cell_type": "markdown",
   "metadata": {},
   "source": [
    "### Write the data used for"
   ]
  },
  {
   "cell_type": "code",
   "execution_count": null,
   "metadata": {},
   "outputs": [],
   "source": [
    "import pandas as pd"
   ]
  },
  {
   "cell_type": "code",
   "execution_count": null,
   "metadata": {},
   "outputs": [],
   "source": [
    "data = pd.read_csv(\"input/gw_nodes.csv\", sep=\",\")"
   ]
  },
  {
   "cell_type": "code",
   "execution_count": null,
   "metadata": {},
   "outputs": [],
   "source": [
    "data"
   ]
  },
  {
   "cell_type": "code",
   "execution_count": null,
   "metadata": {},
   "outputs": [],
   "source": [
    "for _, project in data.iterrows():\n",
    "        print(project)"
   ]
  },
  {
   "cell_type": "code",
   "execution_count": null,
   "metadata": {},
   "outputs": [],
   "source": []
  }
 ],
 "metadata": {
  "kernelspec": {
   "display_name": "Python 3",
   "language": "python",
   "name": "python3"
  },
  "language_info": {
   "codemirror_mode": {
    "name": "ipython",
    "version": 3
   },
   "file_extension": ".py",
   "mimetype": "text/x-python",
   "name": "python",
   "nbconvert_exporter": "python",
   "pygments_lexer": "ipython3",
   "version": "3.8.2"
  }
 },
 "nbformat": 4,
 "nbformat_minor": 2
}
