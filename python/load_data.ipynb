{
 "cells": [
  {
   "cell_type": "code",
   "execution_count": 1,
   "metadata": {},
   "outputs": [],
   "source": [
    "from Brunel import Social, stringify"
   ]
  },
  {
   "cell_type": "code",
   "execution_count": 2,
   "metadata": {},
   "outputs": [],
   "source": [
    "social = Social()"
   ]
  },
  {
   "cell_type": "code",
   "execution_count": 3,
   "metadata": {},
   "outputs": [],
   "source": [
    "social.load_projects(\"input/projects.tsv\")"
   ]
  },
  {
   "cell_type": "code",
   "execution_count": 4,
   "metadata": {},
   "outputs": [
    {
     "data": {
      "text/plain": [
       "'{\"dry_class\": \"Social\", \"dry\": \"toDry\", \"drypath\": [], \"value\": {\"projects\": {\"dry_class\": \"Projects\", \"dry\": \"toDry\", \"drypath\": [\"value\", \"projects\"], \"value\": {\"registry\": {\"Jfacfc83\": {\"dry_class\": \"Project\", \"dry\": \"toDry\", \"drypath\": [\"value\", \"projects\", \"value\", \"registry\", \"Jfacfc83\"], \"value\": {\"name\": \"SS Great Western\", \"id\": \"Jfacfc83\", \"url\": \"https://en.wikipedia.org/wiki/SS_Great_Western\", \"duration\": {\"dry_class\": \"DateRange\", \"dry\": \"toDry\", \"drypath\": [\"value\", \"projects\", \"value\", \"registry\", \"Jfacfc83\", \"value\", \"duration\"], \"value\": {\"start\": {\"start\": \"1836-06-26\"}, \"end\": {\"start\": \"1838-03-31\"}}}}}, \"Jdc7ab0f\": {\"dry_class\": \"Project\", \"dry\": \"toDry\", \"drypath\": [\"value\", \"projects\", \"value\", \"registry\", \"Jdc7ab0f\"], \"value\": {\"name\": \"SS Great Britain\", \"id\": \"Jdc7ab0f\", \"url\": \"https://en.wikipedia.org/wiki/SS_Great_Britain\", \"duration\": {\"dry_class\": \"DateRange\", \"dry\": \"toDry\", \"drypath\": [\"value\", \"projects\", \"value\", \"registry\", \"Jdc7ab0f\", \"value\", \"duration\"], \"value\": {\"start\": {\"start\": \"1839-07-01\"}, \"end\": {\"start\": \"1843-07-19\"}}}}}, \"Jea77fd2\": {\"dry_class\": \"Project\", \"dry\": \"toDry\", \"drypath\": [\"value\", \"projects\", \"value\", \"registry\", \"Jea77fd2\"], \"value\": {\"name\": \"SS Great Eastern\", \"id\": \"Jea77fd2\", \"url\": \"https://en.wikipedia.org/wiki/SS_Great_Eastern\", \"duration\": {\"dry_class\": \"DateRange\", \"dry\": \"toDry\", \"drypath\": [\"value\", \"projects\", \"value\", \"registry\", \"Jea77fd2\", \"value\", \"duration\"], \"value\": {\"start\": {\"start\": \"1854-05-01\"}, \"end\": {\"start\": \"1858-01-31\"}}}}}}}}}}'"
      ]
     },
     "execution_count": 4,
     "metadata": {},
     "output_type": "execute_result"
    }
   ],
   "source": [
    "stringify(social)"
   ]
  },
  {
   "cell_type": "code",
   "execution_count": null,
   "metadata": {},
   "outputs": [],
   "source": [
    "social.projects().get(\"J09d36c4\").state[\"duration\"].state"
   ]
  },
  {
   "cell_type": "code",
   "execution_count": null,
   "metadata": {},
   "outputs": [],
   "source": [
    "import pandas as pd"
   ]
  },
  {
   "cell_type": "code",
   "execution_count": null,
   "metadata": {},
   "outputs": [],
   "source": [
    "data = pd.read_csv(\"input/projects.tsv\", sep=\"\\t\")"
   ]
  },
  {
   "cell_type": "code",
   "execution_count": null,
   "metadata": {},
   "outputs": [],
   "source": [
    "for _, project in data.iterrows():\n",
    "    print(project.Duration)"
   ]
  },
  {
   "cell_type": "code",
   "execution_count": null,
   "metadata": {},
   "outputs": [],
   "source": []
  }
 ],
 "metadata": {
  "kernelspec": {
   "display_name": "Python 3",
   "language": "python",
   "name": "python3"
  },
  "language_info": {
   "codemirror_mode": {
    "name": "ipython",
    "version": 3
   },
   "file_extension": ".py",
   "mimetype": "text/x-python",
   "name": "python",
   "nbconvert_exporter": "python",
   "pygments_lexer": "ipython3",
   "version": "3.7.4"
  }
 },
 "nbformat": 4,
 "nbformat_minor": 2
}
