{
 "cells": [
  {
   "cell_type": "code",
   "execution_count": 22,
   "metadata": {},
   "outputs": [
    {
     "name": "stdout",
     "output_type": "stream",
     "text": [
      "The autoreload extension is already loaded. To reload it, use:\n",
      "  %reload_ext autoreload\n"
     ]
    }
   ],
   "source": [
    "import json\n",
    "\n",
    "from Brunel import Social, stringify, export_object, export_to_json\n",
    "\n",
    "%load_ext autoreload\n",
    "%autoreload 2"
   ]
  },
  {
   "cell_type": "markdown",
   "metadata": {},
   "source": [
    "## Read in spreadsheets and store the data"
   ]
  },
  {
   "cell_type": "code",
   "execution_count": 23,
   "metadata": {},
   "outputs": [],
   "source": [
    "social = Social()"
   ]
  },
  {
   "cell_type": "code",
   "execution_count": 24,
   "metadata": {},
   "outputs": [],
   "source": [
    "social.load_projects(\"input/projects.tsv\")"
   ]
  },
  {
   "cell_type": "code",
   "execution_count": 25,
   "metadata": {},
   "outputs": [],
   "source": [
    "social.load_sources(\"input/sources.tsv\")"
   ]
  },
  {
   "cell_type": "code",
   "execution_count": 26,
   "metadata": {},
   "outputs": [],
   "source": [
    "social.load_graph(project=\"Great Western\", nodes_filepath=\"input/gw_nodes.csv\", edges_filepath=\"input/gw_edges.csv\")"
   ]
  },
  {
   "cell_type": "code",
   "execution_count": 27,
   "metadata": {},
   "outputs": [
    {
     "name": "stdout",
     "output_type": "stream",
     "text": [
      "Is W. E. Acraman the same person as William Edward Acraman? (y/n) \n",
      "Is Mr. Levy the same person as Levy? (y/n) y\n",
      "Is Mr. Warr the same person as Warr? (y/n) y\n"
     ]
    }
   ],
   "source": [
    "social.load_graph(project=\"Great Britain\", nodes_filepath=\"../raw_data/gb_nodes_updated.csv\", edges_filepath=\"../raw_data/gb_edges.csv\")"
   ]
  },
  {
   "cell_type": "code",
   "execution_count": 28,
   "metadata": {},
   "outputs": [],
   "source": [
    "social.load_biographies(\"input/bios.tsv\")"
   ]
  },
  {
   "cell_type": "code",
   "execution_count": 29,
   "metadata": {},
   "outputs": [
    {
     "data": {
      "text/plain": [
       "257"
      ]
     },
     "execution_count": 29,
     "metadata": {},
     "output_type": "execute_result"
    }
   ],
   "source": [
    "len(social.connections().toDry()[\"registry\"])"
   ]
  },
  {
   "cell_type": "code",
   "execution_count": 35,
   "metadata": {},
   "outputs": [],
   "source": [
    "p = social.people()"
   ]
  },
  {
   "cell_type": "code",
   "execution_count": 36,
   "metadata": {},
   "outputs": [
    {
     "data": {
      "text/plain": [
       "{'Pe851c5f': 'William Edward Acraman',\n",
       " 'P701986f': 'Captain RN Walcott',\n",
       " 'P8f3ff89': 'Captain Superintendent RN Jackson',\n",
       " 'P4fa2cc0': 'Robert Young',\n",
       " 'P641c7f7': 'Oliver Lang',\n",
       " 'P6d184f8': 'W. E. Acraman',\n",
       " 'P8e6cd9e': 'William Bruce Adair',\n",
       " 'Pcee2d18': 'John Barnes',\n",
       " 'P4017397': 'John Barrow',\n",
       " 'Pba6c83e': 'J. P. Bartrun',\n",
       " 'P9d83079': 'J. Bates',\n",
       " 'Pade97c0': 'Thomas Kington Bayly',\n",
       " 'P242a508': 'Thomas Baynton',\n",
       " 'Pddfa638': 'Robert Bright',\n",
       " 'P7ccb738': 'Isambard Kingdom Brunel',\n",
       " 'P55353f9': 'Henry Bush',\n",
       " 'Pe45aeda': 'W. H. Castle',\n",
       " 'P2dedc7d': 'Captain Ed R. N. Chappel',\n",
       " 'Pbf7576c': 'J. B. Clarke',\n",
       " 'P76893cf': 'Christopher Claxton',\n",
       " 'P40822d0': 'William Claxton',\n",
       " 'P456a4a7': 'Coalbrookdale Foundry',\n",
       " 'P5c05575': 'Joseph Cookson',\n",
       " 'Pd807487': 'Captain Crozier',\n",
       " 'P0fd7aa8': 'Thomas Cruttwell',\n",
       " 'P868c429': 'James Cunningham',\n",
       " 'Pb0489de': 'Bryan Donkin',\n",
       " 'Pf5f78de': 'Mr. Dowell',\n",
       " 'Pb5dd683': 'John Edye',\n",
       " 'P61eba0d': 'William Fairbairn',\n",
       " 'P8399d22': 'F. H. Falkner',\n",
       " 'Pb7267a4': 'Joshua Field',\n",
       " 'P4961030': 'Dr. Charles Fox',\n",
       " 'Pd2cd76f': 'Charles Fripp',\n",
       " 'Pf7344cf': 'George H. Gibbs',\n",
       " 'P89b9951': 'Henry G. Godwin',\n",
       " 'P18e2702': 'John Grantham',\n",
       " 'Pd1c5b12': 'Thomas Guppy',\n",
       " 'P479d7c7': 'Samuel Hall',\n",
       " 'Pf883e30': 'W. Hamilton',\n",
       " 'P7b9e569': 'John Hare',\n",
       " 'P91c1f7b': 'John Harford',\n",
       " 'Pe87543a': 'Francis Humphrys',\n",
       " 'Pce7719c': 'Richard Irvin',\n",
       " 'Pde4d562': 'A. P. Johnson',\n",
       " 'P469e33c': 'Thomas Kingsbury',\n",
       " 'P94106bf': 'Thomas Kington',\n",
       " 'P21bd7da': 'John Laird',\n",
       " 'Pe17949e': 'Mr. Levy',\n",
       " 'P3c58632': 'Miss. Lucas',\n",
       " 'Pe6be214': 'Samuel Lucas',\n",
       " 'Pf1a2f87': 'George Lunnell',\n",
       " 'P91a2bdb': 'Peter Maze (the elder)',\n",
       " 'P253623e': 'John William Miles',\n",
       " 'P0a19be0': 'Missing',\n",
       " 'Pb43d53e': 'W. Morgan',\n",
       " 'Pae2c337': 'John Moxham',\n",
       " 'P9fa979c': 'Mr. Harding',\n",
       " 'P2c84683': 'G. Norman',\n",
       " 'Pdc788ae': 'William Edward Parry',\n",
       " 'Pee78238': 'William Patterson',\n",
       " 'P87dbced': 'Thomas Pycroft',\n",
       " 'P3f9cf38': 'George Rennie',\n",
       " 'Pd9e51dd': 'Richard Robinson',\n",
       " 'P1c14286': 'Robert Scott',\n",
       " 'P5656643': 'Francis Petit Smith',\n",
       " 'P050caaa': 'Mr. Smith',\n",
       " 'P39193bd': 'John Stafford',\n",
       " 'Pca9cbfa': 'Mr. Stedder',\n",
       " 'P43c4547': 'Robert Stephenson',\n",
       " 'P3bc3c57': 'William Symonds',\n",
       " 'P7aaad21': 'John Taylor',\n",
       " 'P26b4731': 'Rev. Taylor',\n",
       " 'Pa456f07': 'John Vining',\n",
       " 'P97fd4c7': 'Mr. Warr',\n",
       " 'P491d8af': 'Thomas Boneville Were',\n",
       " 'P5fd0520': 'John Winwood'}"
      ]
     },
     "execution_count": 36,
     "metadata": {},
     "output_type": "execute_result"
    }
   ],
   "source": [
    "p.getAll()"
   ]
  },
  {
   "cell_type": "code",
   "execution_count": 38,
   "metadata": {},
   "outputs": [
    {
     "data": {
      "text/plain": [
       "{'J7a6f710': [Position(non-contributing engineer)]}"
      ]
     },
     "execution_count": 38,
     "metadata": {},
     "output_type": "execute_result"
    }
   ],
   "source": [
    "p.get(\"P4fa2cc0\").getPositions()"
   ]
  },
  {
   "cell_type": "code",
   "execution_count": 30,
   "metadata": {},
   "outputs": [],
   "source": [
    "b = social.businesses()"
   ]
  },
  {
   "cell_type": "code",
   "execution_count": 31,
   "metadata": {},
   "outputs": [
    {
     "data": {
      "text/plain": [
       "{'Bb1c8b2a': 'Hoare & Barnetts',\n",
       " 'B77a551b': 'Miles & Harford',\n",
       " 'Baebad3c': 'Osborne, Ward & Sons',\n",
       " 'B76e3b46': 'Seaward & Co.',\n",
       " 'B5b3c4c4': 'Swain, Stevens & Co.'}"
      ]
     },
     "execution_count": 31,
     "metadata": {},
     "output_type": "execute_result"
    }
   ],
   "source": [
    "b.getAll()"
   ]
  },
  {
   "cell_type": "code",
   "execution_count": 33,
   "metadata": {},
   "outputs": [
    {
     "data": {
      "text/plain": [
       "{'J7a6f710': [Position(commercial representative)],\n",
       " 'J42cfd6b': [Position(commercial representative)]}"
      ]
     },
     "execution_count": 33,
     "metadata": {},
     "output_type": "execute_result"
    }
   ],
   "source": [
    "b.get(\"Bb1c8b2a\").getPositions()\n"
   ]
  },
  {
   "cell_type": "code",
   "execution_count": 34,
   "metadata": {},
   "outputs": [
    {
     "ename": "AttributeError",
     "evalue": "'Business' object has no attribute 'getProjects'",
     "output_type": "error",
     "traceback": [
      "\u001b[0;31m---------------------------------------------------------------------------\u001b[0m",
      "\u001b[0;31mAttributeError\u001b[0m                            Traceback (most recent call last)",
      "\u001b[0;32m<ipython-input-34-ba53c5aecb48>\u001b[0m in \u001b[0;36m<module>\u001b[0;34m\u001b[0m\n\u001b[0;32m----> 1\u001b[0;31m \u001b[0mb\u001b[0m\u001b[0;34m.\u001b[0m\u001b[0mget\u001b[0m\u001b[0;34m(\u001b[0m\u001b[0;34m\"Bb1c8b2a\"\u001b[0m\u001b[0;34m)\u001b[0m\u001b[0;34m.\u001b[0m\u001b[0mgetProjects\u001b[0m\u001b[0;34m(\u001b[0m\u001b[0;34m)\u001b[0m\u001b[0;34m\u001b[0m\u001b[0;34m\u001b[0m\u001b[0m\n\u001b[0m",
      "\u001b[0;31mAttributeError\u001b[0m: 'Business' object has no attribute 'getProjects'"
     ]
    }
   ],
   "source": [
    "b.get(\"Bb1c8b2a\").getProjects()"
   ]
  },
  {
   "cell_type": "markdown",
   "metadata": {},
   "source": [
    "### Write the data used for the graph to JSON file"
   ]
  },
  {
   "cell_type": "code",
   "execution_count": 39,
   "metadata": {},
   "outputs": [
    {
     "name": "stdout",
     "output_type": "stream",
     "text": [
      "Creating backup of previous version at  dataWeights-20200615-155126.json\n"
     ]
    }
   ],
   "source": [
    "export_object(social, \"dataWeights.json\")"
   ]
  },
  {
   "cell_type": "markdown",
   "metadata": {},
   "source": [
    "## Output source IDs and names for matching with image filenames"
   ]
  },
  {
   "cell_type": "markdown",
   "metadata": {},
   "source": [
    "### Get source names"
   ]
  },
  {
   "cell_type": "code",
   "execution_count": 40,
   "metadata": {},
   "outputs": [],
   "source": [
    "sources = social.sources()"
   ]
  },
  {
   "cell_type": "code",
   "execution_count": 41,
   "metadata": {},
   "outputs": [],
   "source": [
    "source_names = sources.getRegistryForImages()"
   ]
  },
  {
   "cell_type": "markdown",
   "metadata": {},
   "source": [
    "Get the number of sources"
   ]
  },
  {
   "cell_type": "code",
   "execution_count": 42,
   "metadata": {},
   "outputs": [
    {
     "name": "stdout",
     "output_type": "stream",
     "text": [
      "We have 110 sources\n"
     ]
    }
   ],
   "source": [
    "print(f\"We have {len(source_names)} sources\")"
   ]
  },
  {
   "cell_type": "markdown",
   "metadata": {},
   "source": [
    "Output the list of sources to JSON file to allow easier matching with image filenames"
   ]
  },
  {
   "cell_type": "code",
   "execution_count": 43,
   "metadata": {},
   "outputs": [
    {
     "name": "stdout",
     "output_type": "stream",
     "text": [
      "Creating backup of previous version at  sourceImageFilenames-20200615-155131.json\n"
     ]
    }
   ],
   "source": [
    "export_to_json(source_names, \"sourceImageFilenames.json\")    "
   ]
  },
  {
   "cell_type": "markdown",
   "metadata": {},
   "source": [
    "### Output the source IDs for matching with images"
   ]
  },
  {
   "cell_type": "markdown",
   "metadata": {},
   "source": [
    "### Output a JSON file for images of people or companies"
   ]
  },
  {
   "cell_type": "code",
   "execution_count": 44,
   "metadata": {},
   "outputs": [
    {
     "name": "stdout",
     "output_type": "stream",
     "text": [
      "Creating backup of previous version at  entityImageFilenames-20200615-155133.json\n"
     ]
    }
   ],
   "source": [
    "people = social.people()\n",
    "n = people.getAllForImages()\n",
    "\n",
    "businesses = social.businesses()\n",
    "b = businesses.getAllForImages()\n",
    "\n",
    "n.update(b)\n",
    "\n",
    "export_to_json(n, \"entityImageFilenames.json\")"
   ]
  },
  {
   "cell_type": "code",
   "execution_count": 45,
   "metadata": {},
   "outputs": [
    {
     "data": {
      "text/plain": [
       "{'Pe851c5f': {'name': 'William Edward Acraman', 'filename': 'file.jpg'},\n",
       " 'P701986f': {'name': 'Captain RN Walcott', 'filename': 'file.jpg'},\n",
       " 'P8f3ff89': {'name': 'Captain Superintendent RN Jackson',\n",
       "  'filename': 'file.jpg'},\n",
       " 'P4fa2cc0': {'name': 'Robert Young', 'filename': 'file.jpg'},\n",
       " 'P641c7f7': {'name': 'Oliver Lang', 'filename': 'file.jpg'},\n",
       " 'P6d184f8': {'name': 'W. E. Acraman', 'filename': 'file.jpg'},\n",
       " 'P8e6cd9e': {'name': 'William Bruce Adair', 'filename': 'file.jpg'},\n",
       " 'Pcee2d18': {'name': 'John Barnes', 'filename': 'file.jpg'},\n",
       " 'P4017397': {'name': 'John Barrow', 'filename': 'file.jpg'},\n",
       " 'Pba6c83e': {'name': 'J. P. Bartrun', 'filename': 'file.jpg'},\n",
       " 'P9d83079': {'name': 'J. Bates', 'filename': 'file.jpg'},\n",
       " 'Pade97c0': {'name': 'Thomas Kington Bayly', 'filename': 'file.jpg'},\n",
       " 'P242a508': {'name': 'Thomas Baynton', 'filename': 'file.jpg'},\n",
       " 'Pddfa638': {'name': 'Robert Bright', 'filename': 'file.jpg'},\n",
       " 'P7ccb738': {'name': 'Isambard Kingdom Brunel', 'filename': 'file.jpg'},\n",
       " 'P55353f9': {'name': 'Henry Bush', 'filename': 'file.jpg'},\n",
       " 'Pe45aeda': {'name': 'W. H. Castle', 'filename': 'file.jpg'},\n",
       " 'P2dedc7d': {'name': 'Captain Ed R. N. Chappel', 'filename': 'file.jpg'},\n",
       " 'Pbf7576c': {'name': 'J. B. Clarke', 'filename': 'file.jpg'},\n",
       " 'P76893cf': {'name': 'Christopher Claxton', 'filename': 'file.jpg'},\n",
       " 'P40822d0': {'name': 'William Claxton', 'filename': 'file.jpg'},\n",
       " 'P456a4a7': {'name': 'Coalbrookdale Foundry', 'filename': 'file.jpg'},\n",
       " 'P5c05575': {'name': 'Joseph Cookson', 'filename': 'file.jpg'},\n",
       " 'Pd807487': {'name': 'Captain Crozier', 'filename': 'file.jpg'},\n",
       " 'P0fd7aa8': {'name': 'Thomas Cruttwell', 'filename': 'file.jpg'},\n",
       " 'P868c429': {'name': 'James Cunningham', 'filename': 'file.jpg'},\n",
       " 'Pb0489de': {'name': 'Bryan Donkin', 'filename': 'file.jpg'},\n",
       " 'Pf5f78de': {'name': 'Mr. Dowell', 'filename': 'file.jpg'},\n",
       " 'Pb5dd683': {'name': 'John Edye', 'filename': 'file.jpg'},\n",
       " 'P61eba0d': {'name': 'William Fairbairn', 'filename': 'file.jpg'},\n",
       " 'P8399d22': {'name': 'F. H. Falkner', 'filename': 'file.jpg'},\n",
       " 'Pb7267a4': {'name': 'Joshua Field', 'filename': 'file.jpg'},\n",
       " 'P4961030': {'name': 'Dr. Charles Fox', 'filename': 'file.jpg'},\n",
       " 'Pd2cd76f': {'name': 'Charles Fripp', 'filename': 'file.jpg'},\n",
       " 'Pf7344cf': {'name': 'George H. Gibbs', 'filename': 'file.jpg'},\n",
       " 'P89b9951': {'name': 'Henry G. Godwin', 'filename': 'file.jpg'},\n",
       " 'P18e2702': {'name': 'John Grantham', 'filename': 'file.jpg'},\n",
       " 'Pd1c5b12': {'name': 'Thomas Guppy', 'filename': 'file.jpg'},\n",
       " 'P479d7c7': {'name': 'Samuel Hall', 'filename': 'file.jpg'},\n",
       " 'Pf883e30': {'name': 'W. Hamilton', 'filename': 'file.jpg'},\n",
       " 'P7b9e569': {'name': 'John Hare', 'filename': 'file.jpg'},\n",
       " 'P91c1f7b': {'name': 'John Harford', 'filename': 'file.jpg'},\n",
       " 'Pe87543a': {'name': 'Francis Humphrys', 'filename': 'file.jpg'},\n",
       " 'Pce7719c': {'name': 'Richard Irvin', 'filename': 'file.jpg'},\n",
       " 'Pde4d562': {'name': 'A. P. Johnson', 'filename': 'file.jpg'},\n",
       " 'P469e33c': {'name': 'Thomas Kingsbury', 'filename': 'file.jpg'},\n",
       " 'P94106bf': {'name': 'Thomas Kington', 'filename': 'file.jpg'},\n",
       " 'P21bd7da': {'name': 'John Laird', 'filename': 'file.jpg'},\n",
       " 'Pe17949e': {'name': 'Mr. Levy', 'filename': 'file.jpg'},\n",
       " 'P3c58632': {'name': 'Miss. Lucas', 'filename': 'file.jpg'},\n",
       " 'Pe6be214': {'name': 'Samuel Lucas', 'filename': 'file.jpg'},\n",
       " 'Pf1a2f87': {'name': 'George Lunnell', 'filename': 'file.jpg'},\n",
       " 'P91a2bdb': {'name': 'Peter Maze (the elder)', 'filename': 'file.jpg'},\n",
       " 'P253623e': {'name': 'John William Miles', 'filename': 'file.jpg'},\n",
       " 'P0a19be0': {'name': 'Missing', 'filename': 'file.jpg'},\n",
       " 'Pb43d53e': {'name': 'W. Morgan', 'filename': 'file.jpg'},\n",
       " 'Pae2c337': {'name': 'John Moxham', 'filename': 'file.jpg'},\n",
       " 'P9fa979c': {'name': 'Mr. Harding', 'filename': 'file.jpg'},\n",
       " 'P2c84683': {'name': 'G. Norman', 'filename': 'file.jpg'},\n",
       " 'Pdc788ae': {'name': 'William Edward Parry', 'filename': 'file.jpg'},\n",
       " 'Pee78238': {'name': 'William Patterson', 'filename': 'file.jpg'},\n",
       " 'P87dbced': {'name': 'Thomas Pycroft', 'filename': 'file.jpg'},\n",
       " 'P3f9cf38': {'name': 'George Rennie', 'filename': 'file.jpg'},\n",
       " 'Pd9e51dd': {'name': 'Richard Robinson', 'filename': 'file.jpg'},\n",
       " 'P1c14286': {'name': 'Robert Scott', 'filename': 'file.jpg'},\n",
       " 'P5656643': {'name': 'Francis Petit Smith', 'filename': 'file.jpg'},\n",
       " 'P050caaa': {'name': 'Mr. Smith', 'filename': 'file.jpg'},\n",
       " 'P39193bd': {'name': 'John Stafford', 'filename': 'file.jpg'},\n",
       " 'Pca9cbfa': {'name': 'Mr. Stedder', 'filename': 'file.jpg'},\n",
       " 'P43c4547': {'name': 'Robert Stephenson', 'filename': 'file.jpg'},\n",
       " 'P3bc3c57': {'name': 'William Symonds', 'filename': 'file.jpg'},\n",
       " 'P7aaad21': {'name': 'John Taylor', 'filename': 'file.jpg'},\n",
       " 'P26b4731': {'name': 'Rev. Taylor', 'filename': 'file.jpg'},\n",
       " 'Pa456f07': {'name': 'John Vining', 'filename': 'file.jpg'},\n",
       " 'P97fd4c7': {'name': 'Mr. Warr', 'filename': 'file.jpg'},\n",
       " 'P491d8af': {'name': 'Thomas Boneville Were', 'filename': 'file.jpg'},\n",
       " 'P5fd0520': {'name': 'John Winwood', 'filename': 'file.jpg'},\n",
       " 'Bb1c8b2a': {'name': 'Hoare & Barnetts', 'filename': 'file.jpg'},\n",
       " 'B77a551b': {'name': 'Miles & Harford', 'filename': 'file.jpg'},\n",
       " 'Baebad3c': {'name': 'Osborne, Ward & Sons', 'filename': 'file.jpg'},\n",
       " 'B76e3b46': {'name': 'Seaward & Co.', 'filename': 'file.jpg'},\n",
       " 'B5b3c4c4': {'name': 'Swain, Stevens & Co.', 'filename': 'file.jpg'}}"
      ]
     },
     "execution_count": 45,
     "metadata": {},
     "output_type": "execute_result"
    }
   ],
   "source": [
    "n"
   ]
  },
  {
   "cell_type": "code",
   "execution_count": null,
   "metadata": {},
   "outputs": [],
   "source": []
  }
 ],
 "metadata": {
  "kernelspec": {
   "display_name": "Python 3",
   "language": "python",
   "name": "python3"
  },
  "language_info": {
   "codemirror_mode": {
    "name": "ipython",
    "version": 3
   },
   "file_extension": ".py",
   "mimetype": "text/x-python",
   "name": "python",
   "nbconvert_exporter": "python",
   "pygments_lexer": "ipython3",
   "version": "3.8.3"
  }
 },
 "nbformat": 4,
 "nbformat_minor": 2
}
