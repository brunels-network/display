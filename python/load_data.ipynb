{
 "cells": [
  {
   "cell_type": "code",
   "execution_count": 1,
   "metadata": {},
   "outputs": [],
   "source": [
    "from Brunel import Social, export_all, copy_all"
   ]
  },
  {
   "cell_type": "markdown",
   "metadata": {},
   "source": [
    "## Read in data and create the network"
   ]
  },
  {
   "cell_type": "code",
   "execution_count": 2,
   "metadata": {},
   "outputs": [],
   "source": [
    "social = Social()"
   ]
  },
  {
   "cell_type": "markdown",
   "metadata": {},
   "source": [
    "Read in a list of projects from a tab separated file"
   ]
  },
  {
   "cell_type": "code",
   "execution_count": 3,
   "metadata": {},
   "outputs": [],
   "source": [
    "social.load_projects(\"input/datakey.xlsx\", sheet_name=\"Projects\")"
   ]
  },
  {
   "cell_type": "markdown",
   "metadata": {},
   "source": [
    "Read in a list of sources"
   ]
  },
  {
   "cell_type": "code",
   "execution_count": 4,
   "metadata": {},
   "outputs": [],
   "source": [
    "social.load_sources(\"input/datakey.xlsx\", sheet_name=\"Sources\")"
   ]
  },
  {
   "cell_type": "markdown",
   "metadata": {},
   "source": [
    "Now we need to load in the node and edge data for each ship, note that the project name here must match a name given when loading in the projects above."
   ]
  },
  {
   "cell_type": "code",
   "execution_count": 5,
   "metadata": {
    "scrolled": false
   },
   "outputs": [],
   "source": [
    "social.load_graph(project=\"Great Western\", \n",
    "                  nodes_filepath=\"input/gw_nodes.xlsx\", \n",
    "                  edges_filepath=\"input/gw_edges.xlsx\")"
   ]
  },
  {
   "cell_type": "code",
   "execution_count": 6,
   "metadata": {},
   "outputs": [
    {
     "name": "stdout",
     "output_type": "stream",
     "text": [
      "Is W. E. Acraman the same person as William Edward Acraman? (y/n) y\n",
      "Is Mr. Levy the same person as Levy? (y/n) y\n",
      "Is Mr. Warr the same person as Warr? (y/n) y\n"
     ]
    }
   ],
   "source": [
    "social.load_graph(project=\"Great Britain\", \n",
    "                  nodes_filepath=\"input/gb_nodes.xlsx\", \n",
    "                  edges_filepath=\"input/gb_edges.xlsx\")"
   ]
  },
  {
   "cell_type": "code",
   "execution_count": 7,
   "metadata": {},
   "outputs": [
    {
     "name": "stdout",
     "output_type": "stream",
     "text": [
      "Is W. Barber the same person as William Barber? (y/n) n\n",
      "Is Alexander S. Ross the same person as Alexander M. Ross? (y/n) n\n",
      "Is Mr. Lucas the same person as Miss. Lucas? (y/n) n\n"
     ]
    }
   ],
   "source": [
    "social.load_graph(project=\"Great Eastern\", \n",
    "                  nodes_filepath=\"input/ge_nodes.xlsx\", \n",
    "                  edges_filepath=\"input/ge_edges.xlsx\")"
   ]
  },
  {
   "cell_type": "markdown",
   "metadata": {},
   "source": [
    "Read in the biographies for entities in the network"
   ]
  },
  {
   "cell_type": "code",
   "execution_count": 8,
   "metadata": {},
   "outputs": [
    {
     "name": "stdout",
     "output_type": "stream",
     "text": [
      "\n",
      "No match for Birch, C. Bagster. Nearest matches are:\n",
      "1: Person(C. Birch Bagster)\n",
      "Is this the right person (y/n)?y\n",
      "\n",
      "No match for Fox Henderson & Co.. Nearest matches are:\n",
      "1: Business(Fox, Henderson & Co)\n",
      "Is this the right person (y/n)?y\n",
      "There is already a biography for Person(George Gibbs)\n",
      "\n",
      "No match for J. Abbotts & Co.. Nearest matches are:\n",
      "1: Business(J. Abbots & Co.)\n",
      "Is this the right person (y/n)?y\n",
      "There is nothing called J. S. Russell & Sons for which to give a biography!\n",
      "There is already a biography for Person(Reverend Septimus Jones)\n",
      "There is nothing called Nasmyth, James for which to give a biography!\n",
      "\n",
      "No match for Woods Bros.. Nearest matches are:\n",
      "1: Business(Woods Bros)\n",
      "Is this the right person (y/n)?y\n"
     ]
    }
   ],
   "source": [
    "social.load_biographies(\"input/datakey.xlsx\", sheet_name=\"Node Bio's\")"
   ]
  },
  {
   "cell_type": "markdown",
   "metadata": {},
   "source": [
    "### Export to JSON"
   ]
  },
  {
   "cell_type": "markdown",
   "metadata": {},
   "source": [
    "We're now ready to export the data to file. The `export_all` function writes three files\n",
    "\n",
    "1. The social network itself - `socialNetwork.json`\n",
    "2. Source names for matching to image files of scanned documents - `entityImageFilenames.json`\n",
    "3. A list of entities for matching to image files of portraits - `sourceImageFilenames.json`\n",
    "\n",
    "This function will create timestamped backups of previous files if any are found."
   ]
  },
  {
   "cell_type": "code",
   "execution_count": null,
   "metadata": {},
   "outputs": [],
   "source": [
    "export_all(social)"
   ]
  },
  {
   "cell_type": "markdown",
   "metadata": {},
   "source": [
    "### Copy your new social network"
   ]
  },
  {
   "cell_type": "markdown",
   "metadata": {},
   "source": [
    "To copy the files into the correct directory within the Javascript `src` folder the `copy_all` function is used. This will ask for confirmation of overwrite."
   ]
  },
  {
   "cell_type": "code",
   "execution_count": null,
   "metadata": {},
   "outputs": [],
   "source": [
    "copy_all()"
   ]
  },
  {
   "cell_type": "markdown",
   "metadata": {},
   "source": [
    "Your newly created social network should now be visible as a force graph. If you have any problems or find any errors in any of the functions used here or anywhere in the software, please [open an issue](https://github.com/brunels-network/network/issues/new/choose)."
   ]
  },
  {
   "cell_type": "code",
   "execution_count": null,
   "metadata": {},
   "outputs": [],
   "source": [
    "images = {}"
   ]
  },
  {
   "cell_type": "code",
   "execution_count": null,
   "metadata": {},
   "outputs": [],
   "source": [
    "images[social.projects().find(\"Great Western\").getID()] = \"images/ships/Great_Western.jpg\""
   ]
  },
  {
   "cell_type": "code",
   "execution_count": null,
   "metadata": {},
   "outputs": [],
   "source": [
    "images[social.projects().find(\"Great Eastern\").getID()] = \"images/ships/Great_Eastern.jpg\""
   ]
  },
  {
   "cell_type": "code",
   "execution_count": null,
   "metadata": {},
   "outputs": [],
   "source": [
    "images[social.projects().find(\"Great Britain\").getID()] = \"images/ships/Great_Britain.jpg\""
   ]
  },
  {
   "cell_type": "code",
   "execution_count": null,
   "metadata": {},
   "outputs": [],
   "source": [
    "images[social.people().find(\"Christopher Claxton\").getID()] = \"images/people/Christopher_Claxton.jpg\""
   ]
  },
  {
   "cell_type": "code",
   "execution_count": null,
   "metadata": {},
   "outputs": [],
   "source": [
    "images[social.people().find(\"John Grantham\").getID()] = \"images/people/John_Grantham.jpg\""
   ]
  },
  {
   "cell_type": "code",
   "execution_count": null,
   "metadata": {},
   "outputs": [],
   "source": [
    "images[social.people().find(\"Robert Bright\").getID()] = \"images/people/Robert_Bright.jpg\""
   ]
  },
  {
   "cell_type": "code",
   "execution_count": null,
   "metadata": {},
   "outputs": [],
   "source": [
    "images[social.people().find(\"Samuel Hall\").getID()] = \"images/people/Samuel_Hall.jpg\""
   ]
  },
  {
   "cell_type": "code",
   "execution_count": null,
   "metadata": {},
   "outputs": [],
   "source": [
    "images[social.people().find(\"William Fairbairn\").getID()] = \"images/people/William_Fairbairn.jpg\""
   ]
  },
  {
   "cell_type": "code",
   "execution_count": null,
   "metadata": {},
   "outputs": [],
   "source": [
    "images[social.people().find(\"William Symonds\").getID()] = \"images/people/William_Symbonds.jpg\""
   ]
  },
  {
   "cell_type": "code",
   "execution_count": null,
   "metadata": {},
   "outputs": [],
   "source": [
    "images[social.people().find(\"Bryan Donkin\").getID()] = \"images/people/Bryan_Donkin.jpg\""
   ]
  },
  {
   "cell_type": "code",
   "execution_count": null,
   "metadata": {},
   "outputs": [],
   "source": [
    "images[social.people().find(\"Edward Chappel\").getID()] = \"images/people/Edward_Chappell.jpg\""
   ]
  },
  {
   "cell_type": "code",
   "execution_count": null,
   "metadata": {},
   "outputs": [],
   "source": [
    "images"
   ]
  },
  {
   "cell_type": "code",
   "execution_count": null,
   "metadata": {},
   "outputs": [],
   "source": [
    "import json"
   ]
  },
  {
   "cell_type": "code",
   "execution_count": null,
   "metadata": {},
   "outputs": [],
   "source": [
    "with open(\"images.json\", \"w\") as FILE:\n",
    "    FILE.write(json.dumps(images, indent=2))"
   ]
  },
  {
   "cell_type": "code",
   "execution_count": null,
   "metadata": {},
   "outputs": [],
   "source": []
  },
  {
   "cell_type": "code",
   "execution_count": null,
   "metadata": {},
   "outputs": [],
   "source": []
  },
  {
   "cell_type": "code",
   "execution_count": 9,
   "metadata": {},
   "outputs": [],
   "source": [
    "p = social.people().find(\"Joshua Field\")"
   ]
  },
  {
   "cell_type": "code",
   "execution_count": 10,
   "metadata": {},
   "outputs": [
    {
     "data": {
      "text/plain": [
       "Person(Joshua Field)"
      ]
     },
     "execution_count": 10,
     "metadata": {},
     "output_type": "execute_result"
    }
   ],
   "source": [
    "p"
   ]
  },
  {
   "cell_type": "code",
   "execution_count": 13,
   "metadata": {},
   "outputs": [
    {
     "data": {
      "text/plain": [
       "{'J3fa4ce2': ['S6484c5a', 'Sb71f9c0'],\n",
       " 'J33955b5': ['S6484c5a', 'S47b528f'],\n",
       " 'J2613f07': ['Sabc74c2']}"
      ]
     },
     "execution_count": 13,
     "metadata": {},
     "output_type": "execute_result"
    }
   ],
   "source": [
    "p.state[\"sources\"]"
   ]
  },
  {
   "cell_type": "code",
   "execution_count": 14,
   "metadata": {},
   "outputs": [
    {
     "data": {
      "text/plain": [
       "<Brunel._connections.Connections object at 0x7fab411afd50>"
      ]
     },
     "execution_count": 14,
     "metadata": {},
     "output_type": "execute_result"
    }
   ],
   "source": [
    "social.connections()"
   ]
  },
  {
   "cell_type": "code",
   "execution_count": 15,
   "metadata": {},
   "outputs": [],
   "source": [
    "c = social.connections()"
   ]
  },
  {
   "cell_type": "code",
   "execution_count": 28,
   "metadata": {},
   "outputs": [
    {
     "name": "stdout",
     "output_type": "stream",
     "text": [
      "{}\n",
      "{'S58a10bc': [Date:unknown], 'S2ad5f8e': [~1837-01-01-1837-12-31], 'Sb097056': [~1837-01-01-1837-12-31], 'Sc96ec6a': [~1837-01-01-1837-12-31], 'Sf5f8395': [Date:unknown], 'S0c18ef5': [Date:unknown], 'Sabc74c2': [~1852-01-01-1852-12-31]}\n",
      "{'S15cc096': [Date:unknown], 'S807bd04': [~1836-01-01-1836-12-31]}\n",
      "{'S53f1e42': [Date:unknown]}\n",
      "{'Sd7b54e3': [Date:unknown]}\n",
      "{'See8f959': [Date:unknown]}\n",
      "{}\n"
     ]
    }
   ],
   "source": [
    "for connection in c.state[\"registry\"].values():\n",
    "    if connection.getNode0() == p or connection.getNode1() == p:\n",
    "        print(connection.state[\"correspondences\"])"
   ]
  },
  {
   "cell_type": "code",
   "execution_count": 29,
   "metadata": {},
   "outputs": [],
   "source": [
    "seen = {}"
   ]
  },
  {
   "cell_type": "code",
   "execution_count": 31,
   "metadata": {},
   "outputs": [],
   "source": [
    "for connection in c.state[\"registry\"].values():\n",
    "    if connection.getNode0() == p or connection.getNode1() == p:\n",
    "        for source in connection.state[\"correspondences\"].keys():\n",
    "            if source not in seen:\n",
    "                seen[source] = 1"
   ]
  },
  {
   "cell_type": "code",
   "execution_count": 33,
   "metadata": {},
   "outputs": [],
   "source": [
    "for connection in c.state[\"registry\"].values():\n",
    "    if connection.getNode0() == p or connection.getNode1() == p:\n",
    "        for source in connection.state[\"affiliations\"].keys():\n",
    "            if source not in seen:\n",
    "                seen[source] = 1"
   ]
  },
  {
   "cell_type": "code",
   "execution_count": 34,
   "metadata": {},
   "outputs": [
    {
     "data": {
      "text/plain": [
       "{'S58a10bc': 1,\n",
       " 'S2ad5f8e': 1,\n",
       " 'Sb097056': 1,\n",
       " 'Sc96ec6a': 1,\n",
       " 'Sf5f8395': 1,\n",
       " 'S0c18ef5': 1,\n",
       " 'Sabc74c2': 1,\n",
       " 'S15cc096': 1,\n",
       " 'S807bd04': 1,\n",
       " 'S53f1e42': 1,\n",
       " 'Sd7b54e3': 1,\n",
       " 'See8f959': 1,\n",
       " 'S761ca31': 1,\n",
       " 'S8ef02f6': 1}"
      ]
     },
     "execution_count": 34,
     "metadata": {},
     "output_type": "execute_result"
    }
   ],
   "source": [
    "seen"
   ]
  },
  {
   "cell_type": "code",
   "execution_count": null,
   "metadata": {},
   "outputs": [],
   "source": []
  }
 ],
 "metadata": {
  "kernelspec": {
   "display_name": "Python 3",
   "language": "python",
   "name": "python3"
  },
  "language_info": {
   "codemirror_mode": {
    "name": "ipython",
    "version": 3
   },
   "file_extension": ".py",
   "mimetype": "text/x-python",
   "name": "python",
   "nbconvert_exporter": "python",
   "pygments_lexer": "ipython3",
   "version": "3.7.8"
  }
 },
 "nbformat": 4,
 "nbformat_minor": 2
}
