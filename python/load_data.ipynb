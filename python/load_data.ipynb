{
 "cells": [
  {
   "cell_type": "code",
   "execution_count": 1,
   "metadata": {},
   "outputs": [],
   "source": [
    "from Brunel import Social, export_all, copy_all"
   ]
  },
  {
   "cell_type": "markdown",
   "metadata": {},
   "source": [
    "## Read in data and create the network"
   ]
  },
  {
   "cell_type": "code",
   "execution_count": 2,
   "metadata": {},
   "outputs": [],
   "source": [
    "social = Social()"
   ]
  },
  {
   "cell_type": "markdown",
   "metadata": {},
   "source": [
    "Read in a list of projects from a tab separated file"
   ]
  },
  {
   "cell_type": "code",
   "execution_count": 3,
   "metadata": {},
   "outputs": [],
   "source": [
    "social.load_projects(\"input/datakey.xlsx\", sheet_name=\"Projects\")"
   ]
  },
  {
   "cell_type": "markdown",
   "metadata": {},
   "source": [
    "Read in a list of sources"
   ]
  },
  {
   "cell_type": "code",
   "execution_count": 4,
   "metadata": {},
   "outputs": [],
   "source": [
    "social.load_sources(\"input/datakey.xlsx\", sheet_name=\"Sources\")"
   ]
  },
  {
   "cell_type": "markdown",
   "metadata": {},
   "source": [
    "Now we need to load in the node and edge data for each ship, note that the project name here must match a name given when loading in the projects above."
   ]
  },
  {
   "cell_type": "code",
   "execution_count": 5,
   "metadata": {
    "scrolled": false
   },
   "outputs": [],
   "source": [
    "social.load_graph(project=\"Great Western\", \n",
    "                  nodes_filepath=\"input/gw_nodes.xlsx\", \n",
    "                  edges_filepath=\"input/gw_edges.xlsx\")"
   ]
  },
  {
   "cell_type": "code",
   "execution_count": 6,
   "metadata": {},
   "outputs": [
    {
     "name": "stdout",
     "output_type": "stream",
     "text": [
      "Is W. E. Acraman the same person as William Edward Acraman? (y/n) y\n",
      "Is Mr. Levy the same person as Levy? (y/n) y\n",
      "Is Mr. Warr the same person as Warr? (y/n) y\n"
     ]
    }
   ],
   "source": [
    "social.load_graph(project=\"Great Britain\", \n",
    "                  nodes_filepath=\"input/gb_nodes.xlsx\", \n",
    "                  edges_filepath=\"input/gb_edges.xlsx\")"
   ]
  },
  {
   "cell_type": "code",
   "execution_count": 7,
   "metadata": {},
   "outputs": [
    {
     "name": "stdout",
     "output_type": "stream",
     "text": [
      "Is W. Barber the same person as William Barber? (y/n) n\n",
      "Is Alexander S. Ross the same person as Alexander M. Ross? (y/n) n\n",
      "Is Mr. Lucas the same person as Miss. Lucas? (y/n) n\n"
     ]
    }
   ],
   "source": [
    "social.load_graph(project=\"Great Eastern\", \n",
    "                  nodes_filepath=\"input/ge_nodes.xlsx\", \n",
    "                  edges_filepath=\"input/ge_edges.xlsx\")"
   ]
  },
  {
   "cell_type": "markdown",
   "metadata": {},
   "source": [
    "Read in the biographies for entities in the network"
   ]
  },
  {
   "cell_type": "code",
   "execution_count": 8,
   "metadata": {},
   "outputs": [
    {
     "name": "stdout",
     "output_type": "stream",
     "text": [
      "\n",
      "No match for Birch, C. Bagster. Nearest matches are:\n",
      "1: Person(C. Birch Bagster)\n",
      "Is this the right person (y/n)?y\n",
      "\n",
      "No match for Fox Henderson & Co.. Nearest matches are:\n",
      "1: Business(Fox, Henderson & Co)\n",
      "Is this the right person (y/n)?y\n",
      "There is already a biography for Person(George Gibbs)\n",
      "\n",
      "No match for J. Abbotts & Co.. Nearest matches are:\n",
      "1: Business(J. Abbots & Co.)\n",
      "Is this the right person (y/n)?y\n",
      "There is nothing called J. S. Russell & Sons for which to give a biography!\n",
      "There is already a biography for Person(Reverend Septimus Jones)\n",
      "There is nothing called Nasmyth, James for which to give a biography!\n",
      "\n",
      "No match for Woods Bros.. Nearest matches are:\n",
      "1: Business(Woods Bros)\n",
      "Is this the right person (y/n)?y\n"
     ]
    }
   ],
   "source": [
    "social.load_biographies(\"input/datakey.xlsx\", sheet_name=\"Node Bio's\")"
   ]
  },
  {
   "cell_type": "markdown",
   "metadata": {},
   "source": [
    "### Export to JSON"
   ]
  },
  {
   "cell_type": "markdown",
   "metadata": {},
   "source": [
    "We're now ready to export the data to file. The `export_all` function writes three files\n",
    "\n",
    "1. The social network itself - `socialNetwork.json`\n",
    "2. Source names for matching to image files of scanned documents - `entityImageFilenames.json`\n",
    "3. A list of entities for matching to image files of portraits - `sourceImageFilenames.json`\n",
    "\n",
    "This function will create timestamped backups of previous files if any are found."
   ]
  },
  {
   "cell_type": "code",
   "execution_count": null,
   "metadata": {},
   "outputs": [],
   "source": [
    "export_all(social)"
   ]
  },
  {
   "cell_type": "markdown",
   "metadata": {},
   "source": [
    "### Copy your new social network"
   ]
  },
  {
   "cell_type": "markdown",
   "metadata": {},
   "source": [
    "To copy the files into the correct directory within the Javascript `src` folder the `copy_all` function is used. This will ask for confirmation of overwrite."
   ]
  },
  {
   "cell_type": "code",
   "execution_count": null,
   "metadata": {},
   "outputs": [],
   "source": [
    "copy_all()"
   ]
  },
  {
   "cell_type": "markdown",
   "metadata": {},
   "source": [
    "Your newly created social network should now be visible as a force graph. If you have any problems or find any errors in any of the functions used here or anywhere in the software, please [open an issue](https://github.com/brunels-network/network/issues/new/choose)."
   ]
  },
  {
   "cell_type": "code",
   "execution_count": null,
   "metadata": {},
   "outputs": [],
   "source": [
    "images = {}"
   ]
  },
  {
   "cell_type": "code",
   "execution_count": null,
   "metadata": {},
   "outputs": [],
   "source": [
    "images[social.projects().find(\"Great Western\").getID()] = \"images/ships/Great_Western.jpg\""
   ]
  },
  {
   "cell_type": "code",
   "execution_count": null,
   "metadata": {},
   "outputs": [],
   "source": [
    "images[social.projects().find(\"Great Eastern\").getID()] = \"images/ships/Great_Eastern.jpg\""
   ]
  },
  {
   "cell_type": "code",
   "execution_count": null,
   "metadata": {},
   "outputs": [],
   "source": [
    "images[social.projects().find(\"Great Britain\").getID()] = \"images/ships/Great_Britain.jpg\""
   ]
  },
  {
   "cell_type": "code",
   "execution_count": null,
   "metadata": {},
   "outputs": [],
   "source": [
    "images[social.people().find(\"Christopher Claxton\").getID()] = \"images/people/Christopher_Claxton.jpg\""
   ]
  },
  {
   "cell_type": "code",
   "execution_count": null,
   "metadata": {},
   "outputs": [],
   "source": [
    "images[social.people().find(\"John Grantham\").getID()] = \"images/people/John_Grantham.jpg\""
   ]
  },
  {
   "cell_type": "code",
   "execution_count": null,
   "metadata": {},
   "outputs": [],
   "source": [
    "images[social.people().find(\"Robert Bright\").getID()] = \"images/people/Robert_Bright.jpg\""
   ]
  },
  {
   "cell_type": "code",
   "execution_count": null,
   "metadata": {},
   "outputs": [],
   "source": [
    "images[social.people().find(\"Samuel Hall\").getID()] = \"images/people/Samuel_Hall.jpg\""
   ]
  },
  {
   "cell_type": "code",
   "execution_count": null,
   "metadata": {},
   "outputs": [],
   "source": [
    "images[social.people().find(\"William Fairbairn\").getID()] = \"images/people/William_Fairbairn.jpg\""
   ]
  },
  {
   "cell_type": "code",
   "execution_count": null,
   "metadata": {},
   "outputs": [],
   "source": [
    "images[social.people().find(\"William Symonds\").getID()] = \"images/people/William_Symbonds.jpg\""
   ]
  },
  {
   "cell_type": "code",
   "execution_count": null,
   "metadata": {},
   "outputs": [],
   "source": [
    "images[social.people().find(\"Bryan Donkin\").getID()] = \"images/people/Bryan_Donkin.jpg\""
   ]
  },
  {
   "cell_type": "code",
   "execution_count": null,
   "metadata": {},
   "outputs": [],
   "source": [
    "images[social.people().find(\"Edward Chappel\").getID()] = \"images/people/Edward_Chappell.jpg\""
   ]
  },
  {
   "cell_type": "code",
   "execution_count": null,
   "metadata": {},
   "outputs": [],
   "source": [
    "images"
   ]
  },
  {
   "cell_type": "code",
   "execution_count": null,
   "metadata": {},
   "outputs": [],
   "source": [
    "import json"
   ]
  },
  {
   "cell_type": "code",
   "execution_count": null,
   "metadata": {},
   "outputs": [],
   "source": [
    "with open(\"images.json\", \"w\") as FILE:\n",
    "    FILE.write(json.dumps(images, indent=2))"
   ]
  },
  {
   "cell_type": "code",
   "execution_count": null,
   "metadata": {},
   "outputs": [],
   "source": []
  },
  {
   "cell_type": "code",
   "execution_count": null,
   "metadata": {},
   "outputs": [],
   "source": []
  },
  {
   "cell_type": "code",
   "execution_count": 47,
   "metadata": {},
   "outputs": [],
   "source": [
    "p = social.people().find(\"William Patterson\")"
   ]
  },
  {
   "cell_type": "code",
   "execution_count": 48,
   "metadata": {},
   "outputs": [
    {
     "data": {
      "text/plain": [
       "Person(William Patterson)"
      ]
     },
     "execution_count": 48,
     "metadata": {},
     "output_type": "execute_result"
    }
   ],
   "source": [
    "p"
   ]
  },
  {
   "cell_type": "code",
   "execution_count": 49,
   "metadata": {},
   "outputs": [
    {
     "data": {
      "text/plain": [
       "{'J3fa4ce2': ['Sb71f9c0'], 'J33955b5': ['Sfd6105f'], 'J2613f07': ['Sabc74c2']}"
      ]
     },
     "execution_count": 49,
     "metadata": {},
     "output_type": "execute_result"
    }
   ],
   "source": [
    "p.state[\"sources\"]"
   ]
  },
  {
   "cell_type": "code",
   "execution_count": 50,
   "metadata": {},
   "outputs": [
    {
     "data": {
      "text/plain": [
       "<Brunel._connections.Connections object at 0x7fab411afd50>"
      ]
     },
     "execution_count": 50,
     "metadata": {},
     "output_type": "execute_result"
    }
   ],
   "source": [
    "social.connections()"
   ]
  },
  {
   "cell_type": "code",
   "execution_count": 51,
   "metadata": {},
   "outputs": [],
   "source": [
    "c = social.connections()"
   ]
  },
  {
   "cell_type": "code",
   "execution_count": 54,
   "metadata": {},
   "outputs": [
    {
     "name": "stdout",
     "output_type": "stream",
     "text": [
      "Connections(William Patterson <=> Christopher Claxton) 0\n",
      "Connections(Isambard Kingdom Brunel <=> William Patterson) DM162/10\n",
      "Connections(Isambard Kingdom Brunel <=> William Patterson) DM1306/11/1/1\n",
      "DM1306/11/1/1\n",
      "Connections(Joshua Field <=> William Patterson) FIELD II\n",
      "Connections(William Patterson <=> Thomas Guppy) DM162/10\n",
      "Connections(James & Nevill <=> William Patterson) DM1306/11/1/1\n"
     ]
    }
   ],
   "source": [
    "for connection in c.state[\"registry\"].values():\n",
    "    if connection.getNode0() == p or connection.getNode1() == p:\n",
    "        for k in connection.state[\"affiliations\"].keys():\n",
    "            print(connection, social.get(k).getName())\n",
    "        for k in connection.state[\"correspondences\"].keys():\n",
    "            print(social.get(k).getName())"
   ]
  },
  {
   "cell_type": "code",
   "execution_count": 29,
   "metadata": {},
   "outputs": [],
   "source": [
    "seen = {}"
   ]
  },
  {
   "cell_type": "code",
   "execution_count": 31,
   "metadata": {},
   "outputs": [],
   "source": [
    "for connection in c.state[\"registry\"].values():\n",
    "    if connection.getNode0() == p or connection.getNode1() == p:\n",
    "        for source in connection.state[\"correspondences\"].keys():\n",
    "            if source not in seen:\n",
    "                seen[source] = 1"
   ]
  },
  {
   "cell_type": "code",
   "execution_count": 33,
   "metadata": {},
   "outputs": [],
   "source": [
    "for connection in c.state[\"registry\"].values():\n",
    "    if connection.getNode0() == p or connection.getNode1() == p:\n",
    "        for source in connection.state[\"affiliations\"].keys():\n",
    "            if source not in seen:\n",
    "                seen[source] = 1"
   ]
  },
  {
   "cell_type": "code",
   "execution_count": 34,
   "metadata": {},
   "outputs": [
    {
     "data": {
      "text/plain": [
       "{'S58a10bc': 1,\n",
       " 'S2ad5f8e': 1,\n",
       " 'Sb097056': 1,\n",
       " 'Sc96ec6a': 1,\n",
       " 'Sf5f8395': 1,\n",
       " 'S0c18ef5': 1,\n",
       " 'Sabc74c2': 1,\n",
       " 'S15cc096': 1,\n",
       " 'S807bd04': 1,\n",
       " 'S53f1e42': 1,\n",
       " 'Sd7b54e3': 1,\n",
       " 'See8f959': 1,\n",
       " 'S761ca31': 1,\n",
       " 'S8ef02f6': 1}"
      ]
     },
     "execution_count": 34,
     "metadata": {},
     "output_type": "execute_result"
    }
   ],
   "source": [
    "seen"
   ]
  },
  {
   "cell_type": "code",
   "execution_count": 46,
   "metadata": {},
   "outputs": [
    {
     "data": {
      "text/plain": [
       "{'registry': {'S6b654ce': Source(2019.00003 (2)),\n",
       "  'Sd18f795': Source(28048/p/83_17),\n",
       "  'S7e5617c': Source(38605/A/1),\n",
       "  'S250b415': Source(38605/A/3),\n",
       "  'Sadd54d3': Source(38605/M/1),\n",
       "  'S60c3908': Source(ADM 92/4),\n",
       "  'S904b351': Source(Bristol Mercury),\n",
       "  'S7a97679': Source(Bristol Mirror),\n",
       "  'S71ec36f': Source(C14/1177/S44),\n",
       "  'S9dde2fa': Source(C15/228/R12),\n",
       "  'Sa74764b': Source(C15/241/T69),\n",
       "  'S4b068e9': Source(C15/346/W79),\n",
       "  'S271da2a': Source(Cbox I.),\n",
       "  'Sd13d777': Source(Cbox II.),\n",
       "  'S38eb6a3': Source(Digital Store 8805.e.15. DRT),\n",
       "  'Sfd6105f': Source(DM1038/2),\n",
       "  'Sabc74c2': Source(DM1306/11/1/1),\n",
       "  'S228e2de': Source(DM1306/11/1/2),\n",
       "  'S310aaca': Source(DM1306/11/1/3),\n",
       "  'Sa8fe2bd': Source(DM1306/11/1/4),\n",
       "  'Sf9cd6d4': Source(DM1306/11/1/5),\n",
       "  'Seedba88': Source(DM1306/11/1/6),\n",
       "  'Sc55bf5e': Source(DM1306/75),\n",
       "  'S19b8c19': Source(DM162/10/1),\n",
       "  'S0114522': Source(DM162/10/2),\n",
       "  'S183ab4f': Source(DM162/10/2a),\n",
       "  'S2a8106c': Source(DM162/10/2b),\n",
       "  'Sa64cb05': Source(DM162/8/2/5),\n",
       "  'S9e7c732': Source(DM1758/9/2/1),\n",
       "  'S257b468': Source(DM1758/9/2/2),\n",
       "  'S0b82f92': Source(DM1758/9/2/3),\n",
       "  'S4fd2858': Source(DM1758/9/2/4),\n",
       "  'S3d61fe0': Source(FIELD I),\n",
       "  'S8ef02f6': Source(FIELD II),\n",
       "  'S266fa69': Source(Liverpool Mercury),\n",
       "  'S82f327b': Source(Mechanics Magazine),\n",
       "  'S53f1e42': Source(MS 1295),\n",
       "  'S43d8ca1': Source(MS 2126/3/5/f/1849/6),\n",
       "  'S0477bba': Source(MS 3/Box 9/bdl 7),\n",
       "  'Sb36508e': Source(PBA/Corp/E/3/19-20),\n",
       "  'S8ed7e67': Source(PBA/Corp/E/3/21_j),\n",
       "  'S58a10bc': Source(RAIL 1149/3),\n",
       "  'Sb71f9c0': Source(RAIL 1149/60),\n",
       "  'S0823cc4': Source(RAIL 250/64),\n",
       "  'Sec8fe34': Source(RAIL 251/19),\n",
       "  'S5366b6c': Source(RAIL 251/20),\n",
       "  'Sca37c0b': Source(RAIL 251/21),\n",
       "  'S95fbf20': Source(RAIL 640/369),\n",
       "  'S1f97a09': Source(RAIL 640/370),\n",
       "  'Sbc1a435': Source(UCL 'Legacies' Database),\n",
       "  'S761ca31': Source(Bristol Mirror 22.5.1840),\n",
       "  'Sb6434ce': Source(DM162/10/1-121),\n",
       "  'S6484c5a': Source(DM162/10/1-273),\n",
       "  'S0dbd00e': Source(DM162/10/1-211),\n",
       "  'Sb097056': Source(DM162/10/1-272),\n",
       "  'S01477e8': Source(Liverpool Mercury 8.7.1836),\n",
       "  'S63f7e74': Source(NA RAIL 251/19),\n",
       "  'Sabbf7ad': Source(38605/A/3; NA RAIL 251/19-20),\n",
       "  'Sa49085d': Source(RAIL 250/19),\n",
       "  'Sc30fa3c': Source(RAIL 251/19-20),\n",
       "  'S214d7e6': Source(BCA 250/64),\n",
       "  'Se6bb401': Source(NA RAIL 251/19-20),\n",
       "  'S60749b1': Source(RAIL 241/19),\n",
       "  'Sb01b448': Source(DM162/10/1-121, 270, 273),\n",
       "  'S2ad5f8e': Source(DM162/10/2-83),\n",
       "  'S43fd45d': Source(NA RAIL 250/64),\n",
       "  'Sdc261bb': Source(DM1306/75-1,2,3,4,5),\n",
       "  'Sdd63b6f': Source(0),\n",
       "  'Se08d917': Source(38605 /A/3),\n",
       "  'S92bc659': Source(D/FFO/13/194),\n",
       "  'Sc96ec6a': Source(FIELD II-44),\n",
       "  'S15cc096': Source(FIELD I-42),\n",
       "  'Sd7b54e3': Source(RAIL/1149/3),\n",
       "  'Sc69d52c': Source(BCA PBA/Corp/E/3/21_j),\n",
       "  'S2a62ee9': Source(38065/A/3),\n",
       "  'S7467365': Source(BCA 38605/A/3),\n",
       "  'S67823d5': Source(RAIl 251/19-20),\n",
       "  'S807bd04': Source(FIELD I, 42),\n",
       "  'S918a137': Source(Bristol Mercury 6.4.39),\n",
       "  'S19ce09b': Source(DM1758/9/2/1-4),\n",
       "  'S8648495': Source(DM162/10/2/1-292, 342, 350, 365, 390, 397, 439),\n",
       "  'S920305c': Source(DM162/10/2b-13, 53, 236, 247,),\n",
       "  'S82ad0ce': Source(DM1758/9/2),\n",
       "  'S47b528f': Source(DM162/10/2b-179, 180, 182, 190-1, 205, 223.),\n",
       "  'S51d21b1': Source(DM162/10/2b-7),\n",
       "  'Sa855b96': Source(RAIL 1149/60 Prosp.),\n",
       "  'Sedc2f8f': Source(Liverpool Mercury 8.7.1836 BCA PBA/Corp/E/3/21_j; Bristol Dock Co. Records),\n",
       "  'S19b3a29': Source(RAIL 1149/2-4),\n",
       "  'S5bc285f': Source(DM162/10/2b-175-77, 264-6.),\n",
       "  'Scb5d43d': Source(DM162/10/2b-135-6),\n",
       "  'S65470cb': Source(DM162/10/2b-96-7),\n",
       "  'S0cb9b01': Source(96-7),\n",
       "  'Sd660a5f': Source(DM162/10/1-344),\n",
       "  'S0716734': Source(Mechanics Magazine 10.9.1842),\n",
       "  'S129cd5e': Source(DM162/10/1-336, 345),\n",
       "  'Se3cbc75': Source(DM162/10/2b-192-6, 199-200, 203, 248, 259),\n",
       "  'Scfb3c7a': Source(DM162/10/2b-110-111, 117, 269-70.),\n",
       "  'Sb8d1784': Source(Cbox II-73),\n",
       "  'Sa6f60ab': Source(DM162/10/2b-82, 94-5, 130, 166-7.),\n",
       "  'Sd4f78b2': Source(DM162/10/1-435),\n",
       "  'S84c093d': Source(DM162/10/2b-13),\n",
       "  'S622c04e': Source(DM162/10/2b-183, 185),\n",
       "  'S98f529d': Source(DM162/10/2b-183-4),\n",
       "  'S176f9c3': Source(CboxII. 73),\n",
       "  'Sfdae0d2': Source(DM162/10/2b-212),\n",
       "  'S01c3244': Source(DM162/10/2b-215, 216),\n",
       "  'Sd826d73': Source(DM -),\n",
       "  'S0c18ef5': Source(DM162/10/2b-13, 53, 235, 236, 267),\n",
       "  'Sf5f8395': Source(DM162/10/2b-180, 182, 190, 191, 205, 223, 237,),\n",
       "  'Sb8aca16': Source(DM1758/9),\n",
       "  'S632383b': Source(DM1306/75-6,7,8,9,10,11,12),\n",
       "  'S3052dcc': Source(DM162/10/2b-29, 50, 56, 100,101, 214-5),\n",
       "  'Sdfcb0eb': Source(DM162/10/2b-7, 58),\n",
       "  'S9ce20d6': Source(DM162/10/2b-175, 176, 177, 244, 245),\n",
       "  'Sde17a3a': Source(DM162/10/2b-96, 97, 269, 270),\n",
       "  'S5189355': Source(DM162/10/2b-192, 193, 194, 195, 196, 199, 200, 203, 248, 259),\n",
       "  'S4a3abea': Source(DM162/10/2b-110, 111, 117, 214, 269, 270),\n",
       "  'S8b908ce': Source(DM162/10/2b-82, 94, 95, 130, 166, 167,),\n",
       "  'S25b44de': Source(DM162/10/1-436),\n",
       "  'Sf75a1d8': Source(DM162/10/2b-9, 10),\n",
       "  'S0d7cd24': Source(DM162/10/2b-183, 184,),\n",
       "  'Sd1dedec': Source(DM162/10/2b-212, 240, 241, 269, 270, 271, 272),\n",
       "  'Scd40029': Source(DM162/10/2b-215, 216, 238, 258, 260),\n",
       "  'See8f959': Source(FIELD II-35),\n",
       "  'S89c1868': Source(DM162/10),\n",
       "  'S67d9709': Source(DM162/10/2b-117),\n",
       "  'Sd22cb28': Source(CboxII.73),\n",
       "  'S25e6f43': Source(C15/241/T68),\n",
       "  'S98a76fe': Source(BiCA MS 2126/3/5/f/1849/1; BiCA 'Beale')}}"
      ]
     },
     "execution_count": 46,
     "metadata": {},
     "output_type": "execute_result"
    }
   ],
   "source": [
    "social.sources().state"
   ]
  },
  {
   "cell_type": "code",
   "execution_count": null,
   "metadata": {},
   "outputs": [],
   "source": []
  }
 ],
 "metadata": {
  "kernelspec": {
   "display_name": "Python 3",
   "language": "python",
   "name": "python3"
  },
  "language_info": {
   "codemirror_mode": {
    "name": "ipython",
    "version": 3
   },
   "file_extension": ".py",
   "mimetype": "text/x-python",
   "name": "python",
   "nbconvert_exporter": "python",
   "pygments_lexer": "ipython3",
   "version": "3.7.8"
  }
 },
 "nbformat": 4,
 "nbformat_minor": 2
}
