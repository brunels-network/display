{
 "cells": [
  {
   "cell_type": "code",
   "execution_count": 18,
   "metadata": {},
   "outputs": [
    {
     "name": "stdout",
     "output_type": "stream",
     "text": [
      "The autoreload extension is already loaded. To reload it, use:\n",
      "  %reload_ext autoreload\n"
     ]
    }
   ],
   "source": [
    "import json\n",
    "\n",
    "from Brunel import Social, stringify\n",
    "\n",
    "%load_ext autoreload\n",
    "%autoreload 2"
   ]
  },
  {
   "cell_type": "markdown",
   "metadata": {},
   "source": [
    "## Read in spreadsheets and store the data"
   ]
  },
  {
   "cell_type": "code",
   "execution_count": 2,
   "metadata": {},
   "outputs": [],
   "source": [
    "social = Social()"
   ]
  },
  {
   "cell_type": "code",
   "execution_count": 3,
   "metadata": {},
   "outputs": [],
   "source": [
    "social.load_projects(\"input/projects.tsv\")"
   ]
  },
  {
   "cell_type": "code",
   "execution_count": 4,
   "metadata": {},
   "outputs": [],
   "source": [
    "social.load_sources(\"input/sources.tsv\")"
   ]
  },
  {
   "cell_type": "code",
   "execution_count": 5,
   "metadata": {},
   "outputs": [],
   "source": [
    "social.load_graph(project=\"Great Western\", nodes_filepath=\"input/gw_nodes.csv\", edges_filepath=\"input/gw_edges.csv\")"
   ]
  },
  {
   "cell_type": "code",
   "execution_count": 6,
   "metadata": {},
   "outputs": [
    {
     "name": "stdout",
     "output_type": "stream",
     "text": [
      "Is W. E. Acraman the same person as William Edward Acraman? (y/n) y\n",
      "Is Mr. Levy the same person as Levy? (y/n) y\n",
      "Is Mr. Warr the same person as Warr? (y/n) y\n"
     ]
    }
   ],
   "source": [
    "social.load_graph(project=\"Great Britain\", nodes_filepath=\"input/gb_nodes.csv\", edges_filepath=\"input/gb_edges.csv\")"
   ]
  },
  {
   "cell_type": "code",
   "execution_count": null,
   "metadata": {},
   "outputs": [],
   "source": [
    "social.load_biographies(\"input/bios.tsv\")"
   ]
  },
  {
   "cell_type": "markdown",
   "metadata": {},
   "source": [
    "### Write the data used for the graph to JSON file"
   ]
  },
  {
   "cell_type": "code",
   "execution_count": null,
   "metadata": {},
   "outputs": [],
   "source": [
    "with open(\"dataWeights.json\", \"w\") as FILE:\n",
    "    FILE.write(stringify(social))"
   ]
  },
  {
   "cell_type": "markdown",
   "metadata": {},
   "source": [
    "## Output source IDs and names for matching images"
   ]
  },
  {
   "cell_type": "markdown",
   "metadata": {},
   "source": [
    "### Get source names"
   ]
  },
  {
   "cell_type": "code",
   "execution_count": 21,
   "metadata": {},
   "outputs": [],
   "source": [
    "sources = social.sources()"
   ]
  },
  {
   "cell_type": "code",
   "execution_count": 22,
   "metadata": {},
   "outputs": [
    {
     "data": {
      "text/plain": [
       "['0',\n",
       " '2019.00003 (2)',\n",
       " '28048/p/83_17',\n",
       " '38065/A/3',\n",
       " '38605 /A/3',\n",
       " '38605/A/1',\n",
       " '38605/A/3',\n",
       " '38605/A/3; NA RAIL 251/19-20',\n",
       " '38605/M/1',\n",
       " '96-7',\n",
       " 'ADM 92/4',\n",
       " 'BCA 250/64',\n",
       " 'BCA 38605/A/3',\n",
       " 'BCA PBA/Corp/E/3/21_j',\n",
       " 'Bristol Mercury',\n",
       " 'Bristol Mercury 6.4.39',\n",
       " 'Bristol Mirror',\n",
       " 'Bristol Mirror 22.5.1840',\n",
       " 'Cbox I.',\n",
       " 'Cbox II-73',\n",
       " 'Cbox II.',\n",
       " 'CboxII. 73',\n",
       " 'CboxII.73',\n",
       " 'DM1038/2',\n",
       " 'DM1306/75',\n",
       " 'DM1306/75-1,2,3,4,5',\n",
       " 'DM1306/75-6,7,8,9,10,11,12',\n",
       " 'DM162/10/1',\n",
       " 'DM162/10/1-121',\n",
       " 'DM162/10/1-121, 270, 273',\n",
       " 'DM162/10/1-211',\n",
       " 'DM162/10/1-272',\n",
       " 'DM162/10/1-273',\n",
       " 'DM162/10/1-336, 345',\n",
       " 'DM162/10/1-435',\n",
       " 'DM162/10/1-436',\n",
       " 'DM162/10/2',\n",
       " 'DM162/10/2-83',\n",
       " 'DM162/10/2/1-292, 342, 350, 365, 390, 397, 439',\n",
       " 'DM162/10/2a',\n",
       " 'DM162/10/2b',\n",
       " 'DM162/10/2b-110, 111, 117, 214, 269, 270',\n",
       " 'DM162/10/2b-110-111, 117, 269-70.',\n",
       " 'DM162/10/2b-117',\n",
       " 'DM162/10/2b-13',\n",
       " 'DM162/10/2b-13, 53, 235, 236, 267',\n",
       " 'DM162/10/2b-13, 53, 236, 247,',\n",
       " 'DM162/10/2b-135-6',\n",
       " 'DM162/10/2b-175, 176, 177, 244, 245',\n",
       " 'DM162/10/2b-175-77, 264-6.',\n",
       " 'DM162/10/2b-179, 180, 182, 190-1, 205, 223.',\n",
       " 'DM162/10/2b-180, 182, 190, 191, 205, 223, 237,',\n",
       " 'DM162/10/2b-183, 184,',\n",
       " 'DM162/10/2b-183, 185',\n",
       " 'DM162/10/2b-183-4',\n",
       " 'DM162/10/2b-192, 193, 194, 195, 196, 199, 200, 203, 248, 259',\n",
       " 'DM162/10/2b-192-6, 199-200, 203, 248, 259',\n",
       " 'DM162/10/2b-212',\n",
       " 'DM162/10/2b-212, 240, 241, 269, 270, 271, 272',\n",
       " 'DM162/10/2b-215, 216',\n",
       " 'DM162/10/2b-215, 216, 238, 258, 260',\n",
       " 'DM162/10/2b-29, 50, 56, 100,101, 214-5',\n",
       " 'DM162/10/2b-7',\n",
       " 'DM162/10/2b-7, 58',\n",
       " 'DM162/10/2b-82, 94, 95, 130, 166, 167,',\n",
       " 'DM162/10/2b-82, 94-5, 130, 166-7.',\n",
       " 'DM162/10/2b-9, 10',\n",
       " 'DM162/10/2b-96, 97, 269, 270',\n",
       " 'DM162/10/2b-96-7',\n",
       " 'DM162/8/2/5',\n",
       " 'DM1758/9/2',\n",
       " 'DM1758/9/2/1',\n",
       " 'DM1758/9/2/1-4',\n",
       " 'DM1758/9/2/2',\n",
       " 'DM1758/9/2/3',\n",
       " 'DM1758/9/2/4',\n",
       " 'Digital Store 8805.e.15. DRT',\n",
       " 'FIELD I',\n",
       " 'FIELD I, 42',\n",
       " 'FIELD I-42',\n",
       " 'FIELD II',\n",
       " 'FIELD II-35',\n",
       " 'FIELD II-44',\n",
       " 'Liverpool Mercury',\n",
       " 'Liverpool Mercury 8.7.1836',\n",
       " 'Liverpool Mercury 8.7.1836 BCA PBA/Corp/E/3/21_j; Bristol Dock Co. Records',\n",
       " 'MS 1295',\n",
       " 'Mechanics Magazine',\n",
       " 'Mechanics Magazine 10.9.1842',\n",
       " 'Missing',\n",
       " 'NA RAIL 250/64',\n",
       " 'NA RAIL 251/19',\n",
       " 'NA RAIL 251/19-20',\n",
       " 'PBA/Corp/E/3/19-20',\n",
       " 'PBA/Corp/E/3/21_j',\n",
       " 'RAIL 1149/2-4',\n",
       " 'RAIL 1149/3',\n",
       " 'RAIL 1149/60',\n",
       " 'RAIL 1149/60 Prosp.',\n",
       " 'RAIL 241/19',\n",
       " 'RAIL 250/19',\n",
       " 'RAIL 250/64',\n",
       " 'RAIL 251/19',\n",
       " 'RAIL 251/19-20',\n",
       " 'RAIL 251/20',\n",
       " 'RAIL 251/21',\n",
       " 'RAIL/1149/3',\n",
       " 'RAIl 251/19-20',\n",
       " \"UCL 'Legacies' Database\"]"
      ]
     },
     "execution_count": 22,
     "metadata": {},
     "output_type": "execute_result"
    }
   ],
   "source": [
    "source_names = sources.getSourceNames()\n",
    "source_names"
   ]
  },
  {
   "cell_type": "markdown",
   "metadata": {},
   "source": [
    "Get the number of sources"
   ]
  },
  {
   "cell_type": "code",
   "execution_count": 23,
   "metadata": {},
   "outputs": [
    {
     "name": "stdout",
     "output_type": "stream",
     "text": [
      "We have 109 sources\n"
     ]
    }
   ],
   "source": [
    "print(f\"We have {len(source_names)} sources\")"
   ]
  },
  {
   "cell_type": "markdown",
   "metadata": {},
   "source": [
    "Output the list of sources to JSON file to allow easier matching with image filenames"
   ]
  },
  {
   "cell_type": "code",
   "execution_count": 24,
   "metadata": {},
   "outputs": [],
   "source": [
    "s = {name: \"filename\" for name in source_names}\n",
    "with open(\"imageFilenames.json\", \"w\") as f:\n",
    "    json.dump(s, f, indent=4)\n",
    "    "
   ]
  },
  {
   "cell_type": "markdown",
   "metadata": {},
   "source": [
    "### Output the source IDs for matching with images"
   ]
  },
  {
   "cell_type": "code",
   "execution_count": 20,
   "metadata": {},
   "outputs": [
    {
     "data": {
      "text/plain": [
       "{'S172cda9': '2019.00003 (2)',\n",
       " 'S5ec3a5c': '28048/p/83_17',\n",
       " 'S87fca33': '38605/A/1',\n",
       " 'S48f527c': '38605/A/3',\n",
       " 'Saf6a597': '38605/M/1',\n",
       " 'S673c5e5': 'ADM 92/4',\n",
       " 'S5fa9268': 'Bristol Mercury',\n",
       " 'S1ebc396': 'Bristol Mirror',\n",
       " 'S693cd5e': 'Cbox I.',\n",
       " 'Sf5b82ce': 'Cbox II.',\n",
       " 'S5fa5ae8': 'Digital Store 8805.e.15. DRT',\n",
       " 'S88a3eaa': 'DM162/8/2/5',\n",
       " 'S14de71b': 'DM162/10/1',\n",
       " 'S1593cef': 'DM162/10/2',\n",
       " 'Sad46ca4': 'DM162/10/2a',\n",
       " 'Sad3ef49': 'DM162/10/2b',\n",
       " 'S4308280': 'DM1038/2',\n",
       " 'Sac4acbc': 'DM1306/75',\n",
       " 'S372feb8': 'DM1758/9/2/1',\n",
       " 'Sa246607': 'DM1758/9/2/2',\n",
       " 'S519b275': 'DM1758/9/2/3',\n",
       " 'S33bea64': 'DM1758/9/2/4',\n",
       " 'S4e9a74c': 'FIELD I',\n",
       " 'Se15c80b': 'FIELD II',\n",
       " 'Sf6aa6ca': 'Liverpool Mercury',\n",
       " 'S5eb1d9c': 'Mechanics Magazine',\n",
       " 'S2512099': 'MS 1295',\n",
       " 'S372bee4': 'PBA/Corp/E/3/19-20',\n",
       " 'Sa0ca947': 'PBA/Corp/E/3/21_j',\n",
       " 'S5f17f44': 'RAIL 251/19',\n",
       " 'Sbf84f1e': 'RAIL 251/20',\n",
       " 'Sf90262c': 'RAIL 251/21',\n",
       " 'Sa0ed79a': 'RAIL 250/64',\n",
       " 'Saea89e7': 'RAIL 1149/3',\n",
       " 'S608b573': 'RAIL 1149/60',\n",
       " 'S145b5c7': \"UCL 'Legacies' Database\",\n",
       " 'S51c7724': 'Bristol Mirror 22.5.1840',\n",
       " 'Se206e67': 'DM162/10/1-121',\n",
       " 'Sd9d480f': 'DM162/10/1-273',\n",
       " 'S45d5323': 'DM162/10/1-211',\n",
       " 'S627ab53': 'Missing',\n",
       " 'S5c25336': 'DM162/10/1-272',\n",
       " 'Sa7bb90a': 'Liverpool Mercury 8.7.1836',\n",
       " 'S6322aa2': 'NA RAIL 251/19',\n",
       " 'Sb153087': '38605/A/3; NA RAIL 251/19-20',\n",
       " 'Sedd14c0': 'RAIL 250/19',\n",
       " 'S7d328fa': 'RAIL 251/19-20',\n",
       " 'S11fe2f6': 'BCA 250/64',\n",
       " 'S57f154b': 'NA RAIL 251/19-20',\n",
       " 'S9e3eb6f': 'RAIL 241/19',\n",
       " 'S10ed9a5': 'DM162/10/1-121, 270, 273',\n",
       " 'Sa0cdf7b': 'DM162/10/2-83',\n",
       " 'S227fda1': 'NA RAIL 250/64',\n",
       " 'S9c60e10': 'DM1306/75-1,2,3,4,5',\n",
       " 'S8efa781': '0',\n",
       " 'S4cd215e': '38605 /A/3',\n",
       " 'Sc6569f2': 'FIELD II-44',\n",
       " 'S94c2bf5': 'FIELD I-42',\n",
       " 'S833f425': 'RAIL/1149/3',\n",
       " 'Sfe1fc0f': 'BCA PBA/Corp/E/3/21_j',\n",
       " 'Sdc8a313': '38065/A/3',\n",
       " 'S8a709df': 'BCA 38605/A/3',\n",
       " 'S0bd66e9': 'RAIl 251/19-20',\n",
       " 'S651d3dd': 'FIELD I, 42',\n",
       " 'S59492fa': 'Bristol Mercury 6.4.39',\n",
       " 'S1dfb2a1': 'DM1758/9/2/1-4',\n",
       " 'S46d9182': 'DM162/10/2/1-292, 342, 350, 365, 390, 397, 439',\n",
       " 'S7dbd967': 'DM162/10/2b-13, 53, 236, 247,',\n",
       " 'Sb46b9ac': 'DM1758/9/2',\n",
       " 'S3d3f3aa': 'DM162/10/2b-179, 180, 182, 190-1, 205, 223.',\n",
       " 'S862766a': 'DM162/10/2b-7',\n",
       " 'Sc5cfca0': 'RAIL 1149/60 Prosp.',\n",
       " 'Sf550b9e': 'Liverpool Mercury 8.7.1836 BCA PBA/Corp/E/3/21_j; Bristol Dock Co. Records',\n",
       " 'S58a3650': 'RAIL 1149/2-4',\n",
       " 'Sdddba89': 'DM162/10/2b-175-77, 264-6.',\n",
       " 'S982cef5': 'DM162/10/2b-135-6',\n",
       " 'S6f0397e': 'DM162/10/2b-96-7',\n",
       " 'S4c685e4': '96-7',\n",
       " 'Sd435d45': 'Mechanics Magazine 10.9.1842',\n",
       " 'Sc7d98de': 'DM162/10/1-336, 345',\n",
       " 'Sc963399': 'DM162/10/2b-192-6, 199-200, 203, 248, 259',\n",
       " 'Sdcecc60': 'DM162/10/2b-110-111, 117, 269-70.',\n",
       " 'S3b6b531': 'Cbox II-73',\n",
       " 'S22818d4': 'DM162/10/2b-82, 94-5, 130, 166-7.',\n",
       " 'Sc57f3ba': 'DM162/10/1-435',\n",
       " 'Sb453ceb': 'DM162/10/2b-13',\n",
       " 'S32d696b': 'DM162/10/2b-183, 185',\n",
       " 'Sb58797f': 'DM162/10/2b-183-4',\n",
       " 'S546492b': 'CboxII. 73',\n",
       " 'S98c4c90': 'DM162/10/2b-212',\n",
       " 'Sfaaa5f8': 'DM162/10/2b-215, 216',\n",
       " 'Sfab2efa': 'DM162/10/2b-13, 53, 235, 236, 267',\n",
       " 'S55cc2a4': 'DM162/10/2b-180, 182, 190, 191, 205, 223, 237,',\n",
       " 'S1e4a869': 'DM1306/75-6,7,8,9,10,11,12',\n",
       " 'Sd12f9a2': 'DM162/10/2b-29, 50, 56, 100,101, 214-5',\n",
       " 'S8db55ba': 'DM162/10/2b-7, 58',\n",
       " 'S984778b': 'DM162/10/2b-175, 176, 177, 244, 245',\n",
       " 'Sc9d2237': 'DM162/10/2b-96, 97, 269, 270',\n",
       " 'S7db52e7': 'DM162/10/2b-192, 193, 194, 195, 196, 199, 200, 203, 248, 259',\n",
       " 'S5258a15': 'DM162/10/2b-110, 111, 117, 214, 269, 270',\n",
       " 'S3c7ba14': 'DM162/10/2b-82, 94, 95, 130, 166, 167,',\n",
       " 'Sb65567e': 'DM162/10/1-436',\n",
       " 'S2f0a50a': 'DM162/10/2b-9, 10',\n",
       " 'S3dea540': 'DM162/10/2b-183, 184,',\n",
       " 'S36e9322': 'DM162/10/2b-212, 240, 241, 269, 270, 271, 272',\n",
       " 'Sb8d0390': 'DM162/10/2b-215, 216, 238, 258, 260',\n",
       " 'Sf9f8f72': 'FIELD II-35',\n",
       " 'Sa9e0ead': 'DM162/10/2b-117',\n",
       " 'Sbbd67f1': 'CboxII.73'}"
      ]
     },
     "execution_count": 20,
     "metadata": {},
     "output_type": "execute_result"
    }
   ],
   "source": [
    "sources = social.sources()\n",
    "sources.getRegistry()"
   ]
  },
  {
   "cell_type": "code",
   "execution_count": 8,
   "metadata": {},
   "outputs": [
    {
     "data": {
      "text/plain": [
       "{'S172cda9': '2019.00003 (2)',\n",
       " 'S5ec3a5c': '28048/p/83_17',\n",
       " 'S87fca33': '38605/A/1',\n",
       " 'S48f527c': '38605/A/3',\n",
       " 'Saf6a597': '38605/M/1',\n",
       " 'S673c5e5': 'ADM 92/4',\n",
       " 'S5fa9268': 'Bristol Mercury',\n",
       " 'S1ebc396': 'Bristol Mirror',\n",
       " 'S693cd5e': 'Cbox I.',\n",
       " 'Sf5b82ce': 'Cbox II.',\n",
       " 'S5fa5ae8': 'Digital Store 8805.e.15. DRT',\n",
       " 'S88a3eaa': 'DM162/8/2/5',\n",
       " 'S14de71b': 'DM162/10/1',\n",
       " 'S1593cef': 'DM162/10/2',\n",
       " 'Sad46ca4': 'DM162/10/2a',\n",
       " 'Sad3ef49': 'DM162/10/2b',\n",
       " 'S4308280': 'DM1038/2',\n",
       " 'Sac4acbc': 'DM1306/75',\n",
       " 'S372feb8': 'DM1758/9/2/1',\n",
       " 'Sa246607': 'DM1758/9/2/2',\n",
       " 'S519b275': 'DM1758/9/2/3',\n",
       " 'S33bea64': 'DM1758/9/2/4',\n",
       " 'S4e9a74c': 'FIELD I',\n",
       " 'Se15c80b': 'FIELD II',\n",
       " 'Sf6aa6ca': 'Liverpool Mercury',\n",
       " 'S5eb1d9c': 'Mechanics Magazine',\n",
       " 'S2512099': 'MS 1295',\n",
       " 'S372bee4': 'PBA/Corp/E/3/19-20',\n",
       " 'Sa0ca947': 'PBA/Corp/E/3/21_j',\n",
       " 'S5f17f44': 'RAIL 251/19',\n",
       " 'Sbf84f1e': 'RAIL 251/20',\n",
       " 'Sf90262c': 'RAIL 251/21',\n",
       " 'Sa0ed79a': 'RAIL 250/64',\n",
       " 'Saea89e7': 'RAIL 1149/3',\n",
       " 'S608b573': 'RAIL 1149/60',\n",
       " 'S145b5c7': \"UCL 'Legacies' Database\",\n",
       " 'S51c7724': 'Bristol Mirror 22.5.1840',\n",
       " 'Se206e67': 'DM162/10/1-121',\n",
       " 'Sd9d480f': 'DM162/10/1-273',\n",
       " 'S45d5323': 'DM162/10/1-211',\n",
       " 'S627ab53': 'Missing',\n",
       " 'S5c25336': 'DM162/10/1-272',\n",
       " 'Sa7bb90a': 'Liverpool Mercury 8.7.1836',\n",
       " 'S6322aa2': 'NA RAIL 251/19',\n",
       " 'Sb153087': '38605/A/3; NA RAIL 251/19-20',\n",
       " 'Sedd14c0': 'RAIL 250/19',\n",
       " 'S7d328fa': 'RAIL 251/19-20',\n",
       " 'S11fe2f6': 'BCA 250/64',\n",
       " 'S57f154b': 'NA RAIL 251/19-20',\n",
       " 'S9e3eb6f': 'RAIL 241/19',\n",
       " 'S10ed9a5': 'DM162/10/1-121, 270, 273',\n",
       " 'Sa0cdf7b': 'DM162/10/2-83',\n",
       " 'S227fda1': 'NA RAIL 250/64',\n",
       " 'S9c60e10': 'DM1306/75-1,2,3,4,5',\n",
       " 'S8efa781': '0',\n",
       " 'S4cd215e': '38605 /A/3',\n",
       " 'Sc6569f2': 'FIELD II-44',\n",
       " 'S94c2bf5': 'FIELD I-42',\n",
       " 'S833f425': 'RAIL/1149/3',\n",
       " 'Sfe1fc0f': 'BCA PBA/Corp/E/3/21_j',\n",
       " 'Sdc8a313': '38065/A/3',\n",
       " 'S8a709df': 'BCA 38605/A/3',\n",
       " 'S0bd66e9': 'RAIl 251/19-20',\n",
       " 'S651d3dd': 'FIELD I, 42',\n",
       " 'S59492fa': 'Bristol Mercury 6.4.39',\n",
       " 'S1dfb2a1': 'DM1758/9/2/1-4',\n",
       " 'S46d9182': 'DM162/10/2/1-292, 342, 350, 365, 390, 397, 439',\n",
       " 'S7dbd967': 'DM162/10/2b-13, 53, 236, 247,',\n",
       " 'Sb46b9ac': 'DM1758/9/2',\n",
       " 'S3d3f3aa': 'DM162/10/2b-179, 180, 182, 190-1, 205, 223.',\n",
       " 'S862766a': 'DM162/10/2b-7',\n",
       " 'Sc5cfca0': 'RAIL 1149/60 Prosp.',\n",
       " 'Sf550b9e': 'Liverpool Mercury 8.7.1836 BCA PBA/Corp/E/3/21_j; Bristol Dock Co. Records',\n",
       " 'S58a3650': 'RAIL 1149/2-4',\n",
       " 'Sdddba89': 'DM162/10/2b-175-77, 264-6.',\n",
       " 'S982cef5': 'DM162/10/2b-135-6',\n",
       " 'S6f0397e': 'DM162/10/2b-96-7',\n",
       " 'S4c685e4': '96-7',\n",
       " 'Sd435d45': 'Mechanics Magazine 10.9.1842',\n",
       " 'Sc7d98de': 'DM162/10/1-336, 345',\n",
       " 'Sc963399': 'DM162/10/2b-192-6, 199-200, 203, 248, 259',\n",
       " 'Sdcecc60': 'DM162/10/2b-110-111, 117, 269-70.',\n",
       " 'S3b6b531': 'Cbox II-73',\n",
       " 'S22818d4': 'DM162/10/2b-82, 94-5, 130, 166-7.',\n",
       " 'Sc57f3ba': 'DM162/10/1-435',\n",
       " 'Sb453ceb': 'DM162/10/2b-13',\n",
       " 'S32d696b': 'DM162/10/2b-183, 185',\n",
       " 'Sb58797f': 'DM162/10/2b-183-4',\n",
       " 'S546492b': 'CboxII. 73',\n",
       " 'S98c4c90': 'DM162/10/2b-212',\n",
       " 'Sfaaa5f8': 'DM162/10/2b-215, 216',\n",
       " 'Sfab2efa': 'DM162/10/2b-13, 53, 235, 236, 267',\n",
       " 'S55cc2a4': 'DM162/10/2b-180, 182, 190, 191, 205, 223, 237,',\n",
       " 'S1e4a869': 'DM1306/75-6,7,8,9,10,11,12',\n",
       " 'Sd12f9a2': 'DM162/10/2b-29, 50, 56, 100,101, 214-5',\n",
       " 'S8db55ba': 'DM162/10/2b-7, 58',\n",
       " 'S984778b': 'DM162/10/2b-175, 176, 177, 244, 245',\n",
       " 'Sc9d2237': 'DM162/10/2b-96, 97, 269, 270',\n",
       " 'S7db52e7': 'DM162/10/2b-192, 193, 194, 195, 196, 199, 200, 203, 248, 259',\n",
       " 'S5258a15': 'DM162/10/2b-110, 111, 117, 214, 269, 270',\n",
       " 'S3c7ba14': 'DM162/10/2b-82, 94, 95, 130, 166, 167,',\n",
       " 'Sb65567e': 'DM162/10/1-436',\n",
       " 'S2f0a50a': 'DM162/10/2b-9, 10',\n",
       " 'S3dea540': 'DM162/10/2b-183, 184,',\n",
       " 'S36e9322': 'DM162/10/2b-212, 240, 241, 269, 270, 271, 272',\n",
       " 'Sb8d0390': 'DM162/10/2b-215, 216, 238, 258, 260',\n",
       " 'Sf9f8f72': 'FIELD II-35',\n",
       " 'Sa9e0ead': 'DM162/10/2b-117',\n",
       " 'Sbbd67f1': 'CboxII.73'}"
      ]
     },
     "execution_count": 8,
     "metadata": {},
     "output_type": "execute_result"
    }
   ],
   "source": []
  },
  {
   "cell_type": "markdown",
   "metadata": {},
   "source": []
  },
  {
   "cell_type": "code",
   "execution_count": null,
   "metadata": {},
   "outputs": [],
   "source": []
  },
  {
   "cell_type": "markdown",
   "metadata": {},
   "source": [
    "### Write the data used for"
   ]
  },
  {
   "cell_type": "code",
   "execution_count": null,
   "metadata": {},
   "outputs": [],
   "source": [
    "import pandas as pd"
   ]
  },
  {
   "cell_type": "code",
   "execution_count": null,
   "metadata": {},
   "outputs": [],
   "source": [
    "data = pd.read_csv(\"input/gw_nodes.csv\", sep=\",\")"
   ]
  },
  {
   "cell_type": "code",
   "execution_count": null,
   "metadata": {},
   "outputs": [],
   "source": [
    "data"
   ]
  },
  {
   "cell_type": "code",
   "execution_count": null,
   "metadata": {},
   "outputs": [],
   "source": [
    "for _, project in data.iterrows():\n",
    "        print(project)"
   ]
  },
  {
   "cell_type": "code",
   "execution_count": null,
   "metadata": {},
   "outputs": [],
   "source": []
  }
 ],
 "metadata": {
  "kernelspec": {
   "display_name": "Python 3",
   "language": "python",
   "name": "python3"
  },
  "language_info": {
   "codemirror_mode": {
    "name": "ipython",
    "version": 3
   },
   "file_extension": ".py",
   "mimetype": "text/x-python",
   "name": "python",
   "nbconvert_exporter": "python",
   "pygments_lexer": "ipython3",
   "version": "3.8.2"
  }
 },
 "nbformat": 4,
 "nbformat_minor": 2
}
