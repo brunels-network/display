{
 "cells": [
  {
   "cell_type": "code",
   "execution_count": 1,
   "metadata": {},
   "outputs": [],
   "source": [
    "import json\n",
    "from Brunel import Social, stringify, export_all, copy_all\n",
    "\n",
    "%load_ext autoreload\n",
    "%autoreload 2"
   ]
  },
  {
   "cell_type": "markdown",
   "metadata": {},
   "source": [
    "## Read in spreadsheets and store the data"
   ]
  },
  {
   "cell_type": "code",
   "execution_count": 2,
   "metadata": {},
   "outputs": [],
   "source": [
    "social = Social()"
   ]
  },
  {
   "cell_type": "code",
   "execution_count": 3,
   "metadata": {},
   "outputs": [],
   "source": [
    "social.load_projects(\"input/projects.tsv\")"
   ]
  },
  {
   "cell_type": "code",
   "execution_count": 4,
   "metadata": {},
   "outputs": [],
   "source": [
    "social.load_sources(\"input/sources.tsv\")"
   ]
  },
  {
   "cell_type": "code",
   "execution_count": 5,
   "metadata": {
    "scrolled": false
   },
   "outputs": [],
   "source": [
    "social.load_graph(project=\"Great Western\", nodes_filepath=\"input/gw_nodes_updated.csv\", edges_filepath=\"input/gw_edges.csv\")"
   ]
  },
  {
   "cell_type": "code",
   "execution_count": 6,
   "metadata": {},
   "outputs": [
    {
     "name": "stdout",
     "output_type": "stream",
     "text": [
      "Is W. E. Acraman the same person as William Edward Acraman? (y/n) y\n",
      "Is Mr. Levy the same person as Levy? (y/n) y\n",
      "Is Mr. Warr the same person as Warr? (y/n) y\n"
     ]
    }
   ],
   "source": [
    "social.load_graph(project=\"Great Britain\", nodes_filepath=\"input/gb_nodes_updated.csv\", edges_filepath=\"../raw_data/gb_edges_wedgecount.csv\")"
   ]
  },
  {
   "cell_type": "code",
   "execution_count": 7,
   "metadata": {},
   "outputs": [
    {
     "name": "stdout",
     "output_type": "stream",
     "text": [
      "Is George Sir Burke the same person as George Burke? (y/n) y\n",
      "Invalid link type? nan\n",
      "Invalid link type? nan\n",
      "Invalid link type? nan\n",
      "Invalid link type? nan\n",
      "Invalid link type? nan\n",
      "Invalid link type? nan\n",
      "Invalid link type? nan\n",
      "Invalid link type? nan\n",
      "Invalid link type? nan\n",
      "Invalid link type? nan\n",
      "Invalid link type? nan\n",
      "Invalid link type? nan\n",
      "Invalid link type? nan\n",
      "Invalid link type? nan\n",
      "Invalid link type? nan\n",
      "Invalid link type? nan\n",
      "Invalid link type? nan\n",
      "Invalid link type? nan\n",
      "Invalid link type? nan\n",
      "Invalid link type? nan\n",
      "Invalid link type? nan\n",
      "Invalid link type? nan\n",
      "Invalid link type? nan\n",
      "Invalid link type? nan\n",
      "Invalid link type? nan\n",
      "Invalid link type? nan\n",
      "Invalid link type? nan\n",
      "Invalid link type? nan\n",
      "Invalid link type? nan\n",
      "Invalid link type? nan\n",
      "Invalid link type? nan\n",
      "Invalid link type? nan\n",
      "Invalid link type? nan\n",
      "Invalid link type? nan\n",
      "Invalid link type? nan\n",
      "Invalid link type? nan\n",
      "Invalid link type? nan\n",
      "Invalid link type? nan\n",
      "Invalid link type? nan\n",
      "Invalid link type? nan\n",
      "Invalid link type? nan\n",
      "Invalid link type? nan\n",
      "Invalid link type? nan\n",
      "Invalid link type? nan\n",
      "Invalid link type? nan\n",
      "Invalid link type? nan\n",
      "Invalid link type? nan\n",
      "Invalid link type? nan\n",
      "Invalid link type? nan\n",
      "Invalid link type? nan\n",
      "Invalid link type? nan\n",
      "Invalid link type? nan\n",
      "Invalid link type? nan\n",
      "Invalid link type? nan\n",
      "Invalid link type? nan\n",
      "Invalid link type? nan\n",
      "Invalid link type? nan\n",
      "Invalid link type? nan\n",
      "Invalid link type? nan\n",
      "Invalid link type? nan\n",
      "Invalid link type? nan\n",
      "Invalid link type? nan\n",
      "Invalid link type? nan\n",
      "Invalid link type? nan\n",
      "Invalid link type? nan\n",
      "Invalid link type? nan\n",
      "Invalid link type? nan\n",
      "Invalid link type? nan\n",
      "Invalid link type? nan\n",
      "Invalid link type? nan\n",
      "Invalid link type? nan\n",
      "Invalid link type? nan\n",
      "Invalid link type? nan\n",
      "Invalid link type? nan\n",
      "Invalid link type? nan\n",
      "Invalid link type? nan\n",
      "Invalid link type? nan\n",
      "Invalid link type? nan\n",
      "Invalid link type? nan\n",
      "Invalid link type? nan\n",
      "Invalid link type? nan\n",
      "Invalid link type? nan\n",
      "Invalid link type? nan\n",
      "Invalid link type? nan\n",
      "Invalid link type? nan\n",
      "Invalid link type? nan\n",
      "Invalid link type? nan\n",
      "Invalid link type? nan\n",
      "Invalid link type? nan\n",
      "Invalid link type? nan\n",
      "Invalid link type? nan\n",
      "Invalid link type? nan\n",
      "Invalid link type? nan\n",
      "Invalid link type? nan\n",
      "Invalid link type? nan\n",
      "Invalid link type? nan\n",
      "Invalid link type? nan\n",
      "Invalid link type? nan\n",
      "Invalid link type? nan\n",
      "Invalid link type? nan\n",
      "Invalid link type? nan\n",
      "Invalid link type? nan\n",
      "Invalid link type? nan\n",
      "Invalid link type? nan\n",
      "Invalid link type? nan\n",
      "Invalid link type? nan\n",
      "Invalid link type? nan\n",
      "Invalid link type? nan\n",
      "Invalid link type? nan\n",
      "Invalid link type? nan\n",
      "Invalid link type? nan\n",
      "Invalid link type? nan\n",
      "Invalid link type? nan\n",
      "Invalid link type? nan\n",
      "Invalid link type? nan\n",
      "Invalid link type? nan\n",
      "Invalid link type? nan\n",
      "Invalid link type? nan\n",
      "Invalid link type? nan\n",
      "Invalid link type? nan\n",
      "Invalid link type? nan\n",
      "Invalid link type? nan\n",
      "Invalid link type? nan\n",
      "Invalid link type? nan\n",
      "Invalid link type? nan\n",
      "Invalid link type? nan\n",
      "Invalid link type? nan\n",
      "Invalid link type? nan\n",
      "Invalid link type? nan\n",
      "Invalid link type? nan\n",
      "Invalid link type? nan\n"
     ]
    }
   ],
   "source": [
    "social.load_graph(project=\"Great Eastern\", nodes_filepath=\"input/ge_nodes.csv\", edges_filepath=\"input/ge_edges.csv\")"
   ]
  },
  {
   "cell_type": "code",
   "execution_count": 8,
   "metadata": {},
   "outputs": [
    {
     "name": "stdout",
     "output_type": "stream",
     "text": [
      "There is already a biography for Person(George Gibbs)\n"
     ]
    }
   ],
   "source": [
    "social.load_biographies(\"input/bios_updated.csv\")"
   ]
  },
  {
   "cell_type": "markdown",
   "metadata": {},
   "source": [
    "### Export to JSON"
   ]
  },
  {
   "cell_type": "code",
   "execution_count": 9,
   "metadata": {},
   "outputs": [
    {
     "name": "stdout",
     "output_type": "stream",
     "text": [
      "Creating backup of previous version of socialNetwork.json at socialNetwork-20200622-142029.json\n",
      "Creating backup of previous version of sourceImageFilenames.json at sourceImageFilenames-20200622-142029.json\n",
      "Creating backup of previous version of entityImageFilenames.json at entityImageFilenames-20200622-142029.json\n"
     ]
    }
   ],
   "source": [
    "export_all(social)"
   ]
  },
  {
   "cell_type": "markdown",
   "metadata": {},
   "source": [
    "### Copy files to the Javascript src directory"
   ]
  },
  {
   "cell_type": "code",
   "execution_count": 10,
   "metadata": {},
   "outputs": [
    {
     "name": "stdout",
     "output_type": "stream",
     "text": [
      "Are you sure you want to overwrite ../src/socialNetwork.json?\n",
      "y\n",
      "Are you sure you want to overwrite ../src/data/sourceImageFilenames.json?\n",
      "y\n",
      "Are you sure you want to overwrite ../src/data/entityImageFilenames.json?\n",
      "y\n"
     ]
    }
   ],
   "source": [
    "copy_all()"
   ]
  },
  {
   "cell_type": "code",
   "execution_count": null,
   "metadata": {},
   "outputs": [],
   "source": []
  }
 ],
 "metadata": {
  "kernelspec": {
   "display_name": "Python 3",
   "language": "python",
   "name": "python3"
  },
  "language_info": {
   "codemirror_mode": {
    "name": "ipython",
    "version": 3
   },
   "file_extension": ".py",
   "mimetype": "text/x-python",
   "name": "python",
   "nbconvert_exporter": "python",
   "pygments_lexer": "ipython3",
   "version": "3.8.3"
  }
 },
 "nbformat": 4,
 "nbformat_minor": 2
}
