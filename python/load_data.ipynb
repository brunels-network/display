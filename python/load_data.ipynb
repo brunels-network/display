{
 "cells": [
  {
   "cell_type": "code",
   "execution_count": 1,
   "metadata": {},
   "outputs": [],
   "source": [
    "from Brunel import Social, stringify"
   ]
  },
  {
   "cell_type": "code",
   "execution_count": 2,
   "metadata": {},
   "outputs": [],
   "source": [
    "social = Social()"
   ]
  },
  {
   "cell_type": "code",
   "execution_count": 3,
   "metadata": {},
   "outputs": [],
   "source": [
    "social.load_projects(\"input/projects.tsv\")"
   ]
  },
  {
   "cell_type": "code",
   "execution_count": 4,
   "metadata": {},
   "outputs": [],
   "source": [
    "social.load_sources(\"input/sources.tsv\")"
   ]
  },
  {
   "cell_type": "code",
   "execution_count": 5,
   "metadata": {},
   "outputs": [
    {
     "name": "stdout",
     "output_type": "stream",
     "text": [
      "Unrecognised year? ['0'] : 0\n",
      "Fail to add connection!\n",
      "Source                                                    0\n",
      "Target                                                   35\n",
      "Shared Links                                       BCC: GWR\n",
      "Afiliation Sources (AS)        38605/A/3; NA RAIL 251/19-20\n",
      "Correspondence Sources (CS)                             NaN\n",
      "Dates of AS                                1833: 1835: 1836\n",
      "Dates of CS                                             NaN\n",
      "Link                                                 Direct\n",
      "Name: 13, dtype: object\n",
      "'No node1 with ID 35'\n",
      "\n",
      "Fail to add connection!\n",
      "Source                                                                      3\n",
      "Target                                                                     35\n",
      "Shared Links                                                         BCC: GWR\n",
      "Afiliation Sources (AS)        38605/M/1: 38605/A/3: RAIL 250/64: RAIL 241/19\n",
      "Correspondence Sources (CS)                                               NaN\n",
      "Dates of AS                                            1823: 1833: 1835: 1836\n",
      "Dates of CS                                                               NaN\n",
      "Link                                                                   Direct\n",
      "Name: 41, dtype: object\n",
      "'No node1 with ID 35'\n",
      "\n",
      "Fail to add connection!\n",
      "Source                                                5\n",
      "Target                                               35\n",
      "Shared Links                                        GWR\n",
      "Afiliation Sources (AS)        RAIL 250/64: RAIL 251/19\n",
      "Correspondence Sources (CS)                         NaN\n",
      "Dates of AS                                  1836: 1936\n",
      "Dates of CS                                         NaN\n",
      "Link                                           Indirect\n",
      "Name: 76, dtype: object\n",
      "'No node1 with ID 35'\n",
      "\n",
      "Fail to add connection!\n",
      "Source                                10\n",
      "Target                                35\n",
      "Shared Links                         BCC\n",
      "Afiliation Sources (AS)        38605/A/3\n",
      "Correspondence Sources (CS)          NaN\n",
      "Dates of AS                         1833\n",
      "Dates of CS                          NaN\n",
      "Link                              Direct\n",
      "Name: 101, dtype: object\n",
      "'No node1 with ID 35'\n",
      "\n",
      "Fail to add connection!\n",
      "Source                                19\n",
      "Target                                35\n",
      "Shared Links                         BCC\n",
      "Afiliation Sources (AS)        38605/A/3\n",
      "Correspondence Sources (CS)          NaN\n",
      "Dates of AS                         1833\n",
      "Dates of CS                          NaN\n",
      "Link                              Direct\n",
      "Name: 121, dtype: object\n",
      "'No node1 with ID 35'\n",
      "\n",
      "Fail to add connection!\n",
      "Source                                20\n",
      "Target                                35\n",
      "Shared Links                         BCC\n",
      "Afiliation Sources (AS)        38605/A/3\n",
      "Correspondence Sources (CS)          NaN\n",
      "Dates of AS                         1833\n",
      "Dates of CS                          NaN\n",
      "Link                              Direct\n",
      "Name: 141, dtype: object\n",
      "'No node1 with ID 35'\n",
      "\n",
      "Fail to add connection!\n",
      "Source                                22\n",
      "Target                                35\n",
      "Shared Links                         BCC\n",
      "Afiliation Sources (AS)        38605/A/3\n",
      "Correspondence Sources (CS)          NaN\n",
      "Dates of AS                         1833\n",
      "Dates of CS                          NaN\n",
      "Link                              Direct\n",
      "Name: 164, dtype: object\n",
      "'No node1 with ID 35'\n",
      "\n",
      "Fail to add connection!\n",
      "Source                                24\n",
      "Target                                35\n",
      "Shared Links                         BCC\n",
      "Afiliation Sources (AS)        38605/A/3\n",
      "Correspondence Sources (CS)          NaN\n",
      "Dates of AS                         1833\n",
      "Dates of CS                          NaN\n",
      "Link                              Direct\n",
      "Name: 184, dtype: object\n",
      "'No node1 with ID 35'\n",
      "\n"
     ]
    }
   ],
   "source": [
    "social.load_graph(project=\"Great Western\", nodes=\"input/gw_nodes.csv\", edges=\"input/gw_edges.csv\")"
   ]
  },
  {
   "cell_type": "code",
   "execution_count": 6,
   "metadata": {},
   "outputs": [
    {
     "name": "stdout",
     "output_type": "stream",
     "text": [
      "Unrecognised year? ['0'] : 0\n",
      "Fail to add connection!\n",
      "Source                                                    0\n",
      "Target                                                   35\n",
      "Shared Links                                       BCC: GWR\n",
      "Afiliation Sources (AS)        38605/A/3; NA RAIL 251/19-20\n",
      "Correspondence Sources (CS)                             NaN\n",
      "Dates of AS                                1833: 1835: 1836\n",
      "Dates of CS                                             NaN\n",
      "Link                                                 Direct\n",
      "Name: 13, dtype: object\n",
      "'No node1 with ID 35'\n",
      "\n",
      "Fail to add connection!\n",
      "Source                                                                      3\n",
      "Target                                                                     35\n",
      "Shared Links                                                         BCC: GWR\n",
      "Afiliation Sources (AS)        38605/M/1: 38605/A/3: RAIL 250/64: RAIL 241/19\n",
      "Correspondence Sources (CS)                                               NaN\n",
      "Dates of AS                                            1823: 1833: 1835: 1836\n",
      "Dates of CS                                                               NaN\n",
      "Link                                                                   Direct\n",
      "Name: 42, dtype: object\n",
      "'No node1 with ID 35'\n",
      "\n",
      "Unrecognised year? ['1839-1841'] : 1839-1841\n",
      "Unrecognised year? ['1841-1841'] : 1841-1841\n",
      "Unrecognised year? ['1838-1840'] : 1838-1840\n",
      "Unrecognised year? ['1840-1841'] : 1840-1841\n",
      "Unrecognised year? ['1839-1840'] : 1839-1840\n",
      "Unrecognised year? ['1841-1842'] : 1841-1842\n",
      "Unrecognised year? ['1840-1842'] : 1840-1842\n",
      "Unrecognised year? ['1841-1842'] : 1841-1842\n",
      "Unrecognised year? ['1840-1842'] : 1840-1842\n",
      "Unrecognised year? ['1840-1841'] : 1840-1841\n",
      "Unrecognised year? ['1839-1839'] : 1839-1839\n",
      "Unrecognised year? ['1841-1842'] : 1841-1842\n",
      "Unrecognised year? ['1841-1842'] : 1841-1842\n",
      "Fail to add connection!\n",
      "Source                                                5\n",
      "Target                                               35\n",
      "Shared Links                                        GWR\n",
      "Afiliation Sources (AS)        RAIL 250/64: RAIL 251/19\n",
      "Correspondence Sources (CS)                         NaN\n",
      "Dates of AS                                  1836: 1936\n",
      "Dates of CS                                         NaN\n",
      "Link                                           Indirect\n",
      "Name: 85, dtype: object\n",
      "'No node1 with ID 35'\n",
      "\n",
      "Fail to add connection!\n",
      "Source                                10\n",
      "Target                                35\n",
      "Shared Links                         BCC\n",
      "Afiliation Sources (AS)        38605/A/3\n",
      "Correspondence Sources (CS)          NaN\n",
      "Dates of AS                         1833\n",
      "Dates of CS                          NaN\n",
      "Link                              Direct\n",
      "Name: 109, dtype: object\n",
      "'No node1 with ID 35'\n",
      "\n",
      "Unrecognised year? ['1839-1841'] : 1839-1841\n",
      "Fail to add connection!\n",
      "Source                                19\n",
      "Target                                35\n",
      "Shared Links                         BCC\n",
      "Afiliation Sources (AS)        38605/A/3\n",
      "Correspondence Sources (CS)          NaN\n",
      "Dates of AS                         1833\n",
      "Dates of CS                          NaN\n",
      "Link                              Direct\n",
      "Name: 127, dtype: object\n",
      "'No node1 with ID 35'\n",
      "\n",
      "Fail to add connection!\n",
      "Source                                20\n",
      "Target                                35\n",
      "Shared Links                         BCC\n",
      "Afiliation Sources (AS)        38605/A/3\n",
      "Correspondence Sources (CS)          NaN\n",
      "Dates of AS                         1833\n",
      "Dates of CS                          NaN\n",
      "Link                              Direct\n",
      "Name: 147, dtype: object\n",
      "'No node1 with ID 35'\n",
      "\n",
      "Fail to add connection!\n",
      "Source                                22\n",
      "Target                                35\n",
      "Shared Links                         BCC\n",
      "Afiliation Sources (AS)        38605/A/3\n",
      "Correspondence Sources (CS)          NaN\n",
      "Dates of AS                         1833\n",
      "Dates of CS                          NaN\n",
      "Link                              Direct\n",
      "Name: 170, dtype: object\n",
      "'No node1 with ID 35'\n",
      "\n",
      "Fail to add connection!\n",
      "Source                                24\n",
      "Target                                35\n",
      "Shared Links                         BCC\n",
      "Afiliation Sources (AS)        38605/A/3\n",
      "Correspondence Sources (CS)          NaN\n",
      "Dates of AS                         1833\n",
      "Dates of CS                          NaN\n",
      "Link                              Direct\n",
      "Name: 191, dtype: object\n",
      "'No node1 with ID 35'\n",
      "\n"
     ]
    }
   ],
   "source": [
    "social.load_graph(project=\"Great Britain\", nodes=\"input/gb_nodes.csv\", edges=\"input/gb_edges.csv\")"
   ]
  },
  {
   "cell_type": "code",
   "execution_count": null,
   "metadata": {},
   "outputs": [],
   "source": [
    "social.load_biographies(\"input/bios.tsv\")"
   ]
  },
  {
   "cell_type": "code",
   "execution_count": null,
   "metadata": {},
   "outputs": [],
   "source": [
    "stringify(social)"
   ]
  },
  {
   "cell_type": "code",
   "execution_count": null,
   "metadata": {},
   "outputs": [],
   "source": [
    "social.biographies().state"
   ]
  },
  {
   "cell_type": "code",
   "execution_count": null,
   "metadata": {},
   "outputs": [],
   "source": [
    "import pandas as pd"
   ]
  },
  {
   "cell_type": "code",
   "execution_count": null,
   "metadata": {},
   "outputs": [],
   "source": [
    "data = pd.read_csv(\"input/gb_nodes.csv\", sep=\",\")"
   ]
  },
  {
   "cell_type": "code",
   "execution_count": null,
   "metadata": {},
   "outputs": [],
   "source": [
    "data"
   ]
  },
  {
   "cell_type": "code",
   "execution_count": null,
   "metadata": {},
   "outputs": [],
   "source": [
    "for _, project in data.iterrows():\n",
    "    if project.ID == 3:\n",
    "        print(project)"
   ]
  },
  {
   "cell_type": "code",
   "execution_count": null,
   "metadata": {},
   "outputs": [],
   "source": []
  }
 ],
 "metadata": {
  "kernelspec": {
   "display_name": "Python 3",
   "language": "python",
   "name": "python3"
  },
  "language_info": {
   "codemirror_mode": {
    "name": "ipython",
    "version": 3
   },
   "file_extension": ".py",
   "mimetype": "text/x-python",
   "name": "python",
   "nbconvert_exporter": "python",
   "pygments_lexer": "ipython3",
   "version": "3.7.4"
  }
 },
 "nbformat": 4,
 "nbformat_minor": 2
}
