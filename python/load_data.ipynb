{
 "cells": [
  {
   "cell_type": "code",
   "execution_count": 1,
   "metadata": {},
   "outputs": [],
   "source": [
    "import json\n",
    "\n",
    "from Brunel import Social, stringify\n",
    "\n",
    "%load_ext autoreload\n",
    "%autoreload 2"
   ]
  },
  {
   "cell_type": "markdown",
   "metadata": {},
   "source": [
    "## Read in spreadsheets and store the data"
   ]
  },
  {
   "cell_type": "code",
   "execution_count": 2,
   "metadata": {},
   "outputs": [],
   "source": [
    "social = Social()"
   ]
  },
  {
   "cell_type": "code",
   "execution_count": 3,
   "metadata": {},
   "outputs": [],
   "source": [
    "social.load_projects(\"input/projects.tsv\")"
   ]
  },
  {
   "cell_type": "code",
   "execution_count": 4,
   "metadata": {},
   "outputs": [],
   "source": [
    "social.load_sources(\"input/sources.tsv\")"
   ]
  },
  {
   "cell_type": "code",
   "execution_count": 5,
   "metadata": {},
   "outputs": [],
   "source": [
    "social.load_graph(project=\"Great Western\", nodes_filepath=\"input/gw_nodes.csv\", edges_filepath=\"input/gw_edges.csv\")"
   ]
  },
  {
   "cell_type": "code",
   "execution_count": 6,
   "metadata": {},
   "outputs": [
    {
     "name": "stdout",
     "output_type": "stream",
     "text": [
      "Is W. E. Acraman the same person as William Edward Acraman? (y/n) y\n",
      "Is Mr. Levy the same person as Levy? (y/n) y\n",
      "Is Mr. Warr the same person as Warr? (y/n) y\n"
     ]
    }
   ],
   "source": [
    "social.load_graph(project=\"Great Britain\", nodes_filepath=\"input/gb_nodes.csv\", edges_filepath=\"input/gb_edges.csv\")"
   ]
  },
  {
   "cell_type": "code",
   "execution_count": 7,
   "metadata": {},
   "outputs": [],
   "source": [
    "social.load_biographies(\"input/bios.tsv\")"
   ]
  },
  {
   "cell_type": "markdown",
   "metadata": {},
   "source": [
    "### Write the data used for the graph to JSON file"
   ]
  },
  {
   "cell_type": "code",
   "execution_count": 8,
   "metadata": {},
   "outputs": [],
   "source": [
    "with open(\"dataWeights.json\", \"w\") as FILE:\n",
    "    FILE.write(stringify(social))"
   ]
  },
  {
   "cell_type": "markdown",
   "metadata": {},
   "source": [
    "## Output source IDs and names for matching with image filenames"
   ]
  },
  {
   "cell_type": "markdown",
   "metadata": {},
   "source": [
    "### Get source names"
   ]
  },
  {
   "cell_type": "code",
   "execution_count": 9,
   "metadata": {},
   "outputs": [],
   "source": [
    "sources = social.sources()"
   ]
  },
  {
   "cell_type": "code",
   "execution_count": 10,
   "metadata": {},
   "outputs": [
    {
     "data": {
      "text/plain": [
       "{'S70901a2': {'name': '2019.00003 (2)', 'filename': 'filename'},\n",
       " 'S7d7e13f': {'name': '28048/p/83_17', 'filename': 'filename'},\n",
       " 'S6b127c4': {'name': '38605/A/1', 'filename': 'filename'},\n",
       " 'S3c799f7': {'name': '38605/A/3', 'filename': 'filename'},\n",
       " 'Sfaf9423': {'name': '38605/M/1', 'filename': 'filename'},\n",
       " 'Sbc6ca2e': {'name': 'ADM 92/4', 'filename': 'filename'},\n",
       " 'Sd8ee8fb': {'name': 'Bristol Mercury', 'filename': 'filename'},\n",
       " 'Sffda2dd': {'name': 'Bristol Mirror', 'filename': 'filename'},\n",
       " 'Sf48563c': {'name': 'Cbox I.', 'filename': 'filename'},\n",
       " 'S520bca4': {'name': 'Cbox II.', 'filename': 'filename'},\n",
       " 'S1bd04bd': {'name': 'Digital Store 8805.e.15. DRT', 'filename': 'filename'},\n",
       " 'S556d438': {'name': 'DM162/8/2/5', 'filename': 'filename'},\n",
       " 'Sfa6490d': {'name': 'DM162/10/1', 'filename': 'filename'},\n",
       " 'Sbc19fd1': {'name': 'DM162/10/2', 'filename': 'filename'},\n",
       " 'S36aabcd': {'name': 'DM162/10/2a', 'filename': 'filename'},\n",
       " 'S0b11a65': {'name': 'DM162/10/2b', 'filename': 'filename'},\n",
       " 'S40bed3c': {'name': 'DM1038/2', 'filename': 'filename'},\n",
       " 'S87da328': {'name': 'DM1306/75', 'filename': 'filename'},\n",
       " 'S99c7d8b': {'name': 'DM1758/9/2/1', 'filename': 'filename'},\n",
       " 'S9e32523': {'name': 'DM1758/9/2/2', 'filename': 'filename'},\n",
       " 'Sab6bb8a': {'name': 'DM1758/9/2/3', 'filename': 'filename'},\n",
       " 'S7aedf3e': {'name': 'DM1758/9/2/4', 'filename': 'filename'},\n",
       " 'S7f78c85': {'name': 'FIELD I', 'filename': 'filename'},\n",
       " 'Sec4576a': {'name': 'FIELD II', 'filename': 'filename'},\n",
       " 'S0bc3bfa': {'name': 'Liverpool Mercury', 'filename': 'filename'},\n",
       " 'Sd823b80': {'name': 'Mechanics Magazine', 'filename': 'filename'},\n",
       " 'S35abce3': {'name': 'MS 1295', 'filename': 'filename'},\n",
       " 'Scfd29e1': {'name': 'PBA/Corp/E/3/19-20', 'filename': 'filename'},\n",
       " 'Saf3d94f': {'name': 'PBA/Corp/E/3/21_j', 'filename': 'filename'},\n",
       " 'Sb398147': {'name': 'RAIL 251/19', 'filename': 'filename'},\n",
       " 'S051865b': {'name': 'RAIL 251/20', 'filename': 'filename'},\n",
       " 'Sa7c357b': {'name': 'RAIL 251/21', 'filename': 'filename'},\n",
       " 'S3f25798': {'name': 'RAIL 250/64', 'filename': 'filename'},\n",
       " 'S93e3c47': {'name': 'RAIL 1149/3', 'filename': 'filename'},\n",
       " 'Secb846e': {'name': 'RAIL 1149/60', 'filename': 'filename'},\n",
       " 'Sf0b9b79': {'name': \"UCL 'Legacies' Database\", 'filename': 'filename'},\n",
       " 'S84a2108': {'name': 'Bristol Mirror 22.5.1840', 'filename': 'filename'},\n",
       " 'Sa98e096': {'name': 'DM162/10/1-121', 'filename': 'filename'},\n",
       " 'Sb770549': {'name': 'DM162/10/1-273', 'filename': 'filename'},\n",
       " 'S05c4239': {'name': 'DM162/10/1-211', 'filename': 'filename'},\n",
       " 'S8d880e2': {'name': 'Missing', 'filename': 'filename'},\n",
       " 'S57a9a36': {'name': 'DM162/10/1-272', 'filename': 'filename'},\n",
       " 'S63132b1': {'name': 'Liverpool Mercury 8.7.1836', 'filename': 'filename'},\n",
       " 'Sb6d5827': {'name': 'NA RAIL 251/19', 'filename': 'filename'},\n",
       " 'S6e0a058': {'name': '38605/A/3; NA RAIL 251/19-20', 'filename': 'filename'},\n",
       " 'S85ad9bc': {'name': 'RAIL 250/19', 'filename': 'filename'},\n",
       " 'S1b65d4f': {'name': 'RAIL 251/19-20', 'filename': 'filename'},\n",
       " 'S48d82f4': {'name': 'BCA 250/64', 'filename': 'filename'},\n",
       " 'Se66ba3c': {'name': 'NA RAIL 251/19-20', 'filename': 'filename'},\n",
       " 'S373373f': {'name': 'RAIL 241/19', 'filename': 'filename'},\n",
       " 'S1e4f496': {'name': 'DM162/10/1-121, 270, 273', 'filename': 'filename'},\n",
       " 'S0de748e': {'name': 'DM162/10/2-83', 'filename': 'filename'},\n",
       " 'S105699e': {'name': 'NA RAIL 250/64', 'filename': 'filename'},\n",
       " 'S854ae4c': {'name': 'DM1306/75-1,2,3,4,5', 'filename': 'filename'},\n",
       " 'Sc14d895': {'name': '0', 'filename': 'filename'},\n",
       " 'Scaa429a': {'name': '38605 /A/3', 'filename': 'filename'},\n",
       " 'Sfc9e04c': {'name': 'FIELD II-44', 'filename': 'filename'},\n",
       " 'Sbeb7626': {'name': 'FIELD I-42', 'filename': 'filename'},\n",
       " 'S936a0f7': {'name': 'RAIL/1149/3', 'filename': 'filename'},\n",
       " 'S41e4714': {'name': 'BCA PBA/Corp/E/3/21_j', 'filename': 'filename'},\n",
       " 'Sec9043c': {'name': '38065/A/3', 'filename': 'filename'},\n",
       " 'Sc493ca2': {'name': 'BCA 38605/A/3', 'filename': 'filename'},\n",
       " 'S513b210': {'name': 'RAIl 251/19-20', 'filename': 'filename'},\n",
       " 'Scb3a56c': {'name': 'FIELD I, 42', 'filename': 'filename'},\n",
       " 'S6eb7e7b': {'name': 'Bristol Mercury 6.4.39', 'filename': 'filename'},\n",
       " 'S5aa0bd9': {'name': 'DM1758/9/2/1-4', 'filename': 'filename'},\n",
       " 'S3db0a35': {'name': 'DM162/10/2/1-292, 342, 350, 365, 390, 397, 439',\n",
       "  'filename': 'filename'},\n",
       " 'S118e175': {'name': 'DM162/10/2b-13, 53, 236, 247,', 'filename': 'filename'},\n",
       " 'Sce47d5e': {'name': 'DM1758/9/2', 'filename': 'filename'},\n",
       " 'S6444963': {'name': 'DM162/10/2b-179, 180, 182, 190-1, 205, 223.',\n",
       "  'filename': 'filename'},\n",
       " 'Sd949232': {'name': 'DM162/10/2b-7', 'filename': 'filename'},\n",
       " 'S7151692': {'name': 'RAIL 1149/60 Prosp.', 'filename': 'filename'},\n",
       " 'S58e081e': {'name': 'Liverpool Mercury 8.7.1836 BCA PBA/Corp/E/3/21_j; Bristol Dock Co. Records',\n",
       "  'filename': 'filename'},\n",
       " 'S9bbe014': {'name': 'RAIL 1149/2-4', 'filename': 'filename'},\n",
       " 'S9ca2838': {'name': 'DM162/10/2b-175-77, 264-6.', 'filename': 'filename'},\n",
       " 'S0838976': {'name': 'DM162/10/2b-135-6', 'filename': 'filename'},\n",
       " 'S146c8b2': {'name': 'DM162/10/2b-96-7', 'filename': 'filename'},\n",
       " 'Sf0020e1': {'name': '96-7', 'filename': 'filename'},\n",
       " 'Saf46f92': {'name': 'Mechanics Magazine 10.9.1842', 'filename': 'filename'},\n",
       " 'S2c65263': {'name': 'DM162/10/1-336, 345', 'filename': 'filename'},\n",
       " 'S25dc296': {'name': 'DM162/10/2b-192-6, 199-200, 203, 248, 259',\n",
       "  'filename': 'filename'},\n",
       " 'S0cd9227': {'name': 'DM162/10/2b-110-111, 117, 269-70.',\n",
       "  'filename': 'filename'},\n",
       " 'Saf793c2': {'name': 'Cbox II-73', 'filename': 'filename'},\n",
       " 'S98a3fb7': {'name': 'DM162/10/2b-82, 94-5, 130, 166-7.',\n",
       "  'filename': 'filename'},\n",
       " 'Sc03f0b4': {'name': 'DM162/10/1-435', 'filename': 'filename'},\n",
       " 'S238f769': {'name': 'DM162/10/2b-13', 'filename': 'filename'},\n",
       " 'Sb935714': {'name': 'DM162/10/2b-183, 185', 'filename': 'filename'},\n",
       " 'S6385263': {'name': 'DM162/10/2b-183-4', 'filename': 'filename'},\n",
       " 'S9350199': {'name': 'CboxII. 73', 'filename': 'filename'},\n",
       " 'Sb4c768c': {'name': 'DM162/10/2b-212', 'filename': 'filename'},\n",
       " 'Se8c196e': {'name': 'DM162/10/2b-215, 216', 'filename': 'filename'},\n",
       " 'Sf1ce534': {'name': 'DM162/10/2b-13, 53, 235, 236, 267',\n",
       "  'filename': 'filename'},\n",
       " 'S324e339': {'name': 'DM162/10/2b-180, 182, 190, 191, 205, 223, 237,',\n",
       "  'filename': 'filename'},\n",
       " 'Sbc88f1a': {'name': 'DM1306/75-6,7,8,9,10,11,12', 'filename': 'filename'},\n",
       " 'S8fe4a58': {'name': 'DM162/10/2b-29, 50, 56, 100,101, 214-5',\n",
       "  'filename': 'filename'},\n",
       " 'S844645a': {'name': 'DM162/10/2b-7, 58', 'filename': 'filename'},\n",
       " 'S03f7340': {'name': 'DM162/10/2b-175, 176, 177, 244, 245',\n",
       "  'filename': 'filename'},\n",
       " 'S5426c73': {'name': 'DM162/10/2b-96, 97, 269, 270', 'filename': 'filename'},\n",
       " 'S883ce74': {'name': 'DM162/10/2b-192, 193, 194, 195, 196, 199, 200, 203, 248, 259',\n",
       "  'filename': 'filename'},\n",
       " 'S7fe0ef2': {'name': 'DM162/10/2b-110, 111, 117, 214, 269, 270',\n",
       "  'filename': 'filename'},\n",
       " 'S7774262': {'name': 'DM162/10/2b-82, 94, 95, 130, 166, 167,',\n",
       "  'filename': 'filename'},\n",
       " 'Se09876b': {'name': 'DM162/10/1-436', 'filename': 'filename'},\n",
       " 'Sa5e12f5': {'name': 'DM162/10/2b-9, 10', 'filename': 'filename'},\n",
       " 'Sda1a17d': {'name': 'DM162/10/2b-183, 184,', 'filename': 'filename'},\n",
       " 'S473b043': {'name': 'DM162/10/2b-212, 240, 241, 269, 270, 271, 272',\n",
       "  'filename': 'filename'},\n",
       " 'S781c888': {'name': 'DM162/10/2b-215, 216, 238, 258, 260',\n",
       "  'filename': 'filename'},\n",
       " 'S713c706': {'name': 'FIELD II-35', 'filename': 'filename'},\n",
       " 'Sca66bd5': {'name': 'DM162/10/2b-117', 'filename': 'filename'},\n",
       " 'S8cfe8fd': {'name': 'CboxII.73', 'filename': 'filename'}}"
      ]
     },
     "execution_count": 10,
     "metadata": {},
     "output_type": "execute_result"
    }
   ],
   "source": [
    "source_names = sources.getRegistryForImages()\n",
    "source_names"
   ]
  },
  {
   "cell_type": "markdown",
   "metadata": {},
   "source": [
    "Get the number of sources"
   ]
  },
  {
   "cell_type": "code",
   "execution_count": 11,
   "metadata": {},
   "outputs": [
    {
     "name": "stdout",
     "output_type": "stream",
     "text": [
      "We have 109 sources\n"
     ]
    }
   ],
   "source": [
    "print(f\"We have {len(source_names)} sources\")"
   ]
  },
  {
   "cell_type": "markdown",
   "metadata": {},
   "source": [
    "Output the list of sources to JSON file to allow easier matching with image filenames"
   ]
  },
  {
   "cell_type": "code",
   "execution_count": 12,
   "metadata": {},
   "outputs": [],
   "source": [
    "with open(\"sourceImageFilenames.json\", \"w\") as f:\n",
    "    json.dump(source_names, f, indent=4)\n",
    "    "
   ]
  },
  {
   "cell_type": "markdown",
   "metadata": {},
   "source": [
    "### Output the source IDs for matching with images"
   ]
  },
  {
   "cell_type": "code",
   "execution_count": 13,
   "metadata": {},
   "outputs": [
    {
     "data": {
      "text/plain": [
       "{'S70901a2': {'name': '2019.00003 (2)', 'filename': 'filename'},\n",
       " 'S7d7e13f': {'name': '28048/p/83_17', 'filename': 'filename'},\n",
       " 'S6b127c4': {'name': '38605/A/1', 'filename': 'filename'},\n",
       " 'S3c799f7': {'name': '38605/A/3', 'filename': 'filename'},\n",
       " 'Sfaf9423': {'name': '38605/M/1', 'filename': 'filename'},\n",
       " 'Sbc6ca2e': {'name': 'ADM 92/4', 'filename': 'filename'},\n",
       " 'Sd8ee8fb': {'name': 'Bristol Mercury', 'filename': 'filename'},\n",
       " 'Sffda2dd': {'name': 'Bristol Mirror', 'filename': 'filename'},\n",
       " 'Sf48563c': {'name': 'Cbox I.', 'filename': 'filename'},\n",
       " 'S520bca4': {'name': 'Cbox II.', 'filename': 'filename'},\n",
       " 'S1bd04bd': {'name': 'Digital Store 8805.e.15. DRT', 'filename': 'filename'},\n",
       " 'S556d438': {'name': 'DM162/8/2/5', 'filename': 'filename'},\n",
       " 'Sfa6490d': {'name': 'DM162/10/1', 'filename': 'filename'},\n",
       " 'Sbc19fd1': {'name': 'DM162/10/2', 'filename': 'filename'},\n",
       " 'S36aabcd': {'name': 'DM162/10/2a', 'filename': 'filename'},\n",
       " 'S0b11a65': {'name': 'DM162/10/2b', 'filename': 'filename'},\n",
       " 'S40bed3c': {'name': 'DM1038/2', 'filename': 'filename'},\n",
       " 'S87da328': {'name': 'DM1306/75', 'filename': 'filename'},\n",
       " 'S99c7d8b': {'name': 'DM1758/9/2/1', 'filename': 'filename'},\n",
       " 'S9e32523': {'name': 'DM1758/9/2/2', 'filename': 'filename'},\n",
       " 'Sab6bb8a': {'name': 'DM1758/9/2/3', 'filename': 'filename'},\n",
       " 'S7aedf3e': {'name': 'DM1758/9/2/4', 'filename': 'filename'},\n",
       " 'S7f78c85': {'name': 'FIELD I', 'filename': 'filename'},\n",
       " 'Sec4576a': {'name': 'FIELD II', 'filename': 'filename'},\n",
       " 'S0bc3bfa': {'name': 'Liverpool Mercury', 'filename': 'filename'},\n",
       " 'Sd823b80': {'name': 'Mechanics Magazine', 'filename': 'filename'},\n",
       " 'S35abce3': {'name': 'MS 1295', 'filename': 'filename'},\n",
       " 'Scfd29e1': {'name': 'PBA/Corp/E/3/19-20', 'filename': 'filename'},\n",
       " 'Saf3d94f': {'name': 'PBA/Corp/E/3/21_j', 'filename': 'filename'},\n",
       " 'Sb398147': {'name': 'RAIL 251/19', 'filename': 'filename'},\n",
       " 'S051865b': {'name': 'RAIL 251/20', 'filename': 'filename'},\n",
       " 'Sa7c357b': {'name': 'RAIL 251/21', 'filename': 'filename'},\n",
       " 'S3f25798': {'name': 'RAIL 250/64', 'filename': 'filename'},\n",
       " 'S93e3c47': {'name': 'RAIL 1149/3', 'filename': 'filename'},\n",
       " 'Secb846e': {'name': 'RAIL 1149/60', 'filename': 'filename'},\n",
       " 'Sf0b9b79': {'name': \"UCL 'Legacies' Database\", 'filename': 'filename'},\n",
       " 'S84a2108': {'name': 'Bristol Mirror 22.5.1840', 'filename': 'filename'},\n",
       " 'Sa98e096': {'name': 'DM162/10/1-121', 'filename': 'filename'},\n",
       " 'Sb770549': {'name': 'DM162/10/1-273', 'filename': 'filename'},\n",
       " 'S05c4239': {'name': 'DM162/10/1-211', 'filename': 'filename'},\n",
       " 'S8d880e2': {'name': 'Missing', 'filename': 'filename'},\n",
       " 'S57a9a36': {'name': 'DM162/10/1-272', 'filename': 'filename'},\n",
       " 'S63132b1': {'name': 'Liverpool Mercury 8.7.1836', 'filename': 'filename'},\n",
       " 'Sb6d5827': {'name': 'NA RAIL 251/19', 'filename': 'filename'},\n",
       " 'S6e0a058': {'name': '38605/A/3; NA RAIL 251/19-20', 'filename': 'filename'},\n",
       " 'S85ad9bc': {'name': 'RAIL 250/19', 'filename': 'filename'},\n",
       " 'S1b65d4f': {'name': 'RAIL 251/19-20', 'filename': 'filename'},\n",
       " 'S48d82f4': {'name': 'BCA 250/64', 'filename': 'filename'},\n",
       " 'Se66ba3c': {'name': 'NA RAIL 251/19-20', 'filename': 'filename'},\n",
       " 'S373373f': {'name': 'RAIL 241/19', 'filename': 'filename'},\n",
       " 'S1e4f496': {'name': 'DM162/10/1-121, 270, 273', 'filename': 'filename'},\n",
       " 'S0de748e': {'name': 'DM162/10/2-83', 'filename': 'filename'},\n",
       " 'S105699e': {'name': 'NA RAIL 250/64', 'filename': 'filename'},\n",
       " 'S854ae4c': {'name': 'DM1306/75-1,2,3,4,5', 'filename': 'filename'},\n",
       " 'Sc14d895': {'name': '0', 'filename': 'filename'},\n",
       " 'Scaa429a': {'name': '38605 /A/3', 'filename': 'filename'},\n",
       " 'Sfc9e04c': {'name': 'FIELD II-44', 'filename': 'filename'},\n",
       " 'Sbeb7626': {'name': 'FIELD I-42', 'filename': 'filename'},\n",
       " 'S936a0f7': {'name': 'RAIL/1149/3', 'filename': 'filename'},\n",
       " 'S41e4714': {'name': 'BCA PBA/Corp/E/3/21_j', 'filename': 'filename'},\n",
       " 'Sec9043c': {'name': '38065/A/3', 'filename': 'filename'},\n",
       " 'Sc493ca2': {'name': 'BCA 38605/A/3', 'filename': 'filename'},\n",
       " 'S513b210': {'name': 'RAIl 251/19-20', 'filename': 'filename'},\n",
       " 'Scb3a56c': {'name': 'FIELD I, 42', 'filename': 'filename'},\n",
       " 'S6eb7e7b': {'name': 'Bristol Mercury 6.4.39', 'filename': 'filename'},\n",
       " 'S5aa0bd9': {'name': 'DM1758/9/2/1-4', 'filename': 'filename'},\n",
       " 'S3db0a35': {'name': 'DM162/10/2/1-292, 342, 350, 365, 390, 397, 439',\n",
       "  'filename': 'filename'},\n",
       " 'S118e175': {'name': 'DM162/10/2b-13, 53, 236, 247,', 'filename': 'filename'},\n",
       " 'Sce47d5e': {'name': 'DM1758/9/2', 'filename': 'filename'},\n",
       " 'S6444963': {'name': 'DM162/10/2b-179, 180, 182, 190-1, 205, 223.',\n",
       "  'filename': 'filename'},\n",
       " 'Sd949232': {'name': 'DM162/10/2b-7', 'filename': 'filename'},\n",
       " 'S7151692': {'name': 'RAIL 1149/60 Prosp.', 'filename': 'filename'},\n",
       " 'S58e081e': {'name': 'Liverpool Mercury 8.7.1836 BCA PBA/Corp/E/3/21_j; Bristol Dock Co. Records',\n",
       "  'filename': 'filename'},\n",
       " 'S9bbe014': {'name': 'RAIL 1149/2-4', 'filename': 'filename'},\n",
       " 'S9ca2838': {'name': 'DM162/10/2b-175-77, 264-6.', 'filename': 'filename'},\n",
       " 'S0838976': {'name': 'DM162/10/2b-135-6', 'filename': 'filename'},\n",
       " 'S146c8b2': {'name': 'DM162/10/2b-96-7', 'filename': 'filename'},\n",
       " 'Sf0020e1': {'name': '96-7', 'filename': 'filename'},\n",
       " 'Saf46f92': {'name': 'Mechanics Magazine 10.9.1842', 'filename': 'filename'},\n",
       " 'S2c65263': {'name': 'DM162/10/1-336, 345', 'filename': 'filename'},\n",
       " 'S25dc296': {'name': 'DM162/10/2b-192-6, 199-200, 203, 248, 259',\n",
       "  'filename': 'filename'},\n",
       " 'S0cd9227': {'name': 'DM162/10/2b-110-111, 117, 269-70.',\n",
       "  'filename': 'filename'},\n",
       " 'Saf793c2': {'name': 'Cbox II-73', 'filename': 'filename'},\n",
       " 'S98a3fb7': {'name': 'DM162/10/2b-82, 94-5, 130, 166-7.',\n",
       "  'filename': 'filename'},\n",
       " 'Sc03f0b4': {'name': 'DM162/10/1-435', 'filename': 'filename'},\n",
       " 'S238f769': {'name': 'DM162/10/2b-13', 'filename': 'filename'},\n",
       " 'Sb935714': {'name': 'DM162/10/2b-183, 185', 'filename': 'filename'},\n",
       " 'S6385263': {'name': 'DM162/10/2b-183-4', 'filename': 'filename'},\n",
       " 'S9350199': {'name': 'CboxII. 73', 'filename': 'filename'},\n",
       " 'Sb4c768c': {'name': 'DM162/10/2b-212', 'filename': 'filename'},\n",
       " 'Se8c196e': {'name': 'DM162/10/2b-215, 216', 'filename': 'filename'},\n",
       " 'Sf1ce534': {'name': 'DM162/10/2b-13, 53, 235, 236, 267',\n",
       "  'filename': 'filename'},\n",
       " 'S324e339': {'name': 'DM162/10/2b-180, 182, 190, 191, 205, 223, 237,',\n",
       "  'filename': 'filename'},\n",
       " 'Sbc88f1a': {'name': 'DM1306/75-6,7,8,9,10,11,12', 'filename': 'filename'},\n",
       " 'S8fe4a58': {'name': 'DM162/10/2b-29, 50, 56, 100,101, 214-5',\n",
       "  'filename': 'filename'},\n",
       " 'S844645a': {'name': 'DM162/10/2b-7, 58', 'filename': 'filename'},\n",
       " 'S03f7340': {'name': 'DM162/10/2b-175, 176, 177, 244, 245',\n",
       "  'filename': 'filename'},\n",
       " 'S5426c73': {'name': 'DM162/10/2b-96, 97, 269, 270', 'filename': 'filename'},\n",
       " 'S883ce74': {'name': 'DM162/10/2b-192, 193, 194, 195, 196, 199, 200, 203, 248, 259',\n",
       "  'filename': 'filename'},\n",
       " 'S7fe0ef2': {'name': 'DM162/10/2b-110, 111, 117, 214, 269, 270',\n",
       "  'filename': 'filename'},\n",
       " 'S7774262': {'name': 'DM162/10/2b-82, 94, 95, 130, 166, 167,',\n",
       "  'filename': 'filename'},\n",
       " 'Se09876b': {'name': 'DM162/10/1-436', 'filename': 'filename'},\n",
       " 'Sa5e12f5': {'name': 'DM162/10/2b-9, 10', 'filename': 'filename'},\n",
       " 'Sda1a17d': {'name': 'DM162/10/2b-183, 184,', 'filename': 'filename'},\n",
       " 'S473b043': {'name': 'DM162/10/2b-212, 240, 241, 269, 270, 271, 272',\n",
       "  'filename': 'filename'},\n",
       " 'S781c888': {'name': 'DM162/10/2b-215, 216, 238, 258, 260',\n",
       "  'filename': 'filename'},\n",
       " 'S713c706': {'name': 'FIELD II-35', 'filename': 'filename'},\n",
       " 'Sca66bd5': {'name': 'DM162/10/2b-117', 'filename': 'filename'},\n",
       " 'S8cfe8fd': {'name': 'CboxII.73', 'filename': 'filename'}}"
      ]
     },
     "execution_count": 13,
     "metadata": {},
     "output_type": "execute_result"
    }
   ],
   "source": [
    "sources = social.sources()\n",
    "sources.getRegistryForImages()"
   ]
  },
  {
   "cell_type": "markdown",
   "metadata": {},
   "source": [
    "### Output a JSON file for images of people or companies"
   ]
  },
  {
   "cell_type": "code",
   "execution_count": 18,
   "metadata": {},
   "outputs": [],
   "source": [
    "people = social.people()\n",
    "n = people.getAllForImages()\n",
    "\n",
    "businesses = social.businesses()\n",
    "b = businesses.getAllForImages()\n",
    "\n",
    "n.update(b)\n",
    "\n",
    "with open(\"entityImageFilenames.json\", \"w\") as f:\n",
    "    json.dump(n, f, indent=4)"
   ]
  },
  {
   "cell_type": "code",
   "execution_count": 19,
   "metadata": {},
   "outputs": [
    {
     "data": {
      "text/plain": [
       "{'P2d8d289': {'name': 'Captain RN Walcott', 'filename': 'filename'},\n",
       " 'Pc6f3987': {'name': 'Captain Superintendent RN Jackson',\n",
       "  'filename': 'filename'},\n",
       " 'P96a0d8e': {'name': 'Robert Young', 'filename': 'filename'},\n",
       " 'Pc9139d0': {'name': 'Robert Stephenson', 'filename': 'filename'},\n",
       " 'Pb23052d': {'name': 'Oliver Lang', 'filename': 'filename'},\n",
       " 'P7848a34': {'name': 'William Edward Acraman', 'filename': 'filename'},\n",
       " 'Pa7cd7a8': {'name': 'William Bruce Adair', 'filename': 'filename'},\n",
       " 'P94becd2': {'name': 'Thomas Baynton', 'filename': 'filename'},\n",
       " 'P793c713': {'name': 'Robert Bright', 'filename': 'filename'},\n",
       " 'Pb0eb0a7': {'name': 'Isambard Kingdom Brunel', 'filename': 'filename'},\n",
       " 'P446dea5': {'name': 'Henry Bush', 'filename': 'filename'},\n",
       " 'P5f302ca': {'name': 'W. H. Castle', 'filename': 'filename'},\n",
       " 'Pa6b1931': {'name': 'J. B. Clarke', 'filename': 'filename'},\n",
       " 'Pe9445aa': {'name': 'Christopher Claxton', 'filename': 'filename'},\n",
       " 'P45019f8': {'name': 'Joseph Cookson', 'filename': 'filename'},\n",
       " 'Pa5c0c5c': {'name': 'Thomas Cruttwell', 'filename': 'filename'},\n",
       " 'Pd98562a': {'name': 'James Cunningham', 'filename': 'filename'},\n",
       " 'Padd59a0': {'name': 'Mr. Dowell', 'filename': 'filename'},\n",
       " 'P0695cee': {'name': 'F. H. Falkner', 'filename': 'filename'},\n",
       " 'Pe4f2c65': {'name': 'Joshua Field', 'filename': 'filename'},\n",
       " 'Pbc465b2': {'name': 'Dr. Charles Fox', 'filename': 'filename'},\n",
       " 'P0a04f00': {'name': 'Charles Fripp', 'filename': 'filename'},\n",
       " 'Pf58f637': {'name': 'George H. Gibbs', 'filename': 'filename'},\n",
       " 'P3e5717f': {'name': 'Henry G. Godwin', 'filename': 'filename'},\n",
       " 'P11bc75e': {'name': 'Thomas Guppy', 'filename': 'filename'},\n",
       " 'Pdc69246': {'name': 'Samuel Hall', 'filename': 'filename'},\n",
       " 'P1cd23cc': {'name': 'John Hare', 'filename': 'filename'},\n",
       " 'P52064b1': {'name': 'John Harford', 'filename': 'filename'},\n",
       " 'Pb452c36': {'name': 'Richard Irvin', 'filename': 'filename'},\n",
       " 'Pf4f3268': {'name': 'Thomas Kingsbury', 'filename': 'filename'},\n",
       " 'P19e6bfa': {'name': 'Thomas Kington', 'filename': 'filename'},\n",
       " 'P0e932a4': {'name': 'Mr. Levy', 'filename': 'filename'},\n",
       " 'P335a0ce': {'name': 'Miss. Lucas', 'filename': 'filename'},\n",
       " 'P96bc572': {'name': 'Samuel Lucas', 'filename': 'filename'},\n",
       " 'P91cd0c3': {'name': 'Peter Maze (the elder)', 'filename': 'filename'},\n",
       " 'P91d028d': {'name': 'Missing', 'filename': 'filename'},\n",
       " 'Pee48226': {'name': 'John Moxham', 'filename': 'filename'},\n",
       " 'P4515e4a': {'name': 'John Edye', 'filename': 'filename'},\n",
       " 'Pb9477a5': {'name': 'Mr. Harding', 'filename': 'filename'},\n",
       " 'Paa05b7a': {'name': 'William Patterson', 'filename': 'filename'},\n",
       " 'P81b3673': {'name': 'Thomas Pycroft', 'filename': 'filename'},\n",
       " 'P24a866b': {'name': 'Richard Robinson', 'filename': 'filename'},\n",
       " 'P7a26ddd': {'name': 'Robert Scott', 'filename': 'filename'},\n",
       " 'Pd35f7cb': {'name': 'John Stafford', 'filename': 'filename'},\n",
       " 'P03c5615': {'name': 'John Taylor', 'filename': 'filename'},\n",
       " 'P7e1aa9d': {'name': 'Rev. Taylor', 'filename': 'filename'},\n",
       " 'P2eebd62': {'name': 'John Vining', 'filename': 'filename'},\n",
       " 'Pe4d9b40': {'name': 'Mr. Warr', 'filename': 'filename'},\n",
       " 'P4fb278e': {'name': 'Thomas Boneville Were', 'filename': 'filename'},\n",
       " 'P124b963': {'name': 'John Winwood', 'filename': 'filename'},\n",
       " 'P9724ab8': {'name': 'George Lunnell', 'filename': 'filename'},\n",
       " 'Pe115e94': {'name': 'Robert Stepehnson', 'filename': 'filename'},\n",
       " 'P1da6071': {'name': 'William Symonds', 'filename': 'filename'},\n",
       " 'P2e095ad': {'name': 'Thomas Kington Bayly', 'filename': 'filename'},\n",
       " 'P606b87b': {'name': 'William Claxton', 'filename': 'filename'},\n",
       " 'Pd418b6a': {'name': 'Captain Crozier', 'filename': 'filename'},\n",
       " 'P39c7d4e': {'name': 'Mr. Stedder', 'filename': 'filename'},\n",
       " 'P9417926': {'name': 'Mr. Smith', 'filename': 'filename'},\n",
       " 'Pf289ca3': {'name': 'Francis Humphrys', 'filename': 'filename'},\n",
       " 'P617bdec': {'name': 'J. Bates', 'filename': 'filename'},\n",
       " 'P643be6b': {'name': 'G. Norman', 'filename': 'filename'},\n",
       " 'P9fd15a1': {'name': 'W. Morgan', 'filename': 'filename'},\n",
       " 'Pae608ee': {'name': 'J. P. Bartrun', 'filename': 'filename'},\n",
       " 'P2125a0a': {'name': 'A. P. Johnson', 'filename': 'filename'},\n",
       " 'Pc1efbac': {'name': 'John Grantham', 'filename': 'filename'},\n",
       " 'P14a529a': {'name': 'Bryan Donkin', 'filename': 'filename'},\n",
       " 'P62b4d5d': {'name': 'William Edward Parry', 'filename': 'filename'},\n",
       " 'P4375889': {'name': 'Francis Petit Smith', 'filename': 'filename'},\n",
       " 'P81fb965': {'name': 'Captain Ed R. N. Chappel', 'filename': 'filename'},\n",
       " 'P510e458': {'name': 'William Fairbairn', 'filename': 'filename'},\n",
       " 'Pf59158a': {'name': 'George Rennie', 'filename': 'filename'},\n",
       " 'P5a829bc': {'name': 'John Barnes', 'filename': 'filename'},\n",
       " 'Pea29c9b': {'name': 'John Laird', 'filename': 'filename'},\n",
       " 'Pd4ecd82': {'name': 'John William Miles', 'filename': 'filename'},\n",
       " 'Pe58081e': {'name': 'John Barrow', 'filename': 'filename'},\n",
       " 'Pb65720f': {'name': 'W. Hamilton', 'filename': 'filename'},\n",
       " 'B338d35d': {'name': 'Hoare & Barnetts', 'filename': 'filename'},\n",
       " 'B7fe7541': {'name': 'Miles & Harford', 'filename': 'filename'},\n",
       " 'Ba48c2bf': {'name': 'Osborne, Ward & Sons', 'filename': 'filename'},\n",
       " 'Beddbb76': {'name': 'Swain, Stevens & Co.', 'filename': 'filename'},\n",
       " 'B45df536': {'name': 'Seaward & Co.', 'filename': 'filename'}}"
      ]
     },
     "execution_count": 19,
     "metadata": {},
     "output_type": "execute_result"
    }
   ],
   "source": [
    "n"
   ]
  },
  {
   "cell_type": "code",
   "execution_count": null,
   "metadata": {},
   "outputs": [],
   "source": []
  }
 ],
 "metadata": {
  "kernelspec": {
   "display_name": "Python 3",
   "language": "python",
   "name": "python3"
  },
  "language_info": {
   "codemirror_mode": {
    "name": "ipython",
    "version": 3
   },
   "file_extension": ".py",
   "mimetype": "text/x-python",
   "name": "python",
   "nbconvert_exporter": "python",
   "pygments_lexer": "ipython3",
   "version": "3.8.2"
  }
 },
 "nbformat": 4,
 "nbformat_minor": 2
}
